{
 "cells": [
  {
   "cell_type": "code",
   "execution_count": 1,
   "metadata": {},
   "outputs": [],
   "source": [
    "import numpy as np\n",
    "import pandas as pd\n",
    "import matplotlib.pyplot as plt\n",
    "import seaborn as sns\n",
    "from datetime import datetime, date\n",
    "from dateutil.relativedelta import relativedelta\n",
    "from sklearn.preprocessing import StandardScaler\n",
    "from math import ceil\n",
    "\n",
    "#from keras.callbacks import LambdaCallback\n",
    "#from keras.models import Sequential\n",
    "#from keras.layers import Dense, Activation\n",
    "#from keras.layers import LSTM\n",
    "#from keras.optimizers import RMSprop\n",
    "\n",
    "%matplotlib inline"
   ]
  },
  {
   "cell_type": "code",
   "execution_count": 2,
   "metadata": {},
   "outputs": [
    {
     "name": "stdout",
     "output_type": "stream",
     "text": [
      "Checking whether there is an H2O instance running at http://localhost:54321 ..... not found.\n",
      "Attempting to start a local H2O server...\n",
      "; Java HotSpot(TM) 64-Bit Server VM (build 25.261-b12, mixed mode)\n",
      "  Starting server from C:\\Users\\Cooper\\anaconda3\\lib\\site-packages\\h2o\\backend\\bin\\h2o.jar\n",
      "  Ice root: C:\\Users\\Cooper\\AppData\\Local\\Temp\\tmpff7c1_g5\n",
      "  JVM stdout: C:\\Users\\Cooper\\AppData\\Local\\Temp\\tmpff7c1_g5\\h2o_Cooper_started_from_python.out\n",
      "  JVM stderr: C:\\Users\\Cooper\\AppData\\Local\\Temp\\tmpff7c1_g5\\h2o_Cooper_started_from_python.err\n",
      "  Server is running at http://127.0.0.1:54321\n",
      "Connecting to H2O server at http://127.0.0.1:54321 ... successful.\n"
     ]
    },
    {
     "data": {
      "text/html": [
       "<div style=\"overflow:auto\"><table style=\"width:50%\"><tr><td>H2O_cluster_uptime:</td>\n",
       "<td>02 secs</td></tr>\n",
       "<tr><td>H2O_cluster_timezone:</td>\n",
       "<td>America/Chicago</td></tr>\n",
       "<tr><td>H2O_data_parsing_timezone:</td>\n",
       "<td>UTC</td></tr>\n",
       "<tr><td>H2O_cluster_version:</td>\n",
       "<td>3.30.1.2</td></tr>\n",
       "<tr><td>H2O_cluster_version_age:</td>\n",
       "<td>3 days </td></tr>\n",
       "<tr><td>H2O_cluster_name:</td>\n",
       "<td>H2O_from_python_Cooper_eaisuf</td></tr>\n",
       "<tr><td>H2O_cluster_total_nodes:</td>\n",
       "<td>1</td></tr>\n",
       "<tr><td>H2O_cluster_free_memory:</td>\n",
       "<td>3.547 Gb</td></tr>\n",
       "<tr><td>H2O_cluster_total_cores:</td>\n",
       "<td>8</td></tr>\n",
       "<tr><td>H2O_cluster_allowed_cores:</td>\n",
       "<td>8</td></tr>\n",
       "<tr><td>H2O_cluster_status:</td>\n",
       "<td>accepting new members, healthy</td></tr>\n",
       "<tr><td>H2O_connection_url:</td>\n",
       "<td>http://127.0.0.1:54321</td></tr>\n",
       "<tr><td>H2O_connection_proxy:</td>\n",
       "<td>{\"http\": null, \"https\": null}</td></tr>\n",
       "<tr><td>H2O_internal_security:</td>\n",
       "<td>False</td></tr>\n",
       "<tr><td>H2O_API_Extensions:</td>\n",
       "<td>Amazon S3, Algos, AutoML, Core V3, TargetEncoder, Core V4</td></tr>\n",
       "<tr><td>Python_version:</td>\n",
       "<td>3.7.6 final</td></tr></table></div>"
      ],
      "text/plain": [
       "--------------------------  ---------------------------------------------------------\n",
       "H2O_cluster_uptime:         02 secs\n",
       "H2O_cluster_timezone:       America/Chicago\n",
       "H2O_data_parsing_timezone:  UTC\n",
       "H2O_cluster_version:        3.30.1.2\n",
       "H2O_cluster_version_age:    3 days\n",
       "H2O_cluster_name:           H2O_from_python_Cooper_eaisuf\n",
       "H2O_cluster_total_nodes:    1\n",
       "H2O_cluster_free_memory:    3.547 Gb\n",
       "H2O_cluster_total_cores:    8\n",
       "H2O_cluster_allowed_cores:  8\n",
       "H2O_cluster_status:         accepting new members, healthy\n",
       "H2O_connection_url:         http://127.0.0.1:54321\n",
       "H2O_connection_proxy:       {\"http\": null, \"https\": null}\n",
       "H2O_internal_security:      False\n",
       "H2O_API_Extensions:         Amazon S3, Algos, AutoML, Core V3, TargetEncoder, Core V4\n",
       "Python_version:             3.7.6 final\n",
       "--------------------------  ---------------------------------------------------------"
      ]
     },
     "metadata": {},
     "output_type": "display_data"
    },
    {
     "name": "stdout",
     "output_type": "stream",
     "text": [
      "Parse progress: |█████████████████████████████████████████████████████████| 100%\n",
      "AutoML progress: |\n",
      "15:30:40.491: AutoML: XGBoost is not available; skipping it.\n",
      "\n",
      "████████████████████████████████████████████████████████| 100%\n"
     ]
    }
   ],
   "source": [
    "#AUTOML CODE\n",
    "#Download 64bit java\n",
    "import h2o\n",
    "from h2o.automl import H2OAutoML\n",
    "\n",
    "h2o.init()\n",
    "train_f = h2o.import_file('sales_train.csv')\n",
    "aml = H2OAutoML(max_runtime_secs = 600)\n",
    "aml.train(y = \"item_cnt_day\", training_frame = train_f)\n",
    "lb = aml.leaderboard"
   ]
  },
  {
   "cell_type": "code",
   "execution_count": 3,
   "metadata": {},
   "outputs": [
    {
     "data": {
      "text/html": [
       "<table>\n",
       "<thead>\n",
       "<tr><th>model_id                                           </th><th style=\"text-align: right;\">  mean_residual_deviance</th><th style=\"text-align: right;\">   rmse</th><th style=\"text-align: right;\">    mse</th><th style=\"text-align: right;\">     mae</th><th style=\"text-align: right;\">  rmsle</th></tr>\n",
       "</thead>\n",
       "<tbody>\n",
       "<tr><td>StackedEnsemble_AllModels_AutoML_20200907_153040   </td><td style=\"text-align: right;\">                 5.61258</td><td style=\"text-align: right;\">2.36909</td><td style=\"text-align: right;\">5.61258</td><td style=\"text-align: right;\">0.338799</td><td style=\"text-align: right;\">    nan</td></tr>\n",
       "<tr><td>StackedEnsemble_BestOfFamily_AutoML_20200907_153040</td><td style=\"text-align: right;\">                 5.7026 </td><td style=\"text-align: right;\">2.38801</td><td style=\"text-align: right;\">5.7026 </td><td style=\"text-align: right;\">0.348944</td><td style=\"text-align: right;\">    nan</td></tr>\n",
       "<tr><td>GBM_grid__1_AutoML_20200907_153040_model_1         </td><td style=\"text-align: right;\">                 5.88079</td><td style=\"text-align: right;\">2.42503</td><td style=\"text-align: right;\">5.88079</td><td style=\"text-align: right;\">0.3494  </td><td style=\"text-align: right;\">    nan</td></tr>\n",
       "<tr><td>GBM_4_AutoML_20200907_153040                       </td><td style=\"text-align: right;\">                 6.15596</td><td style=\"text-align: right;\">2.48112</td><td style=\"text-align: right;\">6.15596</td><td style=\"text-align: right;\">0.386622</td><td style=\"text-align: right;\">    nan</td></tr>\n",
       "<tr><td>GBM_3_AutoML_20200907_153040                       </td><td style=\"text-align: right;\">                 6.19297</td><td style=\"text-align: right;\">2.48857</td><td style=\"text-align: right;\">6.19297</td><td style=\"text-align: right;\">0.384552</td><td style=\"text-align: right;\">    nan</td></tr>\n",
       "<tr><td>DRF_1_AutoML_20200907_153040                       </td><td style=\"text-align: right;\">                 6.24194</td><td style=\"text-align: right;\">2.49839</td><td style=\"text-align: right;\">6.24194</td><td style=\"text-align: right;\">0.348194</td><td style=\"text-align: right;\">    nan</td></tr>\n",
       "<tr><td>GBM_2_AutoML_20200907_153040                       </td><td style=\"text-align: right;\">                 6.25963</td><td style=\"text-align: right;\">2.50192</td><td style=\"text-align: right;\">6.25963</td><td style=\"text-align: right;\">0.389541</td><td style=\"text-align: right;\">    nan</td></tr>\n",
       "<tr><td>GBM_1_AutoML_20200907_153040                       </td><td style=\"text-align: right;\">                 6.3449 </td><td style=\"text-align: right;\">2.51891</td><td style=\"text-align: right;\">6.3449 </td><td style=\"text-align: right;\">0.391355</td><td style=\"text-align: right;\">    nan</td></tr>\n",
       "<tr><td>GBM_5_AutoML_20200907_153040                       </td><td style=\"text-align: right;\">                 6.34514</td><td style=\"text-align: right;\">2.51896</td><td style=\"text-align: right;\">6.34514</td><td style=\"text-align: right;\">0.3954  </td><td style=\"text-align: right;\">    nan</td></tr>\n",
       "<tr><td>GBM_grid__1_AutoML_20200907_153040_model_2         </td><td style=\"text-align: right;\">                 6.54839</td><td style=\"text-align: right;\">2.55898</td><td style=\"text-align: right;\">6.54839</td><td style=\"text-align: right;\">0.398741</td><td style=\"text-align: right;\">    nan</td></tr>\n",
       "</tbody>\n",
       "</table>"
      ]
     },
     "metadata": {},
     "output_type": "display_data"
    },
    {
     "data": {
      "text/plain": []
     },
     "execution_count": 3,
     "metadata": {},
     "output_type": "execute_result"
    }
   ],
   "source": [
    "lb"
   ]
  },
  {
   "cell_type": "code",
   "execution_count": 2,
   "metadata": {},
   "outputs": [],
   "source": [
    "#Read in .csv files into pandas dataframes\n",
    "train       = pd.read_csv('sales_train.csv')\n",
    "test        = pd.read_csv('test.csv')\n",
    "submission  = pd.read_csv('sample_submission.csv')\n",
    "items       = pd.read_csv('items.csv')\n",
    "item_cats   = pd.read_csv('item_categories.csv')\n",
    "shops       = pd.read_csv('shops.csv')"
   ]
  },
  {
   "cell_type": "code",
   "execution_count": 3,
   "metadata": {},
   "outputs": [
    {
     "name": "stdout",
     "output_type": "stream",
     "text": [
      "----------Top-5- Record----------\n",
      "         date  date_block_num  shop_id  item_id  item_price  item_cnt_day\n",
      "0  02.01.2013               0       59    22154      999.00           1.0\n",
      "1  03.01.2013               0       25     2552      899.00           1.0\n",
      "2  05.01.2013               0       25     2552      899.00          -1.0\n",
      "3  06.01.2013               0       25     2554     1709.05           1.0\n",
      "4  15.01.2013               0       25     2555     1099.00           1.0\n",
      "-----------Information-----------\n",
      "<class 'pandas.core.frame.DataFrame'>\n",
      "RangeIndex: 2935849 entries, 0 to 2935848\n",
      "Data columns (total 6 columns):\n",
      " #   Column          Dtype  \n",
      "---  ------          -----  \n",
      " 0   date            object \n",
      " 1   date_block_num  int64  \n",
      " 2   shop_id         int64  \n",
      " 3   item_id         int64  \n",
      " 4   item_price      float64\n",
      " 5   item_cnt_day    float64\n",
      "dtypes: float64(2), int64(3), object(1)\n",
      "memory usage: 134.4+ MB\n",
      "None\n",
      "-----------Data Types-----------\n",
      "date               object\n",
      "date_block_num      int64\n",
      "shop_id             int64\n",
      "item_id             int64\n",
      "item_price        float64\n",
      "item_cnt_day      float64\n",
      "dtype: object\n",
      "----------Missing value-----------\n",
      "date              0\n",
      "date_block_num    0\n",
      "shop_id           0\n",
      "item_id           0\n",
      "item_price        0\n",
      "item_cnt_day      0\n",
      "dtype: int64\n",
      "----------Null value-----------\n",
      "date              0\n",
      "date_block_num    0\n",
      "shop_id           0\n",
      "item_id           0\n",
      "item_price        0\n",
      "item_cnt_day      0\n",
      "dtype: int64\n",
      "----------Shape of Data----------\n",
      "(2935849, 6)\n"
     ]
    }
   ],
   "source": [
    "#Metadata about the dataframes. Includes size of frame and size of entries\n",
    "print(\"----------Top-5- Record----------\")\n",
    "print(train.head(5))\n",
    "print(\"-----------Information-----------\")\n",
    "print(train.info())\n",
    "print(\"-----------Data Types-----------\")\n",
    "print(train.dtypes)\n",
    "print(\"----------Missing value-----------\")\n",
    "print(train.isnull().sum())\n",
    "print(\"----------Null value-----------\")\n",
    "print(train.isna().sum())\n",
    "print(\"----------Shape of Data----------\")\n",
    "print(train.shape)"
   ]
  },
  {
   "cell_type": "code",
   "execution_count": 49,
   "metadata": {},
   "outputs": [
    {
     "data": {
      "text/plain": [
       "19989"
      ]
     },
     "execution_count": 49,
     "metadata": {},
     "output_type": "execute_result"
    }
   ],
   "source": [
    "len(train['item_price'].value_counts())"
   ]
  },
  {
   "cell_type": "code",
   "execution_count": 7,
   "metadata": {},
   "outputs": [],
   "source": [
    "#Down casts the data entries from int64 to int32 and float64 to float32\n",
    "#This reduces the size of the records by almost half. (From 134mb to 61mb)\n",
    "def downcast_dtypes(df):\n",
    "    float_cols = [c for c in df if df[c].dtype == \"float64\"]\n",
    "    int_cols = [c for c in df if df[c].dtype in [\"int64\", \"int32\"]]\n",
    "    df[float_cols] = df[float_cols].astype(np.float32)\n",
    "    df[int_cols] = df[int_cols].astype(np.int16)\n",
    "    return df"
   ]
  },
  {
   "cell_type": "code",
   "execution_count": 8,
   "metadata": {},
   "outputs": [],
   "source": [
    "#Calls the downcasting function\n",
    "train = downcast_dtypes(train)"
   ]
  },
  {
   "cell_type": "code",
   "execution_count": 9,
   "metadata": {},
   "outputs": [
    {
     "name": "stdout",
     "output_type": "stream",
     "text": [
      "<class 'pandas.core.frame.DataFrame'>\n",
      "RangeIndex: 2935849 entries, 0 to 2935848\n",
      "Data columns (total 6 columns):\n",
      " #   Column          Dtype  \n",
      "---  ------          -----  \n",
      " 0   date            object \n",
      " 1   date_block_num  int16  \n",
      " 2   shop_id         int16  \n",
      " 3   item_id         int16  \n",
      " 4   item_price      float32\n",
      " 5   item_cnt_day    float32\n",
      "dtypes: float32(2), int16(3), object(1)\n",
      "memory usage: 61.6+ MB\n",
      "None\n"
     ]
    }
   ],
   "source": [
    "#Shows the new metadata of the frame\n",
    "print(train.info())"
   ]
  },
  {
   "cell_type": "code",
   "execution_count": 10,
   "metadata": {},
   "outputs": [],
   "source": [
    "last_date_num = train['date_block_num'][len(train)-1]\n",
    "\n",
    "# This array has to be changed later for all shops\n",
    "shop = [[0, 0, 0] for i in range(last_date_num)]\n",
    "    \n",
    "month_index = [0]\n",
    "\n",
    "shop_num = [6, 7, 10]\n",
    "\n",
    "# to get indices for every block month\n",
    "for i in range(len(train['date'])-1):\n",
    "    if train['date_block_num'][i+1] == 1 + train['date_block_num'][i]:\n",
    "        month_index.append(i+1)"
   ]
  },
  {
   "cell_type": "code",
   "execution_count": 11,
   "metadata": {},
   "outputs": [],
   "source": [
    "# to sum the num of items per shop for each month\n",
    "# apply for loop for later for all shops\n",
    "# this loop is only for 1 shop     \n",
    "for j in range(len(month_index)-1):\n",
    "    for k in range(month_index[j],month_index[j+1]):\n",
    "        for z in range(len(shop_num)):\n",
    "            if train['shop_id'][k] == shop_num[z]:\n",
    "                shop[j][z] += train['item_cnt_day'][k]"
   ]
  },
  {
   "cell_type": "code",
   "execution_count": 12,
   "metadata": {},
   "outputs": [],
   "source": [
    "# represent data into x and y format for plotting\n",
    "# this only represents 3 shops data\n",
    "x = [i for i in range(1, last_date_num+1)]\n",
    "y6 = [j for i in range(33) for j in shop[i] if j == shop[i][0]]\n",
    "y7 = [j for i in range(33) for j in shop[i] if j == shop[i][1]]\n",
    "y10 = [j for i in range(33) for j in shop[i] if j == shop[i][2]]"
   ]
  },
  {
   "cell_type": "code",
   "execution_count": 13,
   "metadata": {},
   "outputs": [
    {
     "data": {
      "text/plain": [
       "Text(0, 0.5, 'Number of items')"
      ]
     },
     "execution_count": 13,
     "metadata": {},
     "output_type": "execute_result"
    },
    {
     "data": {
      "image/png": "[encoded data removed]",
      "text/plain": [
       "<Figure size 432x288 with 1 Axes>"
      ]
     },
     "metadata": {
      "needs_background": "light"
     },
     "output_type": "display_data"
    }
   ],
   "source": [
    "# plot the data\n",
    "plt.plot(x, y6, color = 'blue', label = 'shop 6')\n",
    "plt.plot(x, y7, color = 'orange', label = 'shop 7')\n",
    "plt.plot(x, y10, color = 'green', label = 'shop 10')\n",
    "plt.title('Line Graph representing the number of items sold per month per shop')\n",
    "plt.xlabel('Month')\n",
    "plt.ylabel('Number of items')"
   ]
  },
  {
   "cell_type": "code",
   "execution_count": 23,
   "metadata": {},
   "outputs": [
    {
     "data": {
      "text/plain": [
       "<matplotlib.axes._subplots.AxesSubplot at 0x1ea3ab78e88>"
      ]
     },
     "execution_count": 23,
     "metadata": {},
     "output_type": "execute_result"
    },
    {
     "data": {
      "image/png": "[encoded data removed]",
      "text/plain": [
       "<Figure size 864x288 with 1 Axes>"
      ]
     },
     "metadata": {
      "needs_background": "light"
     },
     "output_type": "display_data"
    },
    {
     "data": {
      "image/png": "[encoded data removed]",
      "text/plain": [
       "<Figure size 864x288 with 1 Axes>"
      ]
     },
     "metadata": {
      "needs_background": "light"
     },
     "output_type": "display_data"
    }
   ],
   "source": [
    "# Boxplot to show outliers in item_cnt_day and item_price\n",
    "plt.figure(figsize=(12,4))\n",
    "plt.xlim(-100, train.item_cnt_day.max()*1.2)\n",
    "sns.boxplot(x=train.item_cnt_day)\n",
    "\n",
    "plt.figure(figsize=(12,4))\n",
    "plt.xlim(train.item_price.min()*1.1, train.item_price.max()*1.2)\n",
    "sns.boxplot(x=train.item_price)"
   ]
  },
  {
   "cell_type": "code",
   "execution_count": 24,
   "metadata": {},
   "outputs": [],
   "source": [
    "#Removes outliers from train\n",
    "train = train[train.item_price < 90000]\n",
    "train = train[train.item_cnt_day < 999]"
   ]
  },
  {
   "cell_type": "code",
   "execution_count": 25,
   "metadata": {},
   "outputs": [
    {
     "data": {
      "text/plain": [
       "<matplotlib.axes._subplots.AxesSubplot at 0x1ea3aae3e88>"
      ]
     },
     "execution_count": 25,
     "metadata": {},
     "output_type": "execute_result"
    },
    {
     "data": {
      "image/png": "[encoded data removed]",
      "text/plain": [
       "<Figure size 864x288 with 1 Axes>"
      ]
     },
     "metadata": {
      "needs_background": "light"
     },
     "output_type": "display_data"
    },
    {
     "data": {
      "image/png": "[encoded data removed]",
      "text/plain": [
       "<Figure size 864x288 with 1 Axes>"
      ]
     },
     "metadata": {
      "needs_background": "light"
     },
     "output_type": "display_data"
    }
   ],
   "source": [
    "# Boxplot to show outliers removed from train in item_cnt_day and item_price\n",
    "plt.figure(figsize=(12,4))\n",
    "plt.xlim(-100, train.item_cnt_day.max()*1.2)\n",
    "sns.boxplot(x=train.item_cnt_day)\n",
    "\n",
    "plt.figure(figsize=(12,4))\n",
    "plt.xlim(train.item_price.min()* 1.1, train.item_price.max()*1.2)\n",
    "sns.boxplot(x=train.item_price)"
   ]
  },
  {
   "cell_type": "code",
   "execution_count": 29,
   "metadata": {},
   "outputs": [
    {
     "data": {
      "text/html": [
       "<div>\n",
       "<style scoped>\n",
       "    .dataframe tbody tr th:only-of-type {\n",
       "        vertical-align: middle;\n",
       "    }\n",
       "\n",
       "    .dataframe tbody tr th {\n",
       "        vertical-align: top;\n",
       "    }\n",
       "\n",
       "    .dataframe thead th {\n",
       "        text-align: right;\n",
       "    }\n",
       "</style>\n",
       "<table border=\"1\" class=\"dataframe\">\n",
       "  <thead>\n",
       "    <tr style=\"text-align: right;\">\n",
       "      <th></th>\n",
       "      <th>date</th>\n",
       "      <th>date_block_num</th>\n",
       "      <th>shop_id</th>\n",
       "      <th>item_id</th>\n",
       "      <th>item_price</th>\n",
       "      <th>item_cnt_day</th>\n",
       "    </tr>\n",
       "  </thead>\n",
       "  <tbody>\n",
       "    <tr>\n",
       "      <th>484683</th>\n",
       "      <td>15.05.2013</td>\n",
       "      <td>4</td>\n",
       "      <td>32</td>\n",
       "      <td>2973</td>\n",
       "      <td>-1.0</td>\n",
       "      <td>1.0</td>\n",
       "    </tr>\n",
       "  </tbody>\n",
       "</table>\n",
       "</div>"
      ],
      "text/plain": [
       "              date  date_block_num  shop_id  item_id  item_price  item_cnt_day\n",
       "484683  15.05.2013               4       32     2973        -1.0           1.0"
      ]
     },
     "execution_count": 29,
     "metadata": {},
     "output_type": "execute_result"
    }
   ],
   "source": [
    "#Shows the outlier item with a negative price\n",
    "train[train['item_price'] < 0]"
   ]
  },
  {
   "cell_type": "code",
   "execution_count": 30,
   "metadata": {},
   "outputs": [],
   "source": [
    "#replaces the negative price item with the median item_price of all items with the id of 2973 and in shop id 32\n",
    "median = train[(train.shop_id==32)&(train.item_id==2973)&(train.date_block_num==4)&(train.item_price>0)].item_price.median()"
   ]
  },
  {
   "cell_type": "code",
   "execution_count": 31,
   "metadata": {},
   "outputs": [
    {
     "data": {
      "text/plain": [
       "1874.0"
      ]
     },
     "execution_count": 31,
     "metadata": {},
     "output_type": "execute_result"
    }
   ],
   "source": [
    "#shows median of items with shop id of 32, item id of 2973, date_block of 4, price greater than 0\n",
    "median"
   ]
  },
  {
   "cell_type": "code",
   "execution_count": 55,
   "metadata": {},
   "outputs": [],
   "source": [
    "#sets the negative priced item to said median\n",
    "train.loc[train.item_price<0, 'item_price'] = median"
   ]
  },
  {
   "cell_type": "code",
   "execution_count": null,
   "metadata": {},
   "outputs": [],
   "source": []
  },
  {
   "cell_type": "code",
   "execution_count": null,
   "metadata": {},
   "outputs": [],
   "source": []
  },
  {
   "cell_type": "code",
   "execution_count": null,
   "metadata": {},
   "outputs": [],
   "source": []
  },
  {
   "cell_type": "code",
   "execution_count": null,
   "metadata": {},
   "outputs": [],
   "source": []
  },
  {
   "cell_type": "raw",
   "metadata": {},
   "source": []
  }
 ],
 "metadata": {
  "kernelspec": {
   "display_name": "Python 3",
   "language": "python",
   "name": "python3"
  },
  "language_info": {
   "codemirror_mode": {
    "name": "ipython",
    "version": 3
   },
   "file_extension": ".py",
   "mimetype": "text/x-python",
   "name": "python",
   "nbconvert_exporter": "python",
   "pygments_lexer": "ipython3",
   "version": "3.7.6"
  }
 },
 "nbformat": 4,
 "nbformat_minor": 4
}
