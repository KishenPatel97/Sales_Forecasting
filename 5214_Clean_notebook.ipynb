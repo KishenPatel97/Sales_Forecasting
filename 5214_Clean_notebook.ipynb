{
  "nbformat": 4,
  "nbformat_minor": 0,
  "metadata": {
    "kernelspec": {
      "display_name": "Python 3",
      "language": "python",
      "name": "python3"
    },
    "language_info": {
      "codemirror_mode": {
        "name": "ipython",
        "version": 3
      },
      "file_extension": ".py",
      "mimetype": "text/x-python",
      "name": "python",
      "nbconvert_exporter": "python",
      "pygments_lexer": "ipython3",
      "version": "3.7.7"
    },
    "colab": {
      "name": "5214_Clean_notebook.ipynb",
      "provenance": [],
      "include_colab_link": true
    }
  },
  "cells": [
    {
      "cell_type": "markdown",
      "metadata": {
        "id": "view-in-github",
        "colab_type": "text"
      },
      "source": [
        "<a href=\"https://colab.research.google.com/github/RCSnyder/Sales_Forecasting/blob/kishen-model/5214_Clean_notebook.ipynb\" target=\"_parent\"><img src=\"https://colab.research.google.com/assets/colab-badge.svg\" alt=\"Open In Colab\"/></a>"
      ]
    },
    {
      "cell_type": "code",
      "metadata": {
        "id": "5b8k9zOS_aBu",
        "colab_type": "code",
        "colab": {}
      },
      "source": [
        "import numpy as np\n",
        "import pandas as pd\n",
        "import matplotlib.pyplot as plt"
      ],
      "execution_count": 41,
      "outputs": []
    },
    {
      "cell_type": "code",
      "metadata": {
        "id": "dPE8ZMBe_aCB",
        "colab_type": "code",
        "colab": {}
      },
      "source": [
        "#Read in .csv files into pandas dataframes\n",
        "train_lag   = pd.read_csv('/content/drive/My Drive/CSCE 5214 Group #1 /new_month_group.csv')\n",
        "items       = pd.read_csv('/content/drive/My Drive/CSCE 5214 Group #1 /items.csv')"
      ],
      "execution_count": 44,
      "outputs": []
    },
    {
      "cell_type": "code",
      "metadata": {
        "id": "rQfHdEC5_aCO",
        "colab_type": "code",
        "colab": {}
      },
      "source": [
        "#Down casts the data entries from int64 to int32 and float64 to float32\n",
        "#This reduces the size of the records by almost half. (From 134mb to 61mb)\n",
        "def downcast_dtypes(df):\n",
        "    float_cols = [c for c in df if df[c].dtype == \"float64\"]\n",
        "    int_cols = [c for c in df if df[c].dtype in [\"int64\", \"int32\"]]\n",
        "    df[float_cols] = df[float_cols].astype(np.float32)\n",
        "    df[int_cols] = df[int_cols].astype(np.int16)\n",
        "    return df"
      ],
      "execution_count": 45,
      "outputs": []
    },
    {
      "cell_type": "code",
      "metadata": {
        "id": "a3_1dazv_aCW",
        "colab_type": "code",
        "colab": {}
      },
      "source": [
        "train_lag  = downcast_dtypes(train_lag)\n",
        "items      = downcast_dtypes(items)"
      ],
      "execution_count": 46,
      "outputs": []
    },
    {
      "cell_type": "code",
      "metadata": {
        "id": "GTFlT3hMJG6o",
        "colab_type": "code",
        "colab": {
          "base_uri": "https://localhost:8080/",
          "height": 424
        },
        "outputId": "0288d763-1a4e-4627-a38e-80cb48fff6eb"
      },
      "source": [
        "train_lag"
      ],
      "execution_count": 52,
      "outputs": [
        {
          "output_type": "execute_result",
          "data": {
            "text/html": [
              "<div>\n",
              "<style scoped>\n",
              "    .dataframe tbody tr th:only-of-type {\n",
              "        vertical-align: middle;\n",
              "    }\n",
              "\n",
              "    .dataframe tbody tr th {\n",
              "        vertical-align: top;\n",
              "    }\n",
              "\n",
              "    .dataframe thead th {\n",
              "        text-align: right;\n",
              "    }\n",
              "</style>\n",
              "<table border=\"1\" class=\"dataframe\">\n",
              "  <thead>\n",
              "    <tr style=\"text-align: right;\">\n",
              "      <th></th>\n",
              "      <th>month</th>\n",
              "      <th>shop_id</th>\n",
              "      <th>item_category_id</th>\n",
              "      <th>item_id</th>\n",
              "      <th>item_price</th>\n",
              "      <th>mon_lag_1</th>\n",
              "      <th>mon_lag_2</th>\n",
              "      <th>mon_lag_3</th>\n",
              "      <th>mon_lag_4</th>\n",
              "      <th>mon_lag_5</th>\n",
              "      <th>item_cnt_day</th>\n",
              "    </tr>\n",
              "  </thead>\n",
              "  <tbody>\n",
              "    <tr>\n",
              "      <th>316176</th>\n",
              "      <td>june</td>\n",
              "      <td>2</td>\n",
              "      <td>2</td>\n",
              "      <td>5572</td>\n",
              "      <td>1490.0</td>\n",
              "      <td>2.0</td>\n",
              "      <td>2.0</td>\n",
              "      <td>1.0</td>\n",
              "      <td>1.0</td>\n",
              "      <td>4.0</td>\n",
              "      <td>2.0</td>\n",
              "    </tr>\n",
              "    <tr>\n",
              "      <th>316177</th>\n",
              "      <td>june</td>\n",
              "      <td>2</td>\n",
              "      <td>2</td>\n",
              "      <td>5573</td>\n",
              "      <td>499.0</td>\n",
              "      <td>0.0</td>\n",
              "      <td>0.0</td>\n",
              "      <td>0.0</td>\n",
              "      <td>2.0</td>\n",
              "      <td>1.0</td>\n",
              "      <td>2.0</td>\n",
              "    </tr>\n",
              "    <tr>\n",
              "      <th>316178</th>\n",
              "      <td>june</td>\n",
              "      <td>2</td>\n",
              "      <td>2</td>\n",
              "      <td>5574</td>\n",
              "      <td>499.0</td>\n",
              "      <td>0.0</td>\n",
              "      <td>2.0</td>\n",
              "      <td>2.0</td>\n",
              "      <td>3.0</td>\n",
              "      <td>0.0</td>\n",
              "      <td>1.0</td>\n",
              "    </tr>\n",
              "    <tr>\n",
              "      <th>316179</th>\n",
              "      <td>june</td>\n",
              "      <td>2</td>\n",
              "      <td>2</td>\n",
              "      <td>5575</td>\n",
              "      <td>1090.0</td>\n",
              "      <td>0.0</td>\n",
              "      <td>3.0</td>\n",
              "      <td>1.0</td>\n",
              "      <td>5.0</td>\n",
              "      <td>1.0</td>\n",
              "      <td>1.0</td>\n",
              "    </tr>\n",
              "    <tr>\n",
              "      <th>316180</th>\n",
              "      <td>june</td>\n",
              "      <td>2</td>\n",
              "      <td>2</td>\n",
              "      <td>5625</td>\n",
              "      <td>2490.0</td>\n",
              "      <td>0.0</td>\n",
              "      <td>0.0</td>\n",
              "      <td>0.0</td>\n",
              "      <td>0.0</td>\n",
              "      <td>0.0</td>\n",
              "      <td>1.0</td>\n",
              "    </tr>\n",
              "    <tr>\n",
              "      <th>...</th>\n",
              "      <td>...</td>\n",
              "      <td>...</td>\n",
              "      <td>...</td>\n",
              "      <td>...</td>\n",
              "      <td>...</td>\n",
              "      <td>...</td>\n",
              "      <td>...</td>\n",
              "      <td>...</td>\n",
              "      <td>...</td>\n",
              "      <td>...</td>\n",
              "      <td>...</td>\n",
              "    </tr>\n",
              "    <tr>\n",
              "      <th>1739017</th>\n",
              "      <td>october</td>\n",
              "      <td>59</td>\n",
              "      <td>79</td>\n",
              "      <td>17717</td>\n",
              "      <td>1250.0</td>\n",
              "      <td>1.0</td>\n",
              "      <td>1.0</td>\n",
              "      <td>4.0</td>\n",
              "      <td>2.0</td>\n",
              "      <td>1.0</td>\n",
              "      <td>4.0</td>\n",
              "    </tr>\n",
              "    <tr>\n",
              "      <th>1739018</th>\n",
              "      <td>october</td>\n",
              "      <td>59</td>\n",
              "      <td>79</td>\n",
              "      <td>17717</td>\n",
              "      <td>1999.0</td>\n",
              "      <td>1.0</td>\n",
              "      <td>1.0</td>\n",
              "      <td>4.0</td>\n",
              "      <td>2.0</td>\n",
              "      <td>1.0</td>\n",
              "      <td>1.0</td>\n",
              "    </tr>\n",
              "    <tr>\n",
              "      <th>1739019</th>\n",
              "      <td>october</td>\n",
              "      <td>59</td>\n",
              "      <td>83</td>\n",
              "      <td>22087</td>\n",
              "      <td>119.0</td>\n",
              "      <td>3.0</td>\n",
              "      <td>2.0</td>\n",
              "      <td>5.0</td>\n",
              "      <td>1.0</td>\n",
              "      <td>2.0</td>\n",
              "      <td>6.0</td>\n",
              "    </tr>\n",
              "    <tr>\n",
              "      <th>1739020</th>\n",
              "      <td>october</td>\n",
              "      <td>59</td>\n",
              "      <td>83</td>\n",
              "      <td>22088</td>\n",
              "      <td>119.0</td>\n",
              "      <td>1.0</td>\n",
              "      <td>7.0</td>\n",
              "      <td>7.0</td>\n",
              "      <td>4.0</td>\n",
              "      <td>3.0</td>\n",
              "      <td>2.0</td>\n",
              "    </tr>\n",
              "    <tr>\n",
              "      <th>1739021</th>\n",
              "      <td>october</td>\n",
              "      <td>59</td>\n",
              "      <td>83</td>\n",
              "      <td>22091</td>\n",
              "      <td>179.0</td>\n",
              "      <td>3.0</td>\n",
              "      <td>0.0</td>\n",
              "      <td>0.0</td>\n",
              "      <td>0.0</td>\n",
              "      <td>0.0</td>\n",
              "      <td>1.0</td>\n",
              "    </tr>\n",
              "  </tbody>\n",
              "</table>\n",
              "<p>1422846 rows × 11 columns</p>\n",
              "</div>"
            ],
            "text/plain": [
              "           month  shop_id  item_category_id  ...  mon_lag_4  mon_lag_5  item_cnt_day\n",
              "316176      june        2                 2  ...        1.0        4.0           2.0\n",
              "316177      june        2                 2  ...        2.0        1.0           2.0\n",
              "316178      june        2                 2  ...        3.0        0.0           1.0\n",
              "316179      june        2                 2  ...        5.0        1.0           1.0\n",
              "316180      june        2                 2  ...        0.0        0.0           1.0\n",
              "...          ...      ...               ...  ...        ...        ...           ...\n",
              "1739017  october       59                79  ...        2.0        1.0           4.0\n",
              "1739018  october       59                79  ...        2.0        1.0           1.0\n",
              "1739019  october       59                83  ...        1.0        2.0           6.0\n",
              "1739020  october       59                83  ...        4.0        3.0           2.0\n",
              "1739021  october       59                83  ...        0.0        0.0           1.0\n",
              "\n",
              "[1422846 rows x 11 columns]"
            ]
          },
          "metadata": {
            "tags": []
          },
          "execution_count": 52
        }
      ]
    },
    {
      "cell_type": "code",
      "metadata": {
        "id": "T2oD6Zf4_aCy",
        "colab_type": "code",
        "colab": {}
      },
      "source": [
        "train_lag = train_lag.dropna()\n",
        "train_lag.drop(labels=['date_block_num'], axis=1, inplace = True)"
      ],
      "execution_count": 51,
      "outputs": []
    },
    {
      "cell_type": "code",
      "metadata": {
        "id": "atd8sOZz_aC4",
        "colab_type": "code",
        "colab": {}
      },
      "source": [
        "# stores all feature columns in the x variable, and stores the target variable as the last column in y variable\n",
        "x = train_lag.iloc[:, :-1].values\n",
        "y = train_lag.iloc[:,-1].values"
      ],
      "execution_count": 53,
      "outputs": []
    },
    {
      "cell_type": "code",
      "metadata": {
        "id": "Hv5Ki6gO_aC9",
        "colab_type": "code",
        "colab": {}
      },
      "source": [
        "# Encoding categorical data\n",
        "# provides a value to data that can be then used in regression equations, eg. Friday = 1 etc.\n",
        "from sklearn.compose import ColumnTransformer\n",
        "from sklearn.preprocessing import OneHotEncoder\n",
        "\n",
        "ct = ColumnTransformer([('encoder', OneHotEncoder(), [0, 1, 2, 3])], remainder = 'passthrough')\n",
        "x = ct.fit_transform(x)"
      ],
      "execution_count": 54,
      "outputs": []
    },
    {
      "cell_type": "code",
      "metadata": {
        "id": "5eNaMxDG_aDE",
        "colab_type": "code",
        "colab": {}
      },
      "source": [
        "# split data set into training set and testing set\n",
        "from sklearn.model_selection import train_test_split\n",
        "\n",
        "X_train, X_test, Y_train, Y_test = train_test_split(x, y, test_size = 0.2, random_state = 0)"
      ],
      "execution_count": 55,
      "outputs": []
    },
    {
      "cell_type": "code",
      "metadata": {
        "id": "XoVq4T-e_aDK",
        "colab_type": "code",
        "colab": {
          "base_uri": "https://localhost:8080/",
          "height": 35
        },
        "outputId": "31d61370-0a7a-4c48-f3d7-b4affeb3fc9b"
      },
      "source": [
        "# fitting multiple linear regression to the training set\n",
        "from sklearn.linear_model import LinearRegression\n",
        "\n",
        "regressor = LinearRegression()\n",
        "regressor.fit(X_train, Y_train)\n",
        "\n",
        "# prediction of test split from original data, train_grouped_month\n",
        "y_prediction = regressor.predict(X_test)\n",
        "\n",
        "# The output of the this is the r squared\n",
        "regressor.score(X_test, Y_test)"
      ],
      "execution_count": 56,
      "outputs": [
        {
          "output_type": "execute_result",
          "data": {
            "text/plain": [
              "0.4795410598431261"
            ]
          },
          "metadata": {
            "tags": []
          },
          "execution_count": 56
        }
      ]
    },
    {
      "cell_type": "code",
      "metadata": {
        "id": "puZQndwx_aDS",
        "colab_type": "code",
        "colab": {
          "base_uri": "https://localhost:8080/",
          "height": 949
        },
        "outputId": "725bd23a-2f03-48c9-a24a-f88f7d20429b"
      },
      "source": [
        "#AUTOML CODE\n",
        "#Download 64bit java\n",
        "!pip install h2o\n",
        "import h2o\n",
        "from h2o.automl import H2OAutoML\n",
        "\n",
        "h2o.init()\n",
        "train_f = h2o.H2OFrame(train_lag)\n",
        "\n",
        "splits = train_f.split_frame(ratios = [0.8], seed = 1)\n",
        "train_split = splits[0]\n",
        "test_split = splits[1]\n",
        "\n",
        "aml = H2OAutoML(max_runtime_secs = 1000, seed = 1, project_name = \"sales_forecasting\")\n",
        "aml.train(y = \"item_cnt_day\", training_frame = train_split, leaderboard_frame = test_split)\n",
        "lb = aml.leaderboard"
      ],
      "execution_count": 58,
      "outputs": [
        {
          "output_type": "stream",
          "text": [
            "Collecting h2o\n",
            "\u001b[?25l  Downloading https://files.pythonhosted.org/packages/b7/83/53eb19ffd83e99ccd77bd1ee9f87b2a663f75f5cb725cdac3eaa004de197/h2o-3.30.1.2.tar.gz (129.4MB)\n",
            "\u001b[K     |████████████████████████████████| 129.4MB 86kB/s \n",
            "\u001b[?25hRequirement already satisfied: requests in /usr/local/lib/python3.6/dist-packages (from h2o) (2.23.0)\n",
            "Requirement already satisfied: tabulate in /usr/local/lib/python3.6/dist-packages (from h2o) (0.8.7)\n",
            "Requirement already satisfied: future in /usr/local/lib/python3.6/dist-packages (from h2o) (0.16.0)\n",
            "Collecting colorama>=0.3.8\n",
            "  Downloading https://files.pythonhosted.org/packages/c9/dc/45cdef1b4d119eb96316b3117e6d5708a08029992b2fee2c143c7a0a5cc5/colorama-0.4.3-py2.py3-none-any.whl\n",
            "Requirement already satisfied: idna<3,>=2.5 in /usr/local/lib/python3.6/dist-packages (from requests->h2o) (2.10)\n",
            "Requirement already satisfied: urllib3!=1.25.0,!=1.25.1,<1.26,>=1.21.1 in /usr/local/lib/python3.6/dist-packages (from requests->h2o) (1.24.3)\n",
            "Requirement already satisfied: chardet<4,>=3.0.2 in /usr/local/lib/python3.6/dist-packages (from requests->h2o) (3.0.4)\n",
            "Requirement already satisfied: certifi>=2017.4.17 in /usr/local/lib/python3.6/dist-packages (from requests->h2o) (2020.6.20)\n",
            "Building wheels for collected packages: h2o\n",
            "  Building wheel for h2o (setup.py) ... \u001b[?25l\u001b[?25hdone\n",
            "  Created wheel for h2o: filename=h2o-3.30.1.2-py2.py3-none-any.whl size=129446949 sha256=4c5d8edfb3e7c400ec35b992e766de740aa808bf0f343b321711b13d83c63f12\n",
            "  Stored in directory: /root/.cache/pip/wheels/c6/be/83/a33a3c1c97fce1d136222bf4ed6d79da405ef6103f5b434c1e\n",
            "Successfully built h2o\n",
            "Installing collected packages: colorama, h2o\n",
            "Successfully installed colorama-0.4.3 h2o-3.30.1.2\n",
            "Checking whether there is an H2O instance running at http://localhost:54321 ..... not found.\n",
            "Attempting to start a local H2O server...\n",
            "  Java Version: openjdk version \"11.0.8\" 2020-07-14; OpenJDK Runtime Environment (build 11.0.8+10-post-Ubuntu-0ubuntu118.04.1); OpenJDK 64-Bit Server VM (build 11.0.8+10-post-Ubuntu-0ubuntu118.04.1, mixed mode, sharing)\n",
            "  Starting server from /usr/local/lib/python3.6/dist-packages/h2o/backend/bin/h2o.jar\n",
            "  Ice root: /tmp/tmphk125fr5\n",
            "  JVM stdout: /tmp/tmphk125fr5/h2o_unknownUser_started_from_python.out\n",
            "  JVM stderr: /tmp/tmphk125fr5/h2o_unknownUser_started_from_python.err\n",
            "  Server is running at http://127.0.0.1:54321\n",
            "Connecting to H2O server at http://127.0.0.1:54321 ... successful.\n"
          ],
          "name": "stdout"
        },
        {
          "output_type": "display_data",
          "data": {
            "text/html": [
              "<div style=\"overflow:auto\"><table style=\"width:50%\"><tr><td>H2O_cluster_uptime:</td>\n",
              "<td>03 secs</td></tr>\n",
              "<tr><td>H2O_cluster_timezone:</td>\n",
              "<td>Etc/UTC</td></tr>\n",
              "<tr><td>H2O_data_parsing_timezone:</td>\n",
              "<td>UTC</td></tr>\n",
              "<tr><td>H2O_cluster_version:</td>\n",
              "<td>3.30.1.2</td></tr>\n",
              "<tr><td>H2O_cluster_version_age:</td>\n",
              "<td>19 days </td></tr>\n",
              "<tr><td>H2O_cluster_name:</td>\n",
              "<td>H2O_from_python_unknownUser_ld8kiy</td></tr>\n",
              "<tr><td>H2O_cluster_total_nodes:</td>\n",
              "<td>1</td></tr>\n",
              "<tr><td>H2O_cluster_free_memory:</td>\n",
              "<td>3.180 Gb</td></tr>\n",
              "<tr><td>H2O_cluster_total_cores:</td>\n",
              "<td>2</td></tr>\n",
              "<tr><td>H2O_cluster_allowed_cores:</td>\n",
              "<td>2</td></tr>\n",
              "<tr><td>H2O_cluster_status:</td>\n",
              "<td>accepting new members, healthy</td></tr>\n",
              "<tr><td>H2O_connection_url:</td>\n",
              "<td>http://127.0.0.1:54321</td></tr>\n",
              "<tr><td>H2O_connection_proxy:</td>\n",
              "<td>{\"http\": null, \"https\": null}</td></tr>\n",
              "<tr><td>H2O_internal_security:</td>\n",
              "<td>False</td></tr>\n",
              "<tr><td>H2O_API_Extensions:</td>\n",
              "<td>Amazon S3, XGBoost, Algos, AutoML, Core V3, TargetEncoder, Core V4</td></tr>\n",
              "<tr><td>Python_version:</td>\n",
              "<td>3.6.9 final</td></tr></table></div>"
            ],
            "text/plain": [
              "--------------------------  ------------------------------------------------------------------\n",
              "H2O_cluster_uptime:         03 secs\n",
              "H2O_cluster_timezone:       Etc/UTC\n",
              "H2O_data_parsing_timezone:  UTC\n",
              "H2O_cluster_version:        3.30.1.2\n",
              "H2O_cluster_version_age:    19 days\n",
              "H2O_cluster_name:           H2O_from_python_unknownUser_ld8kiy\n",
              "H2O_cluster_total_nodes:    1\n",
              "H2O_cluster_free_memory:    3.180 Gb\n",
              "H2O_cluster_total_cores:    2\n",
              "H2O_cluster_allowed_cores:  2\n",
              "H2O_cluster_status:         accepting new members, healthy\n",
              "H2O_connection_url:         http://127.0.0.1:54321\n",
              "H2O_connection_proxy:       {\"http\": null, \"https\": null}\n",
              "H2O_internal_security:      False\n",
              "H2O_API_Extensions:         Amazon S3, XGBoost, Algos, AutoML, Core V3, TargetEncoder, Core V4\n",
              "Python_version:             3.6.9 final\n",
              "--------------------------  ------------------------------------------------------------------"
            ]
          },
          "metadata": {
            "tags": []
          }
        },
        {
          "output_type": "stream",
          "text": [
            "Parse progress: |█████████████████████████████████████████████████████████| 100%\n",
            "AutoML progress: |████████████████████████████████████████████████████████| 100%\n"
          ],
          "name": "stdout"
        }
      ]
    },
    {
      "cell_type": "code",
      "metadata": {
        "id": "PzTE-mgw_aDY",
        "colab_type": "code",
        "colab": {
          "base_uri": "https://localhost:8080/",
          "height": 254
        },
        "outputId": "b2d4de12-4e6e-4a9c-8b98-2e7bdcee7498"
      },
      "source": [
        "#shows leaderboard of model competition\n",
        "lb"
      ],
      "execution_count": 59,
      "outputs": [
        {
          "output_type": "display_data",
          "data": {
            "text/html": [
              "<table>\n",
              "<thead>\n",
              "<tr><th>model_id                                           </th><th style=\"text-align: right;\">  mean_residual_deviance</th><th style=\"text-align: right;\">   rmse</th><th style=\"text-align: right;\">    mse</th><th style=\"text-align: right;\">    mae</th><th style=\"text-align: right;\">  rmsle</th></tr>\n",
              "</thead>\n",
              "<tbody>\n",
              "<tr><td>StackedEnsemble_AllModels_AutoML_20200922_185541   </td><td style=\"text-align: right;\">                 24.9582</td><td style=\"text-align: right;\">4.99581</td><td style=\"text-align: right;\">24.9582</td><td style=\"text-align: right;\">1.16417</td><td style=\"text-align: right;\">    nan</td></tr>\n",
              "<tr><td>XGBoost_grid__1_AutoML_20200922_185541_model_1     </td><td style=\"text-align: right;\">                 25.6044</td><td style=\"text-align: right;\">5.06008</td><td style=\"text-align: right;\">25.6044</td><td style=\"text-align: right;\">1.20894</td><td style=\"text-align: right;\">    nan</td></tr>\n",
              "<tr><td>StackedEnsemble_BestOfFamily_AutoML_20200922_185541</td><td style=\"text-align: right;\">                 25.6464</td><td style=\"text-align: right;\">5.06422</td><td style=\"text-align: right;\">25.6464</td><td style=\"text-align: right;\">1.17222</td><td style=\"text-align: right;\">    nan</td></tr>\n",
              "<tr><td>GBM_grid__1_AutoML_20200922_185541_model_1         </td><td style=\"text-align: right;\">                 31.612 </td><td style=\"text-align: right;\">5.62245</td><td style=\"text-align: right;\">31.612 </td><td style=\"text-align: right;\">1.31088</td><td style=\"text-align: right;\">    nan</td></tr>\n",
              "<tr><td>GLM_1_AutoML_20200922_185541                       </td><td style=\"text-align: right;\">                 32.3694</td><td style=\"text-align: right;\">5.68941</td><td style=\"text-align: right;\">32.3694</td><td style=\"text-align: right;\">1.26201</td><td style=\"text-align: right;\">    nan</td></tr>\n",
              "<tr><td>DeepLearning_grid__1_AutoML_20200922_185541_model_1</td><td style=\"text-align: right;\">                 32.5609</td><td style=\"text-align: right;\">5.70621</td><td style=\"text-align: right;\">32.5609</td><td style=\"text-align: right;\">1.21225</td><td style=\"text-align: right;\">    nan</td></tr>\n",
              "<tr><td>DeepLearning_grid__2_AutoML_20200922_185541_model_1</td><td style=\"text-align: right;\">                 34.1782</td><td style=\"text-align: right;\">5.84621</td><td style=\"text-align: right;\">34.1782</td><td style=\"text-align: right;\">1.30448</td><td style=\"text-align: right;\">    nan</td></tr>\n",
              "<tr><td>DeepLearning_grid__3_AutoML_20200922_185541_model_1</td><td style=\"text-align: right;\">                 35.9945</td><td style=\"text-align: right;\">5.99954</td><td style=\"text-align: right;\">35.9945</td><td style=\"text-align: right;\">1.34664</td><td style=\"text-align: right;\">    nan</td></tr>\n",
              "<tr><td>DeepLearning_1_AutoML_20200922_185541              </td><td style=\"text-align: right;\">                 41.2221</td><td style=\"text-align: right;\">6.42044</td><td style=\"text-align: right;\">41.2221</td><td style=\"text-align: right;\">1.39217</td><td style=\"text-align: right;\">    nan</td></tr>\n",
              "<tr><td>XRT_1_AutoML_20200922_185541                       </td><td style=\"text-align: right;\">                 41.8336</td><td style=\"text-align: right;\">6.46789</td><td style=\"text-align: right;\">41.8336</td><td style=\"text-align: right;\">1.24035</td><td style=\"text-align: right;\">    nan</td></tr>\n",
              "</tbody>\n",
              "</table>"
            ]
          },
          "metadata": {
            "tags": []
          }
        },
        {
          "output_type": "execute_result",
          "data": {
            "text/plain": [
              ""
            ]
          },
          "metadata": {
            "tags": []
          },
          "execution_count": 59
        }
      ]
    },
    {
      "cell_type": "code",
      "metadata": {
        "id": "7q1IXkx_L5KL",
        "colab_type": "code",
        "colab": {
          "base_uri": "https://localhost:8080/",
          "height": 293
        },
        "outputId": "cd811d43-da52-448c-873f-9450d8b1cc25"
      },
      "source": [
        "prediction = aml.leader.model_performance(test_split)\n",
        "prediction"
      ],
      "execution_count": 60,
      "outputs": [
        {
          "output_type": "stream",
          "text": [
            "\n",
            "ModelMetricsRegressionGLM: stackedensemble\n",
            "** Reported on test data. **\n",
            "\n",
            "MSE: 24.95816617923115\n",
            "RMSE: 4.9958148663887805\n",
            "MAE: 1.1641668040412985\n",
            "RMSLE: NaN\n",
            "R^2: 0.5971352594080147\n",
            "Mean Residual Deviance: 24.95816617923115\n",
            "Null degrees of freedom: 284443\n",
            "Residual degrees of freedom: 284438\n",
            "Null deviance: 17621797.54175254\n",
            "Residual deviance: 7099200.620685225\n",
            "AIC: 1722344.6455519388\n"
          ],
          "name": "stdout"
        },
        {
          "output_type": "execute_result",
          "data": {
            "text/plain": [
              ""
            ]
          },
          "metadata": {
            "tags": []
          },
          "execution_count": 60
        }
      ]
    },
    {
      "cell_type": "code",
      "metadata": {
        "id": "Afr6wR5cMxOB",
        "colab_type": "code",
        "colab": {}
      },
      "source": [
        "def display_scores(scores):\n",
        "    print(\"rmse Scores:\", scores)\n",
        "    print(\"Mean:\", scores.mean())\n",
        "    print(\"Standard deviation:\", scores.std())"
      ],
      "execution_count": 61,
      "outputs": []
    },
    {
      "cell_type": "code",
      "metadata": {
        "id": "LZjBMllgMuvy",
        "colab_type": "code",
        "colab": {
          "base_uri": "https://localhost:8080/",
          "height": 54
        },
        "outputId": "6e20f832-15f8-48fd-f9d6-f57e489bbf0c"
      },
      "source": [
        "# Cross validation\n",
        "# Approx 136 000 data points per fold\n",
        "from sklearn.model_selection import cross_val_score as cvs\n",
        "reg_score = cvs(regressor, X_train, Y_train, scoring = \"neg_mean_squared_error\", cv = 10)\n",
        "reg_score = np.sqrt(-reg_score)"
      ],
      "execution_count": 62,
      "outputs": [
        {
          "output_type": "display_data",
          "data": {
            "text/plain": [
              "array([6.23001342, 5.45725128, 5.44668999, 6.49458659, 6.28875826,\n",
              "       6.10155977, 6.47765804, 6.58502495, 9.35579312, 5.13810962])"
            ]
          },
          "metadata": {
            "tags": []
          }
        }
      ]
    },
    {
      "cell_type": "code",
      "metadata": {
        "id": "HG0CKe0hSbgr",
        "colab_type": "code",
        "colab": {
          "base_uri": "https://localhost:8080/",
          "height": 90
        },
        "outputId": "024524f1-4adc-46f6-b9d0-8304a6670a7b"
      },
      "source": [
        "display_scores(reg_score)"
      ],
      "execution_count": 64,
      "outputs": [
        {
          "output_type": "stream",
          "text": [
            "rmse Scores: [6.23001342 5.45725128 5.44668999 6.49458659 6.28875826 6.10155977\n",
            " 6.47765804 6.58502495 9.35579312 5.13810962]\n",
            "Mean: 6.357544504285576\n",
            "Standard deviation: 1.1085205949939727\n"
          ],
          "name": "stdout"
        }
      ]
    },
    {
      "cell_type": "code",
      "metadata": {
        "id": "wlO9tkxDUAf6",
        "colab_type": "code",
        "colab": {
          "base_uri": "https://localhost:8080/",
          "height": 54
        },
        "outputId": "399c87a5-6cdd-4c9c-9f2a-570f13d5c9f2"
      },
      "source": [
        "# Ridge regression\n",
        "\n",
        "from sklearn.linear_model import Ridge\n",
        "ridge_reg = Ridge()\n",
        "ridge_reg.fit(X_train, Y_train)"
      ],
      "execution_count": 65,
      "outputs": [
        {
          "output_type": "execute_result",
          "data": {
            "text/plain": [
              "Ridge(alpha=1.0, copy_X=True, fit_intercept=True, max_iter=None,\n",
              "      normalize=False, random_state=None, solver='auto', tol=0.001)"
            ]
          },
          "metadata": {
            "tags": []
          },
          "execution_count": 65
        }
      ]
    },
    {
      "cell_type": "code",
      "metadata": {
        "id": "HC7p3C2-UJVi",
        "colab_type": "code",
        "colab": {
          "base_uri": "https://localhost:8080/",
          "height": 90
        },
        "outputId": "e26b9a7e-d5c9-45ea-ccdc-a0a2eac4fc0b"
      },
      "source": [
        "# Cross validation for Ridge\n",
        "\n",
        "ridge_score = cvs(ridge_reg, X_train, Y_train, scoring = \"neg_mean_squared_error\", cv = 10)\n",
        "ridge_score = np.sqrt(-ridge_score)\n",
        "display_scores(ridge_score)"
      ],
      "execution_count": 67,
      "outputs": [
        {
          "output_type": "stream",
          "text": [
            "rmse Scores: [6.21875968 5.62301369 5.51276386 6.60417573 6.28425327 6.18583367\n",
            " 6.15746878 6.86119511 9.3257777  5.09765849]\n",
            "Mean: 6.387089997129627\n",
            "Standard deviation: 1.0977622784354573\n"
          ],
          "name": "stdout"
        }
      ]
    }
  ]
}