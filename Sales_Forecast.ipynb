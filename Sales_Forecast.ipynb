{
  "nbformat": 4,
  "nbformat_minor": 0,
  "metadata": {
    "colab": {
      "name": "Sales Forecast.ipynb",
      "provenance": [],
      "collapsed_sections": [],
      "mount_file_id": "1BbS0hGmI1qiMLbKM1kis0BWGDNFpz169",
      "authorship_tag": "ABX9TyNbXUaWKVBst7OUNSnm7rlq",
      "include_colab_link": true
    },
    "kernelspec": {
      "name": "python3",
      "display_name": "Python 3"
    }
  },
  "cells": [
    {
      "cell_type": "markdown",
      "metadata": {
        "id": "view-in-github",
        "colab_type": "text"
      },
      "source": [
        "<a href=\"https://colab.research.google.com/github/RCSnyder/Sales_Forecasting/blob/Dany/Sales_Forecast.ipynb\" target=\"_parent\"><img src=\"https://colab.research.google.com/assets/colab-badge.svg\" alt=\"Open In Colab\"/></a>"
      ]
    },
    {
      "cell_type": "code",
      "metadata": {
        "id": "krg53IVj3prt",
        "colab_type": "code",
        "colab": {}
      },
      "source": [
        "# Importing libraries\n",
        "import pandas as pd\n",
        "import matplotlib.pyplot as plt\n",
        "from google.colab import drive\n",
        "from datetime import datetime"
      ],
      "execution_count": null,
      "outputs": []
    },
    {
      "cell_type": "markdown",
      "metadata": {
        "id": "aKmdfayo38X5",
        "colab_type": "text"
      },
      "source": [
        ""
      ]
    },
    {
      "cell_type": "code",
      "metadata": {
        "id": "mZV7FcIz4UFZ",
        "colab_type": "code",
        "colab": {
          "base_uri": "https://localhost:8080/",
          "height": 34
        },
        "outputId": "2cf9b39d-2fd0-4516-8b6d-22a6d7556104"
      },
      "source": [
        "#Importing csv files\n",
        "drive.mount('/content/gdrive')\n",
        "fp = '/content/gdrive/My Drive/Sales Data'\n",
        "train     = pd.read_csv(\"/content/gdrive/My Drive/Sales Data/sales_train.csv\")\n",
        "test      = pd.read_csv('/content/gdrive/My Drive/Sales Data/test.csv')\n",
        "items     = pd.read_csv('/content/gdrive/My Drive/Sales Data/items.csv')\n",
        "item_cats = pd.read_csv('/content/gdrive/My Drive/Sales Data/item_categories.csv')\n",
        "shops     = pd.read_csv('/content/gdrive/My Drive/Sales Data/shops.csv')"
      ],
      "execution_count": null,
      "outputs": [
        {
          "output_type": "stream",
          "text": [
            "Mounted at /content/gdrive\n"
          ],
          "name": "stdout"
        }
      ]
    },
    {
      "cell_type": "markdown",
      "metadata": {
        "id": "NvSQRi1--U1e",
        "colab_type": "text"
      },
      "source": [
        "# New Section"
      ]
    },
    {
      "cell_type": "code",
      "metadata": {
        "id": "HNCGZ3UR48tx",
        "colab_type": "code",
        "colab": {
          "base_uri": "https://localhost:8080/",
          "height": 221
        },
        "outputId": "632843f6-db96-46f1-aed0-ea92b0ced595"
      },
      "source": [
        "print(train.head())\n",
        "print(items.head())"
      ],
      "execution_count": null,
      "outputs": [
        {
          "output_type": "stream",
          "text": [
            "        date  date_block_num  shop_id  item_id  item_price  item_cnt_day\n",
            "0 2013-02-01               0       59    22154      999.00           1.0\n",
            "1 2013-03-01               0       25     2552      899.00           1.0\n",
            "2 2013-05-01               0       25     2552      899.00          -1.0\n",
            "3 2013-06-01               0       25     2554     1709.05           1.0\n",
            "4 2013-01-15               0       25     2555     1099.00           1.0\n",
            "                                           item_name  item_id  item_category_id\n",
            "0          ! ВО ВЛАСТИ НАВАЖДЕНИЯ (ПЛАСТ.)         D        0                40\n",
            "1  !ABBYY FineReader 12 Professional Edition Full...        1                76\n",
            "2      ***В ЛУЧАХ СЛАВЫ   (UNV)                    D        2                40\n",
            "3    ***ГОЛУБАЯ ВОЛНА  (Univ)                      D        3                40\n",
            "4        ***КОРОБКА (СТЕКЛО)                       D        4                40\n"
          ],
          "name": "stdout"
        }
      ]
    },
    {
      "cell_type": "code",
      "metadata": {
        "id": "OK8T5UcNF_uo",
        "colab_type": "code",
        "colab": {
          "base_uri": "https://localhost:8080/",
          "height": 357
        },
        "outputId": "3686b5b1-5840-414d-b487-c40f310206d7"
      },
      "source": [
        "group = train.groupby(['date_block_num','shop_id','item_id']).agg({'item_cnt_day': ['sum']})\n",
        "grouped = pd.DataFrame(train.groupby(['shop_id', 'date_block_num'])['item_cnt_day'].sum().reset_index())\n",
        "print(group.head())\n",
        "print(grouped.head())\n",
        "print(group.iloc[0])\n",
        "print(grouped.iloc[0])"
      ],
      "execution_count": null,
      "outputs": [
        {
          "output_type": "stream",
          "text": [
            "                               item_cnt_day\n",
            "                                        sum\n",
            "date_block_num shop_id item_id             \n",
            "0              0       32               6.0\n",
            "                       33               3.0\n",
            "                       35               1.0\n",
            "                       43               1.0\n",
            "                       51               2.0\n",
            "   shop_id  date_block_num  item_cnt_day\n",
            "0        0               0        5578.0\n",
            "1        0               1        6127.0\n",
            "2        1               0        2947.0\n",
            "3        1               1        3364.0\n",
            "4        2               0        1146.0\n",
            "item_cnt_day  sum    6.0\n",
            "Name: (0, 0, 32), dtype: float64\n",
            "shop_id              0.0\n",
            "date_block_num       0.0\n",
            "item_cnt_day      5578.0\n",
            "Name: 0, dtype: float64\n"
          ],
          "name": "stdout"
        }
      ]
    },
    {
      "cell_type": "code",
      "metadata": {
        "id": "9hiacP5rr4yk",
        "colab_type": "code",
        "colab": {
          "base_uri": "https://localhost:8080/",
          "height": 374
        },
        "outputId": "49e38d13-b166-45a0-d0d6-04ece8004eae"
      },
      "source": [
        "# Group total sales by month\n",
        "train['date'] = pd.to_datetime(train['date'])\n",
        "monthly_sales_by_item = pd.DataFrame(train.groupby([pd.Grouper(key=\"date\", freq='M'), 'shop_id'])[\"item_cnt_day\"].sum())\n",
        "#monthly_sales_by_item = monthly_sales_by_item.to_frame()\n",
        "print(monthly_sales_by_item.describe)\n",
        "\n",
        "\n",
        "shops['Total Revenue'] = train.groupby(\"shop_id\")[\"item_price\"].sum()\n",
        "print(shops.head())\n"
      ],
      "execution_count": null,
      "outputs": [
        {
          "output_type": "stream",
          "text": [
            "<bound method NDFrame.describe of                     item_cnt_day\n",
            "date       shop_id              \n",
            "2013-01-31 0              3626.0\n",
            "           1              1955.0\n",
            "           2               748.0\n",
            "           3               670.0\n",
            "           4              1685.0\n",
            "...                          ...\n",
            "2015-12-31 55              982.0\n",
            "           56              442.0\n",
            "           57              701.0\n",
            "           58              559.0\n",
            "           59              307.0\n",
            "\n",
            "[1847 rows x 1 columns]>\n",
            "                        shop_name  shop_id  Total Revenue\n",
            "0   !Якутск Орджоникидзе, 56 фран        0   5.553869e+06\n",
            "1   !Якутск ТЦ \"Центральный\" фран        1   2.926161e+06\n",
            "2                Адыгея ТЦ \"Мега\"        2   3.510444e+07\n",
            "3  Балашиха ТРК \"Октябрь-Киномир\"        3   2.647262e+07\n",
            "4        Волжский ТЦ \"Волга Молл\"        4   3.533539e+07\n"
          ],
          "name": "stdout"
        }
      ]
    },
    {
      "cell_type": "code",
      "metadata": {
        "id": "R13LJaYvufVc",
        "colab_type": "code",
        "colab": {}
      },
      "source": [
        "# Plot total revenue per shop\n",
        "fig, ax = plt.subplots()\n",
        "ax.plot (shops['shop_id'], shops['Total Revenue'])\n",
        "plt.show()\n",
        "\n"
      ],
      "execution_count": null,
      "outputs": []
    },
    {
      "cell_type": "code",
      "metadata": {
        "id": "G0r-k7412LDC",
        "colab_type": "code",
        "colab": {}
      },
      "source": [
        "#Grouping Shop_Id and Item_Id\n",
        "from itertools import product\n",
        "import numpy as np\n",
        "\n",
        "months = train['date_block_num'].unique()\n",
        "\n",
        "month_shop_and_item = []\n",
        "for month in months:\n",
        "    shops_in_month = train.loc[train['date_block_num']==month, 'shop_id'].unique()\n",
        "    items_in_month = train.loc[train['date_block_num']==month, 'item_id'].unique()\n",
        "    month_shop_and_item.append(np.array(list(product(*[shops_in_month, items_in_month, [month]])), dtype='int32'))"
      ],
      "execution_count": null,
      "outputs": []
    },
    {
      "cell_type": "code",
      "metadata": {
        "id": "7j2V8kI6XwsF",
        "colab_type": "code",
        "colab": {}
      },
      "source": [
        "#Create a df and aggregate at the month level\n",
        "month_shop_and_item_df = pd.DataFrame(np.vstack(month_shop_and_item), columns = ['shop_id', 'item_id', 'date_block_num'], dtype=np.int32)\n",
        "grouped_by_month = train.groupby(['shop_id', 'item_id', 'date_block_num'])['item_cnt_day'].sum().rename('item_cnt_month').reset_index()\n"
      ],
      "execution_count": null,
      "outputs": []
    },
    {
      "cell_type": "code",
      "metadata": {
        "id": "PvzC9yxPXzkU",
        "colab_type": "code",
        "colab": {}
      },
      "source": [
        "#Merge to form a new training set\n",
        "mod_train = pd.merge(month_shop_and_item_df, grouped_by_month, on=['shop_id', 'item_id', 'date_block_num'], how='left').fillna(0)"
      ],
      "execution_count": null,
      "outputs": []
    },
    {
      "cell_type": "code",
      "metadata": {
        "id": "KHsAQZGHY05O",
        "colab_type": "code",
        "colab": {
          "base_uri": "https://localhost:8080/",
          "height": 119
        },
        "outputId": "eb6589e4-f88e-46c3-c7df-b1c63bb5488c"
      },
      "source": [
        "print(mod_train.head())"
      ],
      "execution_count": null,
      "outputs": [
        {
          "output_type": "stream",
          "text": [
            "   shop_id  item_id  date_block_num  item_cnt_month\n",
            "0       59    22154               0             1.0\n",
            "1       59     2552               0             0.0\n",
            "2       59     2554               0             0.0\n",
            "3       59     2555               0             0.0\n",
            "4       59     2564               0             0.0\n"
          ],
          "name": "stdout"
        }
      ]
    },
    {
      "cell_type": "code",
      "metadata": {
        "id": "2_ISSz1QaImF",
        "colab_type": "code",
        "colab": {}
      },
      "source": [
        "mod_train.shape\n",
        "type(mod_train)\n",
        "mod_train = mod_train.sample(frac=1)"
      ],
      "execution_count": null,
      "outputs": []
    },
    {
      "cell_type": "code",
      "metadata": {
        "id": "XT86sBH_iRsA",
        "colab_type": "code",
        "colab": {}
      },
      "source": [
        ""
      ],
      "execution_count": null,
      "outputs": []
    },
    {
      "cell_type": "code",
      "metadata": {
        "id": "VTGnIE8saOAH",
        "colab_type": "code",
        "colab": {
          "base_uri": "https://localhost:8080/",
          "height": 34
        },
        "outputId": "909d4dc3-e895-4457-9591-aa452c53c916"
      },
      "source": [
        "#Creating target and feature arrays\n",
        "X = mod_train.drop('item_cnt_month', axis=1).values\n",
        "y = mod_train['item_cnt_month'].values\n",
        "y = y.reshape(-1,1)\n",
        "#X = X.reshape(-1,1)\n",
        "X.shape, y.shape"
      ],
      "execution_count": null,
      "outputs": [
        {
          "output_type": "execute_result",
          "data": {
            "text/plain": [
              "((10913850, 3), (10913850, 1))"
            ]
          },
          "metadata": {
            "tags": []
          },
          "execution_count": 33
        }
      ]
    },
    {
      "cell_type": "code",
      "metadata": {
        "id": "JRK7CATfifx8",
        "colab_type": "code",
        "colab": {}
      },
      "source": [
        "# Encoding categorical data\n",
        "# used to provide a value to data that can be then used in equations, eg. Friday = 1 etc.\n",
        "from sklearn.preprocessing import LabelEncoder, OneHotEncoder\n",
        "from sklearn.compose import ColumnTransformer\n",
        "\n",
        "# the only variable which is not categorical is item_price, hence all other variable will be converted\n",
        "ct = ColumnTransformer([('encoder', OneHotEncoder(), [0, 1, 2])], remainder = 'passthrough')\n",
        "X = ct.fit_transform(X)\n"
      ],
      "execution_count": null,
      "outputs": []
    },
    {
      "cell_type": "code",
      "metadata": {
        "id": "FKp-nOJodcCC",
        "colab_type": "code",
        "colab": {
          "base_uri": "https://localhost:8080/",
          "height": 34
        },
        "outputId": "3dd45580-1dd2-4198-ecad-a8e076dac526"
      },
      "source": [
        "#Working with sklearn and Linear Regression\n",
        "from sklearn.linear_model import LinearRegression\n",
        "from sklearn.model_selection import train_test_split\n",
        "\n",
        "#Splitting test set and Fitting a model\n",
        "X_train, X_test, y_train, y_test = train_test_split(X, y, test_size=0.3, random_state=42)\n",
        "reg = LinearRegression()\n",
        "reg.fit(X_train, y_train)\n",
        "y_predict = reg.predict(X_test)\n",
        "reg.score(X_test, y_test)"
      ],
      "execution_count": null,
      "outputs": [
        {
          "output_type": "execute_result",
          "data": {
            "text/plain": [
              "0.24137872959086526"
            ]
          },
          "metadata": {
            "tags": []
          },
          "execution_count": 49
        }
      ]
    },
    {
      "cell_type": "code",
      "metadata": {
        "id": "VtQQiZo0gbMJ",
        "colab_type": "code",
        "colab": {}
      },
      "source": [
        ""
      ],
      "execution_count": null,
      "outputs": []
    },
    {
      "cell_type": "code",
      "metadata": {
        "id": "WmCgz3P7hBoe",
        "colab_type": "code",
        "colab": {}
      },
      "source": [
        ""
      ],
      "execution_count": null,
      "outputs": []
    },
    {
      "cell_type": "code",
      "metadata": {
        "id": "gi9EjSg6hDil",
        "colab_type": "code",
        "colab": {}
      },
      "source": [
        ""
      ],
      "execution_count": null,
      "outputs": []
    }
  ]
}