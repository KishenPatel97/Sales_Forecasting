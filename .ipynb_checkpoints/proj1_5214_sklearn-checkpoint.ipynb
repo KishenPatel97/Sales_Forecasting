{
 "cells": [
  {
   "cell_type": "code",
   "execution_count": 188,
   "metadata": {},
   "outputs": [],
   "source": [
    "import numpy as np\n",
    "import pandas as pd\n",
    "import matplotlib.pyplot as plt\n",
    "import seaborn as sns\n",
    "from datetime import datetime, date\n",
    "from dateutil.relativedelta import relativedelta\n",
    "from sklearn.preprocessing import StandardScaler\n",
    "from math import ceil\n",
    "from itertools import cycle\n",
    "from itertools import product\n",
    "from sklearn.preprocessing import LabelEncoder\n",
    "from sklearn.linear_model import LinearRegression\n",
    "from sklearn.metrics import mean_squared_error, r2_score\n",
    "import seaborn as sns\n",
    "import matplotlib.pyplot as plt\n",
    "%matplotlib inline\n",
    "import plotly.express as px\n",
    "from sklearn.model_selection import train_test_split\n",
    "# used to provide a value to data that can be then used in equations, eg. Friday = 1 etc.\n",
    "from sklearn.preprocessing import LabelEncoder, OneHotEncoder\n",
    "from sklearn.compose import ColumnTransformer\n",
    "from mpl_toolkits.mplot3d import Axes3D\n",
    "from matplotlib import style\n",
    "style.use('ggplot')\n",
    "from googletrans import Translator\n",
    "\n",
    "from xgboost import XGBRegressor\n",
    "from xgboost import plot_importance\n",
    "\n",
    "def plot_features(booster, figsize):    \n",
    "    fig, ax = plt.subplots(1,1,figsize=figsize)\n",
    "    return plot_importance(booster=booster, ax=ax)\n",
    "\n",
    "import time\n",
    "import sys\n",
    "import gc\n",
    "import pickle"
   ]
  },
  {
   "cell_type": "code",
   "execution_count": 31,
   "metadata": {},
   "outputs": [],
   "source": [
    "#Read in .csv files into pandas dataframes\n",
    "train       = pd.read_csv('sales_train.csv')\n",
    "test        = pd.read_csv('test.csv').set_index('ID')\n",
    "submission  = pd.read_csv('sample_submission.csv')\n",
    "items       = pd.read_csv('items.csv')\n",
    "item_cats   = pd.read_csv('item_categories.csv')\n",
    "shops       = pd.read_csv('shops.csv')"
   ]
  },
  {
   "cell_type": "code",
   "execution_count": 32,
   "metadata": {},
   "outputs": [],
   "source": [
    "#Down casts the data entries from int64 to int32 and float64 to float32\n",
    "#This reduces the size of the records by almost half. (From 134mb to 61mb)\n",
    "def downcast_dtypes(df):\n",
    "    float_cols = [c for c in df if df[c].dtype == \"float64\"]\n",
    "    int_cols = [c for c in df if df[c].dtype in [\"int64\", \"int32\"]]\n",
    "    df[float_cols] = df[float_cols].astype(np.float32)\n",
    "    df[int_cols] = df[int_cols].astype(np.int16)\n",
    "    return df"
   ]
  },
  {
   "cell_type": "code",
   "execution_count": 33,
   "metadata": {},
   "outputs": [],
   "source": [
    "#Calls the downcasting function\n",
    "train      = downcast_dtypes(train)\n",
    "test       = downcast_dtypes(test)\n",
    "submission = downcast_dtypes(submission)\n",
    "items      = downcast_dtypes(items)\n",
    "item_cats  = downcast_dtypes(item_cats)\n",
    "shops      = downcast_dtypes(shops)\n"
   ]
  },
  {
   "cell_type": "code",
   "execution_count": 34,
   "metadata": {},
   "outputs": [],
   "source": [
    "train = train.merge(items, on='item_id')"
   ]
  },
  {
   "cell_type": "code",
   "execution_count": 35,
   "metadata": {},
   "outputs": [],
   "source": [
    "train = train.drop(columns = 'item_name')"
   ]
  },
  {
   "cell_type": "code",
   "execution_count": 36,
   "metadata": {},
   "outputs": [],
   "source": [
    "train['date'] = pd.to_datetime(train['date'], format='%d.%m.%Y')"
   ]
  },
  {
   "cell_type": "code",
   "execution_count": 37,
   "metadata": {},
   "outputs": [
    {
     "data": {
      "text/html": [
       "<div>\n",
       "<style scoped>\n",
       "    .dataframe tbody tr th:only-of-type {\n",
       "        vertical-align: middle;\n",
       "    }\n",
       "\n",
       "    .dataframe tbody tr th {\n",
       "        vertical-align: top;\n",
       "    }\n",
       "\n",
       "    .dataframe thead th {\n",
       "        text-align: right;\n",
       "    }\n",
       "</style>\n",
       "<table border=\"1\" class=\"dataframe\">\n",
       "  <thead>\n",
       "    <tr style=\"text-align: right;\">\n",
       "      <th></th>\n",
       "      <th>date</th>\n",
       "      <th>date_block_num</th>\n",
       "      <th>shop_id</th>\n",
       "      <th>item_id</th>\n",
       "      <th>item_price</th>\n",
       "      <th>item_cnt_day</th>\n",
       "      <th>item_category_id</th>\n",
       "    </tr>\n",
       "  </thead>\n",
       "  <tbody>\n",
       "    <tr>\n",
       "      <th>0</th>\n",
       "      <td>2013-01-02</td>\n",
       "      <td>0</td>\n",
       "      <td>59</td>\n",
       "      <td>22154</td>\n",
       "      <td>999.0</td>\n",
       "      <td>1.0</td>\n",
       "      <td>37</td>\n",
       "    </tr>\n",
       "    <tr>\n",
       "      <th>1</th>\n",
       "      <td>2013-01-23</td>\n",
       "      <td>0</td>\n",
       "      <td>24</td>\n",
       "      <td>22154</td>\n",
       "      <td>999.0</td>\n",
       "      <td>1.0</td>\n",
       "      <td>37</td>\n",
       "    </tr>\n",
       "    <tr>\n",
       "      <th>2</th>\n",
       "      <td>2013-01-20</td>\n",
       "      <td>0</td>\n",
       "      <td>27</td>\n",
       "      <td>22154</td>\n",
       "      <td>999.0</td>\n",
       "      <td>1.0</td>\n",
       "      <td>37</td>\n",
       "    </tr>\n",
       "    <tr>\n",
       "      <th>3</th>\n",
       "      <td>2013-01-02</td>\n",
       "      <td>0</td>\n",
       "      <td>25</td>\n",
       "      <td>22154</td>\n",
       "      <td>999.0</td>\n",
       "      <td>1.0</td>\n",
       "      <td>37</td>\n",
       "    </tr>\n",
       "    <tr>\n",
       "      <th>4</th>\n",
       "      <td>2013-01-03</td>\n",
       "      <td>0</td>\n",
       "      <td>25</td>\n",
       "      <td>22154</td>\n",
       "      <td>999.0</td>\n",
       "      <td>1.0</td>\n",
       "      <td>37</td>\n",
       "    </tr>\n",
       "    <tr>\n",
       "      <th>...</th>\n",
       "      <td>...</td>\n",
       "      <td>...</td>\n",
       "      <td>...</td>\n",
       "      <td>...</td>\n",
       "      <td>...</td>\n",
       "      <td>...</td>\n",
       "      <td>...</td>\n",
       "    </tr>\n",
       "    <tr>\n",
       "      <th>2935844</th>\n",
       "      <td>2015-10-17</td>\n",
       "      <td>33</td>\n",
       "      <td>25</td>\n",
       "      <td>8428</td>\n",
       "      <td>249.0</td>\n",
       "      <td>1.0</td>\n",
       "      <td>40</td>\n",
       "    </tr>\n",
       "    <tr>\n",
       "      <th>2935845</th>\n",
       "      <td>2015-10-01</td>\n",
       "      <td>33</td>\n",
       "      <td>25</td>\n",
       "      <td>7903</td>\n",
       "      <td>12198.0</td>\n",
       "      <td>1.0</td>\n",
       "      <td>15</td>\n",
       "    </tr>\n",
       "    <tr>\n",
       "      <th>2935846</th>\n",
       "      <td>2015-10-29</td>\n",
       "      <td>33</td>\n",
       "      <td>25</td>\n",
       "      <td>7610</td>\n",
       "      <td>2890.0</td>\n",
       "      <td>1.0</td>\n",
       "      <td>64</td>\n",
       "    </tr>\n",
       "    <tr>\n",
       "      <th>2935847</th>\n",
       "      <td>2015-10-22</td>\n",
       "      <td>33</td>\n",
       "      <td>25</td>\n",
       "      <td>7635</td>\n",
       "      <td>2100.0</td>\n",
       "      <td>1.0</td>\n",
       "      <td>64</td>\n",
       "    </tr>\n",
       "    <tr>\n",
       "      <th>2935848</th>\n",
       "      <td>2015-10-01</td>\n",
       "      <td>33</td>\n",
       "      <td>25</td>\n",
       "      <td>7640</td>\n",
       "      <td>4040.0</td>\n",
       "      <td>1.0</td>\n",
       "      <td>64</td>\n",
       "    </tr>\n",
       "  </tbody>\n",
       "</table>\n",
       "<p>2935849 rows × 7 columns</p>\n",
       "</div>"
      ],
      "text/plain": [
       "              date  date_block_num  shop_id  item_id  item_price  \\\n",
       "0       2013-01-02               0       59    22154       999.0   \n",
       "1       2013-01-23               0       24    22154       999.0   \n",
       "2       2013-01-20               0       27    22154       999.0   \n",
       "3       2013-01-02               0       25    22154       999.0   \n",
       "4       2013-01-03               0       25    22154       999.0   \n",
       "...            ...             ...      ...      ...         ...   \n",
       "2935844 2015-10-17              33       25     8428       249.0   \n",
       "2935845 2015-10-01              33       25     7903     12198.0   \n",
       "2935846 2015-10-29              33       25     7610      2890.0   \n",
       "2935847 2015-10-22              33       25     7635      2100.0   \n",
       "2935848 2015-10-01              33       25     7640      4040.0   \n",
       "\n",
       "         item_cnt_day  item_category_id  \n",
       "0                 1.0                37  \n",
       "1                 1.0                37  \n",
       "2                 1.0                37  \n",
       "3                 1.0                37  \n",
       "4                 1.0                37  \n",
       "...               ...               ...  \n",
       "2935844           1.0                40  \n",
       "2935845           1.0                15  \n",
       "2935846           1.0                64  \n",
       "2935847           1.0                64  \n",
       "2935848           1.0                64  \n",
       "\n",
       "[2935849 rows x 7 columns]"
      ]
     },
     "execution_count": 37,
     "metadata": {},
     "output_type": "execute_result"
    }
   ],
   "source": [
    "train"
   ]
  },
  {
   "cell_type": "code",
   "execution_count": 38,
   "metadata": {},
   "outputs": [
    {
     "data": {
      "text/plain": [
       "<matplotlib.axes._subplots.AxesSubplot at 0x234aa891108>"
      ]
     },
     "execution_count": 38,
     "metadata": {},
     "output_type": "execute_result"
    },
    {
     "data": {
      "image/png": "[encoded data removed]",
      "text/plain": [
       "<Figure size 864x288 with 1 Axes>"
      ]
     },
     "metadata": {
      "needs_background": "light"
     },
     "output_type": "display_data"
    },
    {
     "data": {
      "image/png": "[encoded data removed]",
      "text/plain": [
       "<Figure size 864x288 with 1 Axes>"
      ]
     },
     "metadata": {
      "needs_background": "light"
     },
     "output_type": "display_data"
    }
   ],
   "source": [
    "# Boxplot to show outliers in item_cnt_day and item_price\n",
    "plt.figure(figsize=(12,4))\n",
    "plt.xlim(-100, train.item_cnt_day.max()*1.2)\n",
    "sns.boxplot(x=train.item_cnt_day)\n",
    "\n",
    "plt.figure(figsize=(12,4))\n",
    "plt.xlim(train.item_price.min()*1.1, train.item_price.max()*1.2)\n",
    "sns.boxplot(x=train.item_price)"
   ]
  },
  {
   "cell_type": "code",
   "execution_count": 39,
   "metadata": {},
   "outputs": [],
   "source": [
    "#Removes outliers from train\n",
    "train = train[train.item_price < 90000]\n",
    "train = train[train.item_cnt_day < 999]\n",
    "\n",
    "#replaces the negative price item with the median item_price of all items with the id of 2973 and in shop id 32\n",
    "median = train[(train.shop_id==32)&(train.item_id==2973)&(train.date_block_num==4)&(train.item_price>0)].item_price.median()"
   ]
  },
  {
   "cell_type": "code",
   "execution_count": 40,
   "metadata": {},
   "outputs": [],
   "source": [
    "train_cnt = train['item_cnt_day']\n",
    "train.drop(labels=['item_cnt_day'], axis=1, inplace = True)\n",
    "train.insert(6, 'item_cnt_day', train_cnt)"
   ]
  },
  {
   "cell_type": "code",
   "execution_count": 41,
   "metadata": {},
   "outputs": [
    {
     "data": {
      "text/html": [
       "<div>\n",
       "<style scoped>\n",
       "    .dataframe tbody tr th:only-of-type {\n",
       "        vertical-align: middle;\n",
       "    }\n",
       "\n",
       "    .dataframe tbody tr th {\n",
       "        vertical-align: top;\n",
       "    }\n",
       "\n",
       "    .dataframe thead th {\n",
       "        text-align: right;\n",
       "    }\n",
       "</style>\n",
       "<table border=\"1\" class=\"dataframe\">\n",
       "  <thead>\n",
       "    <tr style=\"text-align: right;\">\n",
       "      <th></th>\n",
       "      <th>date</th>\n",
       "      <th>date_block_num</th>\n",
       "      <th>shop_id</th>\n",
       "      <th>item_id</th>\n",
       "      <th>item_price</th>\n",
       "      <th>item_category_id</th>\n",
       "      <th>item_cnt_day</th>\n",
       "    </tr>\n",
       "  </thead>\n",
       "  <tbody>\n",
       "    <tr>\n",
       "      <th>0</th>\n",
       "      <td>2013-01-02</td>\n",
       "      <td>0</td>\n",
       "      <td>59</td>\n",
       "      <td>22154</td>\n",
       "      <td>999.0</td>\n",
       "      <td>37</td>\n",
       "      <td>1.0</td>\n",
       "    </tr>\n",
       "    <tr>\n",
       "      <th>1</th>\n",
       "      <td>2013-01-23</td>\n",
       "      <td>0</td>\n",
       "      <td>24</td>\n",
       "      <td>22154</td>\n",
       "      <td>999.0</td>\n",
       "      <td>37</td>\n",
       "      <td>1.0</td>\n",
       "    </tr>\n",
       "    <tr>\n",
       "      <th>2</th>\n",
       "      <td>2013-01-20</td>\n",
       "      <td>0</td>\n",
       "      <td>27</td>\n",
       "      <td>22154</td>\n",
       "      <td>999.0</td>\n",
       "      <td>37</td>\n",
       "      <td>1.0</td>\n",
       "    </tr>\n",
       "    <tr>\n",
       "      <th>3</th>\n",
       "      <td>2013-01-02</td>\n",
       "      <td>0</td>\n",
       "      <td>25</td>\n",
       "      <td>22154</td>\n",
       "      <td>999.0</td>\n",
       "      <td>37</td>\n",
       "      <td>1.0</td>\n",
       "    </tr>\n",
       "    <tr>\n",
       "      <th>4</th>\n",
       "      <td>2013-01-03</td>\n",
       "      <td>0</td>\n",
       "      <td>25</td>\n",
       "      <td>22154</td>\n",
       "      <td>999.0</td>\n",
       "      <td>37</td>\n",
       "      <td>1.0</td>\n",
       "    </tr>\n",
       "    <tr>\n",
       "      <th>...</th>\n",
       "      <td>...</td>\n",
       "      <td>...</td>\n",
       "      <td>...</td>\n",
       "      <td>...</td>\n",
       "      <td>...</td>\n",
       "      <td>...</td>\n",
       "      <td>...</td>\n",
       "    </tr>\n",
       "    <tr>\n",
       "      <th>2935844</th>\n",
       "      <td>2015-10-17</td>\n",
       "      <td>33</td>\n",
       "      <td>25</td>\n",
       "      <td>8428</td>\n",
       "      <td>249.0</td>\n",
       "      <td>40</td>\n",
       "      <td>1.0</td>\n",
       "    </tr>\n",
       "    <tr>\n",
       "      <th>2935845</th>\n",
       "      <td>2015-10-01</td>\n",
       "      <td>33</td>\n",
       "      <td>25</td>\n",
       "      <td>7903</td>\n",
       "      <td>12198.0</td>\n",
       "      <td>15</td>\n",
       "      <td>1.0</td>\n",
       "    </tr>\n",
       "    <tr>\n",
       "      <th>2935846</th>\n",
       "      <td>2015-10-29</td>\n",
       "      <td>33</td>\n",
       "      <td>25</td>\n",
       "      <td>7610</td>\n",
       "      <td>2890.0</td>\n",
       "      <td>64</td>\n",
       "      <td>1.0</td>\n",
       "    </tr>\n",
       "    <tr>\n",
       "      <th>2935847</th>\n",
       "      <td>2015-10-22</td>\n",
       "      <td>33</td>\n",
       "      <td>25</td>\n",
       "      <td>7635</td>\n",
       "      <td>2100.0</td>\n",
       "      <td>64</td>\n",
       "      <td>1.0</td>\n",
       "    </tr>\n",
       "    <tr>\n",
       "      <th>2935848</th>\n",
       "      <td>2015-10-01</td>\n",
       "      <td>33</td>\n",
       "      <td>25</td>\n",
       "      <td>7640</td>\n",
       "      <td>4040.0</td>\n",
       "      <td>64</td>\n",
       "      <td>1.0</td>\n",
       "    </tr>\n",
       "  </tbody>\n",
       "</table>\n",
       "<p>2935846 rows × 7 columns</p>\n",
       "</div>"
      ],
      "text/plain": [
       "              date  date_block_num  shop_id  item_id  item_price  \\\n",
       "0       2013-01-02               0       59    22154       999.0   \n",
       "1       2013-01-23               0       24    22154       999.0   \n",
       "2       2013-01-20               0       27    22154       999.0   \n",
       "3       2013-01-02               0       25    22154       999.0   \n",
       "4       2013-01-03               0       25    22154       999.0   \n",
       "...            ...             ...      ...      ...         ...   \n",
       "2935844 2015-10-17              33       25     8428       249.0   \n",
       "2935845 2015-10-01              33       25     7903     12198.0   \n",
       "2935846 2015-10-29              33       25     7610      2890.0   \n",
       "2935847 2015-10-22              33       25     7635      2100.0   \n",
       "2935848 2015-10-01              33       25     7640      4040.0   \n",
       "\n",
       "         item_category_id  item_cnt_day  \n",
       "0                      37           1.0  \n",
       "1                      37           1.0  \n",
       "2                      37           1.0  \n",
       "3                      37           1.0  \n",
       "4                      37           1.0  \n",
       "...                   ...           ...  \n",
       "2935844                40           1.0  \n",
       "2935845                15           1.0  \n",
       "2935846                64           1.0  \n",
       "2935847                64           1.0  \n",
       "2935848                64           1.0  \n",
       "\n",
       "[2935846 rows x 7 columns]"
      ]
     },
     "execution_count": 41,
     "metadata": {},
     "output_type": "execute_result"
    }
   ],
   "source": [
    "train"
   ]
  },
  {
   "cell_type": "code",
   "execution_count": 44,
   "metadata": {},
   "outputs": [],
   "source": [
    "train_grouped_month = pd.DataFrame(train.groupby(['date_block_num', 'shop_id', 'item_category_id', 'item_id', 'item_price'])['item_cnt_day'].sum().reset_index())"
   ]
  },
  {
   "cell_type": "code",
   "execution_count": 45,
   "metadata": {},
   "outputs": [
    {
     "data": {
      "text/html": [
       "<div>\n",
       "<style scoped>\n",
       "    .dataframe tbody tr th:only-of-type {\n",
       "        vertical-align: middle;\n",
       "    }\n",
       "\n",
       "    .dataframe tbody tr th {\n",
       "        vertical-align: top;\n",
       "    }\n",
       "\n",
       "    .dataframe thead th {\n",
       "        text-align: right;\n",
       "    }\n",
       "</style>\n",
       "<table border=\"1\" class=\"dataframe\">\n",
       "  <thead>\n",
       "    <tr style=\"text-align: right;\">\n",
       "      <th></th>\n",
       "      <th>date_block_num</th>\n",
       "      <th>shop_id</th>\n",
       "      <th>item_category_id</th>\n",
       "      <th>item_id</th>\n",
       "      <th>item_price</th>\n",
       "      <th>item_cnt_day</th>\n",
       "    </tr>\n",
       "  </thead>\n",
       "  <tbody>\n",
       "    <tr>\n",
       "      <th>0</th>\n",
       "      <td>0</td>\n",
       "      <td>0</td>\n",
       "      <td>2</td>\n",
       "      <td>5572</td>\n",
       "      <td>1322.0</td>\n",
       "      <td>10.0</td>\n",
       "    </tr>\n",
       "    <tr>\n",
       "      <th>1</th>\n",
       "      <td>0</td>\n",
       "      <td>0</td>\n",
       "      <td>2</td>\n",
       "      <td>5573</td>\n",
       "      <td>560.0</td>\n",
       "      <td>1.0</td>\n",
       "    </tr>\n",
       "    <tr>\n",
       "      <th>2</th>\n",
       "      <td>0</td>\n",
       "      <td>0</td>\n",
       "      <td>2</td>\n",
       "      <td>5575</td>\n",
       "      <td>806.0</td>\n",
       "      <td>4.0</td>\n",
       "    </tr>\n",
       "    <tr>\n",
       "      <th>3</th>\n",
       "      <td>0</td>\n",
       "      <td>0</td>\n",
       "      <td>2</td>\n",
       "      <td>5576</td>\n",
       "      <td>2231.0</td>\n",
       "      <td>5.0</td>\n",
       "    </tr>\n",
       "    <tr>\n",
       "      <th>4</th>\n",
       "      <td>0</td>\n",
       "      <td>0</td>\n",
       "      <td>2</td>\n",
       "      <td>5609</td>\n",
       "      <td>2381.0</td>\n",
       "      <td>1.0</td>\n",
       "    </tr>\n",
       "    <tr>\n",
       "      <th>...</th>\n",
       "      <td>...</td>\n",
       "      <td>...</td>\n",
       "      <td>...</td>\n",
       "      <td>...</td>\n",
       "      <td>...</td>\n",
       "      <td>...</td>\n",
       "    </tr>\n",
       "    <tr>\n",
       "      <th>1739014</th>\n",
       "      <td>33</td>\n",
       "      <td>59</td>\n",
       "      <td>79</td>\n",
       "      <td>17717</td>\n",
       "      <td>1250.0</td>\n",
       "      <td>4.0</td>\n",
       "    </tr>\n",
       "    <tr>\n",
       "      <th>1739015</th>\n",
       "      <td>33</td>\n",
       "      <td>59</td>\n",
       "      <td>79</td>\n",
       "      <td>17717</td>\n",
       "      <td>1999.0</td>\n",
       "      <td>1.0</td>\n",
       "    </tr>\n",
       "    <tr>\n",
       "      <th>1739016</th>\n",
       "      <td>33</td>\n",
       "      <td>59</td>\n",
       "      <td>83</td>\n",
       "      <td>22087</td>\n",
       "      <td>119.0</td>\n",
       "      <td>6.0</td>\n",
       "    </tr>\n",
       "    <tr>\n",
       "      <th>1739017</th>\n",
       "      <td>33</td>\n",
       "      <td>59</td>\n",
       "      <td>83</td>\n",
       "      <td>22088</td>\n",
       "      <td>119.0</td>\n",
       "      <td>2.0</td>\n",
       "    </tr>\n",
       "    <tr>\n",
       "      <th>1739018</th>\n",
       "      <td>33</td>\n",
       "      <td>59</td>\n",
       "      <td>83</td>\n",
       "      <td>22091</td>\n",
       "      <td>179.0</td>\n",
       "      <td>1.0</td>\n",
       "    </tr>\n",
       "  </tbody>\n",
       "</table>\n",
       "<p>1739019 rows × 6 columns</p>\n",
       "</div>"
      ],
      "text/plain": [
       "         date_block_num  shop_id  item_category_id  item_id  item_price  \\\n",
       "0                     0        0                 2     5572      1322.0   \n",
       "1                     0        0                 2     5573       560.0   \n",
       "2                     0        0                 2     5575       806.0   \n",
       "3                     0        0                 2     5576      2231.0   \n",
       "4                     0        0                 2     5609      2381.0   \n",
       "...                 ...      ...               ...      ...         ...   \n",
       "1739014              33       59                79    17717      1250.0   \n",
       "1739015              33       59                79    17717      1999.0   \n",
       "1739016              33       59                83    22087       119.0   \n",
       "1739017              33       59                83    22088       119.0   \n",
       "1739018              33       59                83    22091       179.0   \n",
       "\n",
       "         item_cnt_day  \n",
       "0                10.0  \n",
       "1                 1.0  \n",
       "2                 4.0  \n",
       "3                 5.0  \n",
       "4                 1.0  \n",
       "...               ...  \n",
       "1739014           4.0  \n",
       "1739015           1.0  \n",
       "1739016           6.0  \n",
       "1739017           2.0  \n",
       "1739018           1.0  \n",
       "\n",
       "[1739019 rows x 6 columns]"
      ]
     },
     "execution_count": 45,
     "metadata": {},
     "output_type": "execute_result"
    }
   ],
   "source": [
    "train_grouped_month"
   ]
  },
  {
   "cell_type": "code",
   "execution_count": 46,
   "metadata": {},
   "outputs": [],
   "source": [
    "train_grouped_month.rename(columns = {'item_cnt_day':'item_cnt_month'}, inplace = True)"
   ]
  },
  {
   "cell_type": "code",
   "execution_count": 154,
   "metadata": {},
   "outputs": [
    {
     "data": {
      "text/html": [
       "<div>\n",
       "<style scoped>\n",
       "    .dataframe tbody tr th:only-of-type {\n",
       "        vertical-align: middle;\n",
       "    }\n",
       "\n",
       "    .dataframe tbody tr th {\n",
       "        vertical-align: top;\n",
       "    }\n",
       "\n",
       "    .dataframe thead th {\n",
       "        text-align: right;\n",
       "    }\n",
       "</style>\n",
       "<table border=\"1\" class=\"dataframe\">\n",
       "  <thead>\n",
       "    <tr style=\"text-align: right;\">\n",
       "      <th></th>\n",
       "      <th>date_block_num</th>\n",
       "      <th>shop_id</th>\n",
       "      <th>item_category_id</th>\n",
       "      <th>item_id</th>\n",
       "      <th>item_price</th>\n",
       "      <th>item_cnt_month</th>\n",
       "    </tr>\n",
       "  </thead>\n",
       "  <tbody>\n",
       "    <tr>\n",
       "      <th>0</th>\n",
       "      <td>0</td>\n",
       "      <td>0</td>\n",
       "      <td>2</td>\n",
       "      <td>5572</td>\n",
       "      <td>1322.0</td>\n",
       "      <td>10.0</td>\n",
       "    </tr>\n",
       "    <tr>\n",
       "      <th>1</th>\n",
       "      <td>0</td>\n",
       "      <td>0</td>\n",
       "      <td>2</td>\n",
       "      <td>5573</td>\n",
       "      <td>560.0</td>\n",
       "      <td>1.0</td>\n",
       "    </tr>\n",
       "    <tr>\n",
       "      <th>2</th>\n",
       "      <td>0</td>\n",
       "      <td>0</td>\n",
       "      <td>2</td>\n",
       "      <td>5575</td>\n",
       "      <td>806.0</td>\n",
       "      <td>4.0</td>\n",
       "    </tr>\n",
       "    <tr>\n",
       "      <th>3</th>\n",
       "      <td>0</td>\n",
       "      <td>0</td>\n",
       "      <td>2</td>\n",
       "      <td>5576</td>\n",
       "      <td>2231.0</td>\n",
       "      <td>5.0</td>\n",
       "    </tr>\n",
       "    <tr>\n",
       "      <th>4</th>\n",
       "      <td>0</td>\n",
       "      <td>0</td>\n",
       "      <td>2</td>\n",
       "      <td>5609</td>\n",
       "      <td>2381.0</td>\n",
       "      <td>1.0</td>\n",
       "    </tr>\n",
       "    <tr>\n",
       "      <th>...</th>\n",
       "      <td>...</td>\n",
       "      <td>...</td>\n",
       "      <td>...</td>\n",
       "      <td>...</td>\n",
       "      <td>...</td>\n",
       "      <td>...</td>\n",
       "    </tr>\n",
       "    <tr>\n",
       "      <th>1739014</th>\n",
       "      <td>33</td>\n",
       "      <td>59</td>\n",
       "      <td>79</td>\n",
       "      <td>17717</td>\n",
       "      <td>1250.0</td>\n",
       "      <td>4.0</td>\n",
       "    </tr>\n",
       "    <tr>\n",
       "      <th>1739015</th>\n",
       "      <td>33</td>\n",
       "      <td>59</td>\n",
       "      <td>79</td>\n",
       "      <td>17717</td>\n",
       "      <td>1999.0</td>\n",
       "      <td>1.0</td>\n",
       "    </tr>\n",
       "    <tr>\n",
       "      <th>1739016</th>\n",
       "      <td>33</td>\n",
       "      <td>59</td>\n",
       "      <td>83</td>\n",
       "      <td>22087</td>\n",
       "      <td>119.0</td>\n",
       "      <td>6.0</td>\n",
       "    </tr>\n",
       "    <tr>\n",
       "      <th>1739017</th>\n",
       "      <td>33</td>\n",
       "      <td>59</td>\n",
       "      <td>83</td>\n",
       "      <td>22088</td>\n",
       "      <td>119.0</td>\n",
       "      <td>2.0</td>\n",
       "    </tr>\n",
       "    <tr>\n",
       "      <th>1739018</th>\n",
       "      <td>33</td>\n",
       "      <td>59</td>\n",
       "      <td>83</td>\n",
       "      <td>22091</td>\n",
       "      <td>179.0</td>\n",
       "      <td>1.0</td>\n",
       "    </tr>\n",
       "  </tbody>\n",
       "</table>\n",
       "<p>1739019 rows × 6 columns</p>\n",
       "</div>"
      ],
      "text/plain": [
       "         date_block_num  shop_id  item_category_id  item_id  item_price  \\\n",
       "0                     0        0                 2     5572      1322.0   \n",
       "1                     0        0                 2     5573       560.0   \n",
       "2                     0        0                 2     5575       806.0   \n",
       "3                     0        0                 2     5576      2231.0   \n",
       "4                     0        0                 2     5609      2381.0   \n",
       "...                 ...      ...               ...      ...         ...   \n",
       "1739014              33       59                79    17717      1250.0   \n",
       "1739015              33       59                79    17717      1999.0   \n",
       "1739016              33       59                83    22087       119.0   \n",
       "1739017              33       59                83    22088       119.0   \n",
       "1739018              33       59                83    22091       179.0   \n",
       "\n",
       "         item_cnt_month  \n",
       "0                  10.0  \n",
       "1                   1.0  \n",
       "2                   4.0  \n",
       "3                   5.0  \n",
       "4                   1.0  \n",
       "...                 ...  \n",
       "1739014             4.0  \n",
       "1739015             1.0  \n",
       "1739016             6.0  \n",
       "1739017             2.0  \n",
       "1739018             1.0  \n",
       "\n",
       "[1739019 rows x 6 columns]"
      ]
     },
     "execution_count": 154,
     "metadata": {},
     "output_type": "execute_result"
    }
   ],
   "source": [
    "train_grouped_month"
   ]
  },
  {
   "cell_type": "code",
   "execution_count": 155,
   "metadata": {},
   "outputs": [
    {
     "data": {
      "text/plain": [
       "17717    7475\n",
       "7893     2009\n",
       "2445     1993\n",
       "4244     1941\n",
       "6675     1856\n",
       "         ... \n",
       "1281        1\n",
       "9028        1\n",
       "10052       1\n",
       "4931        1\n",
       "0           1\n",
       "Name: item_id, Length: 21806, dtype: int64"
      ]
     },
     "execution_count": 155,
     "metadata": {},
     "output_type": "execute_result"
    }
   ],
   "source": [
    "train_grouped_month['item_id'].value_counts()"
   ]
  },
  {
   "cell_type": "code",
   "execution_count": 157,
   "metadata": {},
   "outputs": [],
   "source": [
    "num_dif_price = train_grouped_month.groupby(['shop_id', 'item_id']).size().reset_index(name='num_different_prices')"
   ]
  },
  {
   "cell_type": "code",
   "execution_count": 187,
   "metadata": {},
   "outputs": [
    {
     "data": {
      "text/html": [
       "<div>\n",
       "<style scoped>\n",
       "    .dataframe tbody tr th:only-of-type {\n",
       "        vertical-align: middle;\n",
       "    }\n",
       "\n",
       "    .dataframe tbody tr th {\n",
       "        vertical-align: top;\n",
       "    }\n",
       "\n",
       "    .dataframe thead th {\n",
       "        text-align: right;\n",
       "    }\n",
       "</style>\n",
       "<table border=\"1\" class=\"dataframe\">\n",
       "  <thead>\n",
       "    <tr style=\"text-align: right;\">\n",
       "      <th></th>\n",
       "      <th>shop_id</th>\n",
       "      <th>item_id</th>\n",
       "      <th>num_different_prices</th>\n",
       "    </tr>\n",
       "  </thead>\n",
       "  <tbody>\n",
       "    <tr>\n",
       "      <th>22120</th>\n",
       "      <td>4</td>\n",
       "      <td>17717</td>\n",
       "      <td>264</td>\n",
       "    </tr>\n",
       "    <tr>\n",
       "      <th>40169</th>\n",
       "      <td>6</td>\n",
       "      <td>17717</td>\n",
       "      <td>288</td>\n",
       "    </tr>\n",
       "    <tr>\n",
       "      <th>49086</th>\n",
       "      <td>7</td>\n",
       "      <td>17717</td>\n",
       "      <td>277</td>\n",
       "    </tr>\n",
       "    <tr>\n",
       "      <th>64247</th>\n",
       "      <td>12</td>\n",
       "      <td>11365</td>\n",
       "      <td>241</td>\n",
       "    </tr>\n",
       "    <tr>\n",
       "      <th>64251</th>\n",
       "      <td>12</td>\n",
       "      <td>11369</td>\n",
       "      <td>415</td>\n",
       "    </tr>\n",
       "    <tr>\n",
       "      <th>64252</th>\n",
       "      <td>12</td>\n",
       "      <td>11370</td>\n",
       "      <td>560</td>\n",
       "    </tr>\n",
       "    <tr>\n",
       "      <th>64255</th>\n",
       "      <td>12</td>\n",
       "      <td>11373</td>\n",
       "      <td>460</td>\n",
       "    </tr>\n",
       "    <tr>\n",
       "      <th>138893</th>\n",
       "      <td>22</td>\n",
       "      <td>17717</td>\n",
       "      <td>238</td>\n",
       "    </tr>\n",
       "    <tr>\n",
       "      <th>149852</th>\n",
       "      <td>24</td>\n",
       "      <td>17717</td>\n",
       "      <td>211</td>\n",
       "    </tr>\n",
       "    <tr>\n",
       "      <th>163569</th>\n",
       "      <td>25</td>\n",
       "      <td>17717</td>\n",
       "      <td>241</td>\n",
       "    </tr>\n",
       "    <tr>\n",
       "      <th>174249</th>\n",
       "      <td>26</td>\n",
       "      <td>17717</td>\n",
       "      <td>224</td>\n",
       "    </tr>\n",
       "    <tr>\n",
       "      <th>184743</th>\n",
       "      <td>27</td>\n",
       "      <td>17717</td>\n",
       "      <td>331</td>\n",
       "    </tr>\n",
       "    <tr>\n",
       "      <th>228118</th>\n",
       "      <td>31</td>\n",
       "      <td>17717</td>\n",
       "      <td>428</td>\n",
       "    </tr>\n",
       "    <tr>\n",
       "      <th>245531</th>\n",
       "      <td>35</td>\n",
       "      <td>17717</td>\n",
       "      <td>233</td>\n",
       "    </tr>\n",
       "    <tr>\n",
       "      <th>261925</th>\n",
       "      <td>38</td>\n",
       "      <td>17717</td>\n",
       "      <td>240</td>\n",
       "    </tr>\n",
       "    <tr>\n",
       "      <th>285025</th>\n",
       "      <td>42</td>\n",
       "      <td>17717</td>\n",
       "      <td>326</td>\n",
       "    </tr>\n",
       "  </tbody>\n",
       "</table>\n",
       "</div>"
      ],
      "text/plain": [
       "        shop_id  item_id  num_different_prices\n",
       "22120         4    17717                   264\n",
       "40169         6    17717                   288\n",
       "49086         7    17717                   277\n",
       "64247        12    11365                   241\n",
       "64251        12    11369                   415\n",
       "64252        12    11370                   560\n",
       "64255        12    11373                   460\n",
       "138893       22    17717                   238\n",
       "149852       24    17717                   211\n",
       "163569       25    17717                   241\n",
       "174249       26    17717                   224\n",
       "184743       27    17717                   331\n",
       "228118       31    17717                   428\n",
       "245531       35    17717                   233\n",
       "261925       38    17717                   240\n",
       "285025       42    17717                   326"
      ]
     },
     "execution_count": 187,
     "metadata": {},
     "output_type": "execute_result"
    }
   ],
   "source": [
    "num_dif_price[num_dif_price['num_different_prices'] > 200]"
   ]
  },
  {
   "cell_type": "code",
   "execution_count": 204,
   "metadata": {},
   "outputs": [],
   "source": [
    "t = Translator()\n",
    "items['english_name'] = items['item_name'].apply(lambda x: t.translate(x))"
   ]
  },
  {
   "cell_type": "code",
   "execution_count": 207,
   "metadata": {},
   "outputs": [
    {
     "name": "stdout",
     "output_type": "stream",
     "text": [
      "Translated(src=ru, dest=en, text=! IN THE POWER OF NAVIGATION (PLASTIC) D, pronunciation=[[]], extra_data=\"{'translat...\")\n"
     ]
    }
   ],
   "source": [
    "print(items['english_name'][0])"
   ]
  },
  {
   "cell_type": "code",
   "execution_count": 208,
   "metadata": {},
   "outputs": [],
   "source": [
    "items.to_csv('items_translated.csv')"
   ]
  },
  {
   "cell_type": "code",
   "execution_count": 185,
   "metadata": {},
   "outputs": [
    {
     "data": {
      "text/html": [
       "<div>\n",
       "<style scoped>\n",
       "    .dataframe tbody tr th:only-of-type {\n",
       "        vertical-align: middle;\n",
       "    }\n",
       "\n",
       "    .dataframe tbody tr th {\n",
       "        vertical-align: top;\n",
       "    }\n",
       "\n",
       "    .dataframe thead th {\n",
       "        text-align: right;\n",
       "    }\n",
       "</style>\n",
       "<table border=\"1\" class=\"dataframe\">\n",
       "  <thead>\n",
       "    <tr style=\"text-align: right;\">\n",
       "      <th></th>\n",
       "      <th>item_name</th>\n",
       "      <th>item_id</th>\n",
       "      <th>item_category_id</th>\n",
       "    </tr>\n",
       "  </thead>\n",
       "  <tbody>\n",
       "    <tr>\n",
       "      <th>17717</th>\n",
       "      <td>Прием денежных средств для 1С-Онлайн</td>\n",
       "      <td>17717</td>\n",
       "      <td>79</td>\n",
       "    </tr>\n",
       "  </tbody>\n",
       "</table>\n",
       "</div>"
      ],
      "text/plain": [
       "                                  item_name  item_id  item_category_id\n",
       "17717  Прием денежных средств для 1С-Онлайн    17717                79"
      ]
     },
     "execution_count": 185,
     "metadata": {},
     "output_type": "execute_result"
    }
   ],
   "source": [
    "items[items['item_id'] == 17717]"
   ]
  },
  {
   "cell_type": "code",
   "execution_count": 160,
   "metadata": {},
   "outputs": [],
   "source": [
    "table = num_dif_price['num_different_prices'].value_counts()"
   ]
  },
  {
   "cell_type": "code",
   "execution_count": 165,
   "metadata": {},
   "outputs": [
    {
     "data": {
      "text/plain": [
       "1      144237\n",
       "2       79161\n",
       "3       50065\n",
       "4       34296\n",
       "5       24511\n",
       "        ...  \n",
       "121         1\n",
       "125         1\n",
       "128         1\n",
       "130         1\n",
       "98          1\n",
       "Name: num_different_prices, Length: 121, dtype: int64"
      ]
     },
     "execution_count": 165,
     "metadata": {},
     "output_type": "execute_result"
    }
   ],
   "source": [
    "table"
   ]
  },
  {
   "cell_type": "code",
   "execution_count": 170,
   "metadata": {},
   "outputs": [],
   "source": [
    "#43\n",
    "#55\n",
    "#12\n",
    "one_shop_df = train_grouped_month[train_grouped_month['shop_id'] == 12]"
   ]
  },
  {
   "cell_type": "code",
   "execution_count": 171,
   "metadata": {},
   "outputs": [
    {
     "data": {
      "text/plain": [
       "11370    560\n",
       "11373    460\n",
       "11369    415\n",
       "11365    241\n",
       "13753    159\n",
       "        ... \n",
       "16046      1\n",
       "13999      1\n",
       "3044       1\n",
       "21471      1\n",
       "2049       1\n",
       "Name: item_id, Length: 7381, dtype: int64"
      ]
     },
     "execution_count": 171,
     "metadata": {},
     "output_type": "execute_result"
    }
   ],
   "source": [
    "one_shop_df['item_id'].value_counts()"
   ]
  },
  {
   "cell_type": "code",
   "execution_count": 172,
   "metadata": {},
   "outputs": [],
   "source": [
    "#5822\n",
    "#492\n",
    "#11370\n",
    "one_shop_one_item_df = one_shop_df[one_shop_df['item_id'] == 11370]"
   ]
  },
  {
   "cell_type": "code",
   "execution_count": 173,
   "metadata": {},
   "outputs": [],
   "source": [
    "#one_shop_one_item_df = one_shop_one_item_df.set_index('date_block_num')"
   ]
  },
  {
   "cell_type": "code",
   "execution_count": 174,
   "metadata": {},
   "outputs": [
    {
     "data": {
      "text/html": [
       "<div>\n",
       "<style scoped>\n",
       "    .dataframe tbody tr th:only-of-type {\n",
       "        vertical-align: middle;\n",
       "    }\n",
       "\n",
       "    .dataframe tbody tr th {\n",
       "        vertical-align: top;\n",
       "    }\n",
       "\n",
       "    .dataframe thead th {\n",
       "        text-align: right;\n",
       "    }\n",
       "</style>\n",
       "<table border=\"1\" class=\"dataframe\">\n",
       "  <thead>\n",
       "    <tr style=\"text-align: right;\">\n",
       "      <th></th>\n",
       "      <th>date_block_num</th>\n",
       "      <th>shop_id</th>\n",
       "      <th>item_category_id</th>\n",
       "      <th>item_id</th>\n",
       "      <th>item_price</th>\n",
       "      <th>item_cnt_month</th>\n",
       "    </tr>\n",
       "  </thead>\n",
       "  <tbody>\n",
       "    <tr>\n",
       "      <th>11416</th>\n",
       "      <td>0</td>\n",
       "      <td>12</td>\n",
       "      <td>9</td>\n",
       "      <td>11370</td>\n",
       "      <td>214.285721</td>\n",
       "      <td>7.0</td>\n",
       "    </tr>\n",
       "    <tr>\n",
       "      <th>11417</th>\n",
       "      <td>0</td>\n",
       "      <td>12</td>\n",
       "      <td>9</td>\n",
       "      <td>11370</td>\n",
       "      <td>285.714294</td>\n",
       "      <td>7.0</td>\n",
       "    </tr>\n",
       "    <tr>\n",
       "      <th>11418</th>\n",
       "      <td>0</td>\n",
       "      <td>12</td>\n",
       "      <td>9</td>\n",
       "      <td>11370</td>\n",
       "      <td>333.333344</td>\n",
       "      <td>3.0</td>\n",
       "    </tr>\n",
       "    <tr>\n",
       "      <th>11419</th>\n",
       "      <td>0</td>\n",
       "      <td>12</td>\n",
       "      <td>9</td>\n",
       "      <td>11370</td>\n",
       "      <td>357.142853</td>\n",
       "      <td>7.0</td>\n",
       "    </tr>\n",
       "    <tr>\n",
       "      <th>11420</th>\n",
       "      <td>0</td>\n",
       "      <td>12</td>\n",
       "      <td>9</td>\n",
       "      <td>11370</td>\n",
       "      <td>375.000000</td>\n",
       "      <td>12.0</td>\n",
       "    </tr>\n",
       "    <tr>\n",
       "      <th>11421</th>\n",
       "      <td>0</td>\n",
       "      <td>12</td>\n",
       "      <td>9</td>\n",
       "      <td>11370</td>\n",
       "      <td>464.285706</td>\n",
       "      <td>7.0</td>\n",
       "    </tr>\n",
       "    <tr>\n",
       "      <th>11422</th>\n",
       "      <td>0</td>\n",
       "      <td>12</td>\n",
       "      <td>9</td>\n",
       "      <td>11370</td>\n",
       "      <td>500.000000</td>\n",
       "      <td>7.0</td>\n",
       "    </tr>\n",
       "    <tr>\n",
       "      <th>11423</th>\n",
       "      <td>0</td>\n",
       "      <td>12</td>\n",
       "      <td>9</td>\n",
       "      <td>11370</td>\n",
       "      <td>666.666687</td>\n",
       "      <td>3.0</td>\n",
       "    </tr>\n",
       "    <tr>\n",
       "      <th>11424</th>\n",
       "      <td>0</td>\n",
       "      <td>12</td>\n",
       "      <td>9</td>\n",
       "      <td>11370</td>\n",
       "      <td>750.000000</td>\n",
       "      <td>2.0</td>\n",
       "    </tr>\n",
       "    <tr>\n",
       "      <th>11425</th>\n",
       "      <td>0</td>\n",
       "      <td>12</td>\n",
       "      <td>9</td>\n",
       "      <td>11370</td>\n",
       "      <td>1000.000000</td>\n",
       "      <td>5.0</td>\n",
       "    </tr>\n",
       "  </tbody>\n",
       "</table>\n",
       "</div>"
      ],
      "text/plain": [
       "       date_block_num  shop_id  item_category_id  item_id   item_price  \\\n",
       "11416               0       12                 9    11370   214.285721   \n",
       "11417               0       12                 9    11370   285.714294   \n",
       "11418               0       12                 9    11370   333.333344   \n",
       "11419               0       12                 9    11370   357.142853   \n",
       "11420               0       12                 9    11370   375.000000   \n",
       "11421               0       12                 9    11370   464.285706   \n",
       "11422               0       12                 9    11370   500.000000   \n",
       "11423               0       12                 9    11370   666.666687   \n",
       "11424               0       12                 9    11370   750.000000   \n",
       "11425               0       12                 9    11370  1000.000000   \n",
       "\n",
       "       item_cnt_month  \n",
       "11416             7.0  \n",
       "11417             7.0  \n",
       "11418             3.0  \n",
       "11419             7.0  \n",
       "11420            12.0  \n",
       "11421             7.0  \n",
       "11422             7.0  \n",
       "11423             3.0  \n",
       "11424             2.0  \n",
       "11425             5.0  "
      ]
     },
     "execution_count": 174,
     "metadata": {},
     "output_type": "execute_result"
    }
   ],
   "source": [
    "one_shop_one_item_df.head(10)"
   ]
  },
  {
   "cell_type": "code",
   "execution_count": 175,
   "metadata": {},
   "outputs": [],
   "source": [
    "one_shop_one_item_df = one_shop_one_item_df.reset_index(drop=True)"
   ]
  },
  {
   "cell_type": "code",
   "execution_count": 176,
   "metadata": {},
   "outputs": [
    {
     "name": "stdout",
     "output_type": "stream",
     "text": [
      "<class 'pandas.core.frame.DataFrame'>\n",
      "RangeIndex: 560 entries, 0 to 559\n",
      "Data columns (total 6 columns):\n",
      " #   Column            Non-Null Count  Dtype  \n",
      "---  ------            --------------  -----  \n",
      " 0   date_block_num    560 non-null    int64  \n",
      " 1   shop_id           560 non-null    int64  \n",
      " 2   item_category_id  560 non-null    int64  \n",
      " 3   item_id           560 non-null    int64  \n",
      " 4   item_price        560 non-null    float64\n",
      " 5   item_cnt_month    560 non-null    float32\n",
      "dtypes: float32(1), float64(1), int64(4)\n",
      "memory usage: 24.2 KB\n"
     ]
    }
   ],
   "source": [
    "one_shop_one_item_df.info()"
   ]
  },
  {
   "cell_type": "code",
   "execution_count": 113,
   "metadata": {},
   "outputs": [],
   "source": [
    "# nominal intergers can not be converted to binary encoding, convert to string\n",
    "one_shop_one_item_df['date_block_num']   = [('month ' + str(i)) for i in one_shop_one_item_df['date_block_num']]\n",
    "one_shop_one_item_df['shop_id']          = [('shop ' + str(i)) for i in one_shop_one_item_df['shop_id']]\n",
    "one_shop_one_item_df['item_category_id'] = [('item_category ' + str(i)) for i in one_shop_one_item_df['item_category_id']]\n",
    "one_shop_one_item_df['item_id']          = [('item ' + str(i)) for i in one_shop_one_item_df['item_id']]"
   ]
  },
  {
   "cell_type": "code",
   "execution_count": null,
   "metadata": {},
   "outputs": [],
   "source": []
  },
  {
   "cell_type": "code",
   "execution_count": 114,
   "metadata": {},
   "outputs": [],
   "source": [
    "# break into X and Y, where X is the inputs and Y is our output\n",
    "x = one_shop_one_item_df.iloc[:, :-1].values\n",
    "y = one_shop_one_item_df.iloc[:,-1].values"
   ]
  },
  {
   "cell_type": "code",
   "execution_count": 115,
   "metadata": {},
   "outputs": [],
   "source": [
    "ct = ColumnTransformer([('encoder', OneHotEncoder(), [0, 1, 2, 3])], remainder = 'passthrough')\n",
    "#X = np.array(ct.fit_transform(X), dtype=object)\n",
    "x = ct.fit_transform(x)"
   ]
  },
  {
   "cell_type": "code",
   "execution_count": 116,
   "metadata": {},
   "outputs": [],
   "source": [
    "X_train, X_test, Y_train, Y_test = train_test_split(x, y,test_size = 0.2, random_state = 0)"
   ]
  },
  {
   "cell_type": "code",
   "execution_count": 117,
   "metadata": {},
   "outputs": [
    {
     "data": {
      "text/plain": [
       "LinearRegression(copy_X=True, fit_intercept=True, n_jobs=None, normalize=False)"
      ]
     },
     "execution_count": 117,
     "metadata": {},
     "output_type": "execute_result"
    }
   ],
   "source": [
    "regressor = LinearRegression()\n",
    "regressor.fit(X_train, Y_train)"
   ]
  },
  {
   "cell_type": "code",
   "execution_count": 129,
   "metadata": {},
   "outputs": [],
   "source": [
    "one_shop_test = test[test['shop_id'] == 55]"
   ]
  },
  {
   "cell_type": "code",
   "execution_count": 130,
   "metadata": {},
   "outputs": [],
   "source": [
    "one_shop_test = one_shop_test[one_shop_test['item_id'] == 492]"
   ]
  },
  {
   "cell_type": "code",
   "execution_count": 132,
   "metadata": {},
   "outputs": [
    {
     "data": {
      "text/html": [
       "<div>\n",
       "<style scoped>\n",
       "    .dataframe tbody tr th:only-of-type {\n",
       "        vertical-align: middle;\n",
       "    }\n",
       "\n",
       "    .dataframe tbody tr th {\n",
       "        vertical-align: top;\n",
       "    }\n",
       "\n",
       "    .dataframe thead th {\n",
       "        text-align: right;\n",
       "    }\n",
       "</style>\n",
       "<table border=\"1\" class=\"dataframe\">\n",
       "  <thead>\n",
       "    <tr style=\"text-align: right;\">\n",
       "      <th></th>\n",
       "      <th>shop_id</th>\n",
       "      <th>item_id</th>\n",
       "    </tr>\n",
       "    <tr>\n",
       "      <th>ID</th>\n",
       "      <th></th>\n",
       "      <th></th>\n",
       "    </tr>\n",
       "  </thead>\n",
       "  <tbody>\n",
       "    <tr>\n",
       "      <th>157534</th>\n",
       "      <td>55</td>\n",
       "      <td>492</td>\n",
       "    </tr>\n",
       "  </tbody>\n",
       "</table>\n",
       "</div>"
      ],
      "text/plain": [
       "        shop_id  item_id\n",
       "ID                      \n",
       "157534       55      492"
      ]
     },
     "execution_count": 132,
     "metadata": {},
     "output_type": "execute_result"
    }
   ],
   "source": [
    "one_shop_test"
   ]
  },
  {
   "cell_type": "code",
   "execution_count": 148,
   "metadata": {},
   "outputs": [
    {
     "data": {
      "image/png": "[encoded data removed]",
      "text/plain": [
       "<Figure size 432x288 with 1 Axes>"
      ]
     },
     "metadata": {},
     "output_type": "display_data"
    }
   ],
   "source": [
    "fig3 = plt.figure()\n",
    "ax3 = fig3.add_subplot(111, projection='3d')\n",
    "\n",
    "xpos = one_shop_one_item_df['date_block_num']\n",
    "ypos = one_shop_one_item_df['item_cnt_month']\n",
    "num_ele = len(xpos)\n",
    "zpos = one_shop_one_item_df['item_price']\n",
    "\n",
    "dx = np.ones(num_ele)\n",
    "dy = np.ones(num_ele)\n",
    "dz = np.ones(num_ele)\n",
    "\n",
    "ax3.bar3d(xpos, ypos, zpos, dx, dy, dz, color = '#00ceaa')\n",
    "plt.show()"
   ]
  },
  {
   "cell_type": "code",
   "execution_count": 177,
   "metadata": {},
   "outputs": [
    {
     "data": {
      "application/vnd.plotly.v1+json": {
       "config": {
        "plotlyServerURL": "https://plot.ly"
       },
       "data": [
        {
         "hovertemplate": "date_block_num=%{x}<br>item_price=%{marker.color}<br>item_cnt_month=%{z}<extra></extra>",
         "legendgroup": "",
         "marker": {
          "color": [
           214.2857208251953,
           285.71429443359375,
           333.3333435058594,
           357.1428527832031,
           375,
           464.28570556640625,
           500,
           666.6666870117188,
           750,
           1000,
           1500,
           2500,
           333.3333435058594,
           392.8571472167969,
           500,
           583.3333129882812,
           600,
           625,
           666.6666870117188,
           678.5714111328125,
           750,
           777.7777709960938,
           833.3333129882812,
           916.6666870117188,
           3250,
           250,
           285.71429443359375,
           333.3333435058594,
           490,
           541.6666870117188,
           550,
           571.4285888671875,
           583.3333129882812,
           687.5,
           1125,
           1250,
           1500,
           1833.3333740234375,
           2125,
           2250,
           2750,
           3750,
           208.3333282470703,
           281.25,
           285.71429443359375,
           392.8571472167969,
           458.3333435058594,
           583.3333129882812,
           625,
           750,
           812.5,
           875,
           916.6666870117188,
           937.5,
           1000,
           1750,
           2000,
           5750,
           312.5,
           416.6666564941406,
           541.6666870117188,
           666.6666870117188,
           750,
           1000,
           1125,
           1250,
           2250,
           2750,
           3500,
           250,
           333.3333435058594,
           400,
           450,
           500,
           535.7142944335938,
           541.6666870117188,
           750,
           1375,
           1500,
           2250,
           2833.333251953125,
           250,
           375,
           400,
           500,
           562.5,
           750,
           875,
           1250,
           1500,
           1750,
           250,
           500,
           583.3333129882812,
           750,
           812.5,
           1000,
           1583.3333740234375,
           1750,
           2000,
           2250,
           2375,
           2500,
           4000,
           500,
           821.4285888671875,
           875,
           1000,
           1250,
           1375,
           1750,
           1875,
           4500,
           7000,
           14625,
           500,
           750,
           850,
           875,
           1000,
           1125,
           1375,
           1500,
           1625,
           1950,
           2000,
           2500,
           3000,
           4000,
           4500,
           5250,
           236.11111450195312,
           240,
           300,
           350,
           375,
           390.9090881347656,
           500,
           562.5,
           687.5,
           750,
           1166.6666259765625,
           1500,
           1625,
           1750,
           4000,
           13750,
           303.5714416503906,
           312.5,
           375,
           384.6153869628906,
           416.6666564941406,
           426.4705810546875,
           450,
           500,
           625,
           666.6666870117188,
           812.5,
           916.6666870117188,
           937.5,
           1000,
           1125,
           1214.2857666015625,
           1250,
           291.6666564941406,
           300,
           437.5,
           475,
           750,
           791.6666870117188,
           800,
           875,
           1083.3333740234375,
           1250,
           1333.3333740234375,
           1500,
           1750,
           190,
           287.5,
           416.6666564941406,
           425,
           500,
           543.75,
           550,
           642.8571166992188,
           650,
           678.5714111328125,
           812.5,
           833.3333129882812,
           965.8571166992188,
           1083.3333740234375,
           1150,
           1416.6666259765625,
           1750,
           3500,
           70.20201873779297,
           100,
           106.52173614501953,
           116.66666412353516,
           161.86441040039062,
           173.3333282470703,
           189.18919372558594,
           191.6666717529297,
           208.3333282470703,
           413.6363525390625,
           571.4285888671875,
           708.3333129882812,
           800,
           812.5,
           950,
           2000,
           2750,
           3500,
           125,
           168.42105102539062,
           180.76922607421875,
           204.1666717529297,
           218.75,
           250,
           265.2173767089844,
           276.9230651855469,
           296.875,
           307.1428527832031,
           312.5,
           321.4285583496094,
           425,
           464.28570556640625,
           500,
           750,
           1000,
           1125,
           1510,
           222.22222900390625,
           250,
           269.23077392578125,
           276.5625,
           285.71429443359375,
           357.1428527832031,
           361.1111145019531,
           375,
           393.4869689941406,
           500,
           550,
           666.6666870117188,
           750,
           1666.6666259765625,
           1750,
           211.76470947265625,
           281.25,
           312.5,
           335.71429443359375,
           388.8888854980469,
           428.5714416503906,
           464.28570556640625,
           500,
           531.25,
           916.6666870117188,
           1125,
           2500,
           107.14286041259766,
           166.6666717529297,
           250,
           261.1111145019531,
           275,
           285.71429443359375,
           312.5,
           375,
           428.5714416503906,
           437.5,
           500,
           562.5,
           687.5,
           875,
           1000,
           1500,
           2464.28564453125,
           125,
           157.8947296142578,
           187.5,
           200,
           237.5,
           250,
           271.875,
           320,
           321.4285583496094,
           375,
           388.8888854980469,
           500,
           650,
           750,
           1000,
           1016.6666870117188,
           1250,
           1500,
           237.70492553710938,
           275,
           295.4545593261719,
           300,
           316.6666564941406,
           325,
           384.6153869628906,
           440.7894592285156,
           500,
           550,
           637.5,
           708.3333129882812,
           1000,
           1250,
           1500,
           2500,
           2791.666748046875,
           4000,
           139.5833282470703,
           140.74073791503906,
           163.88888549804688,
           185.7142791748047,
           236.36363220214844,
           250,
           275,
           281.25,
           281.81817626953125,
           320.8333435058594,
           333.3333435058594,
           407.1428527832031,
           500,
           562.5,
           642.8571166992188,
           750,
           857.1428833007812,
           1000,
           1500,
           2125,
           62.5,
           150,
           179.03225708007812,
           190,
           236.19631958007812,
           243.05555725097656,
           250,
           272.368408203125,
           297.22222900390625,
           322,
           327.77777099609375,
           330.4347839355469,
           346.1538391113281,
           385.71429443359375,
           440.8536682128906,
           460,
           470,
           507.1428527832031,
           536.111083984375,
           1437.5,
           205.38461303710938,
           247.8787841796875,
           257.741943359375,
           270.8333435058594,
           271.875,
           285.625,
           295.4545593261719,
           297.9166564941406,
           326.3888854980469,
           346,
           367.69232177734375,
           403.0434875488281,
           412.25,
           428.8461608886719,
           429.1428527832031,
           444.1176452636719,
           450,
           460,
           460.29412841796875,
           502.8571472167969,
           518.3333129882812,
           531.8181762695312,
           720,
           94,
           207.31707763671875,
           210.8333282470703,
           228.94737243652344,
           290,
           303.75,
           397.77777099609375,
           400,
           528.3333129882812,
           552.5,
           586.6666870117188,
           600,
           663,
           900,
           1062.5,
           1250,
           1290,
           194.375,
           194.5454559326172,
           204.7058868408203,
           212.14285278320312,
           222,
           272.1428527832031,
           297.77777099609375,
           327.5,
           372.941162109375,
           416.6666564941406,
           448.3333435058594,
           537.5,
           576.6666870117188,
           633.6363525390625,
           912.5,
           916.6666870117188,
           1061.4285888671875,
           1320,
           1375,
           200,
           274.28570556640625,
           291.81817626953125,
           332,
           350,
           387.5,
           390.25640869140625,
           450,
           556.6666870117188,
           616.6666870117188,
           626.6666870117188,
           672.5,
           752,
           826,
           990,
           1036.6666259765625,
           1110,
           1310,
           1350,
           1356.6666259765625,
           125.86538696289062,
           139.8148193359375,
           184.44444274902344,
           228.57142639160156,
           233,
           237.5,
           251.59091186523438,
           264.28570556640625,
           305.8333435058594,
           327.5,
           357.6470642089844,
           380,
           475,
           518.3333129882812,
           556.6666870117188,
           605.7142944335938,
           786,
           1250,
           1416.6666259765625,
           1550,
           1560,
           117.90697479248047,
           132.61904907226562,
           150.64515686035156,
           154.7058868408203,
           171.66180419921875,
           208.8372039794922,
           215.55555725097656,
           228.57142639160156,
           235.625,
           334,
           358.3333435058594,
           416.6666564941406,
           570,
           625,
           1200,
           1650,
           248.57142639160156,
           261.25,
           292,
           298.8888854980469,
           316.6666564941406,
           332.22222900390625,
           423.3333435058594,
           460.8333435058594,
           467,
           487.1428527832031,
           500,
           555.7142944335938,
           574,
           610,
           625,
           730,
           775,
           936.6666870117188,
           1550,
           143.57142639160156,
           164.39999389648438,
           185.7142791748047,
           200,
           233.3333282470703,
           240.90908813476562,
           291.25,
           374.28570556640625,
           440,
           441.4285583496094,
           527.5,
           833.3333129882812,
           1260,
           140,
           165,
           208.3333282470703,
           235.7142791748047,
           271.4285583496094,
           444.28570556640625,
           490,
           537.5,
           625,
           633.3333129882812,
           670,
           716.6666870117188,
           805,
           810,
           873.3333129882812,
           896.6666870117188,
           1045,
           1500,
           1800,
           2160,
           172.0253143310547,
           183.55555725097656,
           305,
           344.28570556640625,
           345,
           350,
           371.1111145019531,
           411.1764831542969,
           443,
           465,
           490,
           491.25,
           600,
           618,
           756.6666870117188,
           800,
           816.6666870117188,
           822.5,
           878.3333129882812,
           1576.6666259765625,
           1585,
           2172.5,
           116.66666412353516,
           125,
           286,
           322.8571472167969,
           323.125,
           325,
           333.8461608886719,
           357.1428527832031,
           390,
           478.5714416503906,
           492.5,
           516.6666870117188,
           594.2857055664062,
           632,
           634,
           738,
           1260,
           1462.5
          ],
          "coloraxis": "coloraxis",
          "symbol": "circle"
         },
         "mode": "markers",
         "name": "",
         "scene": "scene",
         "showlegend": false,
         "type": "scatter3d",
         "x": [
          0,
          0,
          0,
          0,
          0,
          0,
          0,
          0,
          0,
          0,
          0,
          0,
          1,
          1,
          1,
          1,
          1,
          1,
          1,
          1,
          1,
          1,
          1,
          1,
          1,
          2,
          2,
          2,
          2,
          2,
          2,
          2,
          2,
          2,
          2,
          2,
          2,
          2,
          2,
          2,
          2,
          2,
          3,
          3,
          3,
          3,
          3,
          3,
          3,
          3,
          3,
          3,
          3,
          3,
          3,
          3,
          3,
          3,
          4,
          4,
          4,
          4,
          4,
          4,
          4,
          4,
          4,
          4,
          4,
          5,
          5,
          5,
          5,
          5,
          5,
          5,
          5,
          5,
          5,
          5,
          5,
          6,
          6,
          6,
          6,
          6,
          6,
          6,
          6,
          6,
          6,
          7,
          7,
          7,
          7,
          7,
          7,
          7,
          7,
          7,
          7,
          7,
          7,
          7,
          8,
          8,
          8,
          8,
          8,
          8,
          8,
          8,
          8,
          8,
          8,
          9,
          9,
          9,
          9,
          9,
          9,
          9,
          9,
          9,
          9,
          9,
          9,
          9,
          9,
          9,
          9,
          10,
          10,
          10,
          10,
          10,
          10,
          10,
          10,
          10,
          10,
          10,
          10,
          10,
          10,
          10,
          10,
          11,
          11,
          11,
          11,
          11,
          11,
          11,
          11,
          11,
          11,
          11,
          11,
          11,
          11,
          11,
          11,
          11,
          12,
          12,
          12,
          12,
          12,
          12,
          12,
          12,
          12,
          12,
          12,
          12,
          12,
          13,
          13,
          13,
          13,
          13,
          13,
          13,
          13,
          13,
          13,
          13,
          13,
          13,
          13,
          13,
          13,
          13,
          13,
          14,
          14,
          14,
          14,
          14,
          14,
          14,
          14,
          14,
          14,
          14,
          14,
          14,
          14,
          14,
          14,
          14,
          14,
          15,
          15,
          15,
          15,
          15,
          15,
          15,
          15,
          15,
          15,
          15,
          15,
          15,
          15,
          15,
          15,
          15,
          15,
          15,
          16,
          16,
          16,
          16,
          16,
          16,
          16,
          16,
          16,
          16,
          16,
          16,
          16,
          16,
          16,
          17,
          17,
          17,
          17,
          17,
          17,
          17,
          17,
          17,
          17,
          17,
          17,
          18,
          18,
          18,
          18,
          18,
          18,
          18,
          18,
          18,
          18,
          18,
          18,
          18,
          18,
          18,
          18,
          18,
          19,
          19,
          19,
          19,
          19,
          19,
          19,
          19,
          19,
          19,
          19,
          19,
          19,
          19,
          19,
          19,
          19,
          19,
          20,
          20,
          20,
          20,
          20,
          20,
          20,
          20,
          20,
          20,
          20,
          20,
          20,
          20,
          20,
          20,
          20,
          20,
          21,
          21,
          21,
          21,
          21,
          21,
          21,
          21,
          21,
          21,
          21,
          21,
          21,
          21,
          21,
          21,
          21,
          21,
          21,
          21,
          22,
          22,
          22,
          22,
          22,
          22,
          22,
          22,
          22,
          22,
          22,
          22,
          22,
          22,
          22,
          22,
          22,
          22,
          22,
          22,
          23,
          23,
          23,
          23,
          23,
          23,
          23,
          23,
          23,
          23,
          23,
          23,
          23,
          23,
          23,
          23,
          23,
          23,
          23,
          23,
          23,
          23,
          23,
          24,
          24,
          24,
          24,
          24,
          24,
          24,
          24,
          24,
          24,
          24,
          24,
          24,
          24,
          24,
          24,
          24,
          25,
          25,
          25,
          25,
          25,
          25,
          25,
          25,
          25,
          25,
          25,
          25,
          25,
          25,
          25,
          25,
          25,
          25,
          25,
          26,
          26,
          26,
          26,
          26,
          26,
          26,
          26,
          26,
          26,
          26,
          26,
          26,
          26,
          26,
          26,
          26,
          26,
          26,
          26,
          27,
          27,
          27,
          27,
          27,
          27,
          27,
          27,
          27,
          27,
          27,
          27,
          27,
          27,
          27,
          27,
          27,
          27,
          27,
          27,
          27,
          28,
          28,
          28,
          28,
          28,
          28,
          28,
          28,
          28,
          28,
          28,
          28,
          28,
          28,
          28,
          28,
          29,
          29,
          29,
          29,
          29,
          29,
          29,
          29,
          29,
          29,
          29,
          29,
          29,
          29,
          29,
          29,
          29,
          29,
          29,
          30,
          30,
          30,
          30,
          30,
          30,
          30,
          30,
          30,
          30,
          30,
          30,
          30,
          31,
          31,
          31,
          31,
          31,
          31,
          31,
          31,
          31,
          31,
          31,
          31,
          31,
          31,
          31,
          31,
          31,
          31,
          31,
          31,
          32,
          32,
          32,
          32,
          32,
          32,
          32,
          32,
          32,
          32,
          32,
          32,
          32,
          32,
          32,
          32,
          32,
          32,
          32,
          32,
          32,
          32,
          33,
          33,
          33,
          33,
          33,
          33,
          33,
          33,
          33,
          33,
          33,
          33,
          33,
          33,
          33,
          33,
          33,
          33
         ],
         "y": [
          214.2857208251953,
          285.71429443359375,
          333.3333435058594,
          357.1428527832031,
          375,
          464.28570556640625,
          500,
          666.6666870117188,
          750,
          1000,
          1500,
          2500,
          333.3333435058594,
          392.8571472167969,
          500,
          583.3333129882812,
          600,
          625,
          666.6666870117188,
          678.5714111328125,
          750,
          777.7777709960938,
          833.3333129882812,
          916.6666870117188,
          3250,
          250,
          285.71429443359375,
          333.3333435058594,
          490,
          541.6666870117188,
          550,
          571.4285888671875,
          583.3333129882812,
          687.5,
          1125,
          1250,
          1500,
          1833.3333740234375,
          2125,
          2250,
          2750,
          3750,
          208.3333282470703,
          281.25,
          285.71429443359375,
          392.8571472167969,
          458.3333435058594,
          583.3333129882812,
          625,
          750,
          812.5,
          875,
          916.6666870117188,
          937.5,
          1000,
          1750,
          2000,
          5750,
          312.5,
          416.6666564941406,
          541.6666870117188,
          666.6666870117188,
          750,
          1000,
          1125,
          1250,
          2250,
          2750,
          3500,
          250,
          333.3333435058594,
          400,
          450,
          500,
          535.7142944335938,
          541.6666870117188,
          750,
          1375,
          1500,
          2250,
          2833.333251953125,
          250,
          375,
          400,
          500,
          562.5,
          750,
          875,
          1250,
          1500,
          1750,
          250,
          500,
          583.3333129882812,
          750,
          812.5,
          1000,
          1583.3333740234375,
          1750,
          2000,
          2250,
          2375,
          2500,
          4000,
          500,
          821.4285888671875,
          875,
          1000,
          1250,
          1375,
          1750,
          1875,
          4500,
          7000,
          14625,
          500,
          750,
          850,
          875,
          1000,
          1125,
          1375,
          1500,
          1625,
          1950,
          2000,
          2500,
          3000,
          4000,
          4500,
          5250,
          236.11111450195312,
          240,
          300,
          350,
          375,
          390.9090881347656,
          500,
          562.5,
          687.5,
          750,
          1166.6666259765625,
          1500,
          1625,
          1750,
          4000,
          13750,
          303.5714416503906,
          312.5,
          375,
          384.6153869628906,
          416.6666564941406,
          426.4705810546875,
          450,
          500,
          625,
          666.6666870117188,
          812.5,
          916.6666870117188,
          937.5,
          1000,
          1125,
          1214.2857666015625,
          1250,
          291.6666564941406,
          300,
          437.5,
          475,
          750,
          791.6666870117188,
          800,
          875,
          1083.3333740234375,
          1250,
          1333.3333740234375,
          1500,
          1750,
          190,
          287.5,
          416.6666564941406,
          425,
          500,
          543.75,
          550,
          642.8571166992188,
          650,
          678.5714111328125,
          812.5,
          833.3333129882812,
          965.8571166992188,
          1083.3333740234375,
          1150,
          1416.6666259765625,
          1750,
          3500,
          70.20201873779297,
          100,
          106.52173614501953,
          116.66666412353516,
          161.86441040039062,
          173.3333282470703,
          189.18919372558594,
          191.6666717529297,
          208.3333282470703,
          413.6363525390625,
          571.4285888671875,
          708.3333129882812,
          800,
          812.5,
          950,
          2000,
          2750,
          3500,
          125,
          168.42105102539062,
          180.76922607421875,
          204.1666717529297,
          218.75,
          250,
          265.2173767089844,
          276.9230651855469,
          296.875,
          307.1428527832031,
          312.5,
          321.4285583496094,
          425,
          464.28570556640625,
          500,
          750,
          1000,
          1125,
          1510,
          222.22222900390625,
          250,
          269.23077392578125,
          276.5625,
          285.71429443359375,
          357.1428527832031,
          361.1111145019531,
          375,
          393.4869689941406,
          500,
          550,
          666.6666870117188,
          750,
          1666.6666259765625,
          1750,
          211.76470947265625,
          281.25,
          312.5,
          335.71429443359375,
          388.8888854980469,
          428.5714416503906,
          464.28570556640625,
          500,
          531.25,
          916.6666870117188,
          1125,
          2500,
          107.14286041259766,
          166.6666717529297,
          250,
          261.1111145019531,
          275,
          285.71429443359375,
          312.5,
          375,
          428.5714416503906,
          437.5,
          500,
          562.5,
          687.5,
          875,
          1000,
          1500,
          2464.28564453125,
          125,
          157.8947296142578,
          187.5,
          200,
          237.5,
          250,
          271.875,
          320,
          321.4285583496094,
          375,
          388.8888854980469,
          500,
          650,
          750,
          1000,
          1016.6666870117188,
          1250,
          1500,
          237.70492553710938,
          275,
          295.4545593261719,
          300,
          316.6666564941406,
          325,
          384.6153869628906,
          440.7894592285156,
          500,
          550,
          637.5,
          708.3333129882812,
          1000,
          1250,
          1500,
          2500,
          2791.666748046875,
          4000,
          139.5833282470703,
          140.74073791503906,
          163.88888549804688,
          185.7142791748047,
          236.36363220214844,
          250,
          275,
          281.25,
          281.81817626953125,
          320.8333435058594,
          333.3333435058594,
          407.1428527832031,
          500,
          562.5,
          642.8571166992188,
          750,
          857.1428833007812,
          1000,
          1500,
          2125,
          62.5,
          150,
          179.03225708007812,
          190,
          236.19631958007812,
          243.05555725097656,
          250,
          272.368408203125,
          297.22222900390625,
          322,
          327.77777099609375,
          330.4347839355469,
          346.1538391113281,
          385.71429443359375,
          440.8536682128906,
          460,
          470,
          507.1428527832031,
          536.111083984375,
          1437.5,
          205.38461303710938,
          247.8787841796875,
          257.741943359375,
          270.8333435058594,
          271.875,
          285.625,
          295.4545593261719,
          297.9166564941406,
          326.3888854980469,
          346,
          367.69232177734375,
          403.0434875488281,
          412.25,
          428.8461608886719,
          429.1428527832031,
          444.1176452636719,
          450,
          460,
          460.29412841796875,
          502.8571472167969,
          518.3333129882812,
          531.8181762695312,
          720,
          94,
          207.31707763671875,
          210.8333282470703,
          228.94737243652344,
          290,
          303.75,
          397.77777099609375,
          400,
          528.3333129882812,
          552.5,
          586.6666870117188,
          600,
          663,
          900,
          1062.5,
          1250,
          1290,
          194.375,
          194.5454559326172,
          204.7058868408203,
          212.14285278320312,
          222,
          272.1428527832031,
          297.77777099609375,
          327.5,
          372.941162109375,
          416.6666564941406,
          448.3333435058594,
          537.5,
          576.6666870117188,
          633.6363525390625,
          912.5,
          916.6666870117188,
          1061.4285888671875,
          1320,
          1375,
          200,
          274.28570556640625,
          291.81817626953125,
          332,
          350,
          387.5,
          390.25640869140625,
          450,
          556.6666870117188,
          616.6666870117188,
          626.6666870117188,
          672.5,
          752,
          826,
          990,
          1036.6666259765625,
          1110,
          1310,
          1350,
          1356.6666259765625,
          125.86538696289062,
          139.8148193359375,
          184.44444274902344,
          228.57142639160156,
          233,
          237.5,
          251.59091186523438,
          264.28570556640625,
          305.8333435058594,
          327.5,
          357.6470642089844,
          380,
          475,
          518.3333129882812,
          556.6666870117188,
          605.7142944335938,
          786,
          1250,
          1416.6666259765625,
          1550,
          1560,
          117.90697479248047,
          132.61904907226562,
          150.64515686035156,
          154.7058868408203,
          171.66180419921875,
          208.8372039794922,
          215.55555725097656,
          228.57142639160156,
          235.625,
          334,
          358.3333435058594,
          416.6666564941406,
          570,
          625,
          1200,
          1650,
          248.57142639160156,
          261.25,
          292,
          298.8888854980469,
          316.6666564941406,
          332.22222900390625,
          423.3333435058594,
          460.8333435058594,
          467,
          487.1428527832031,
          500,
          555.7142944335938,
          574,
          610,
          625,
          730,
          775,
          936.6666870117188,
          1550,
          143.57142639160156,
          164.39999389648438,
          185.7142791748047,
          200,
          233.3333282470703,
          240.90908813476562,
          291.25,
          374.28570556640625,
          440,
          441.4285583496094,
          527.5,
          833.3333129882812,
          1260,
          140,
          165,
          208.3333282470703,
          235.7142791748047,
          271.4285583496094,
          444.28570556640625,
          490,
          537.5,
          625,
          633.3333129882812,
          670,
          716.6666870117188,
          805,
          810,
          873.3333129882812,
          896.6666870117188,
          1045,
          1500,
          1800,
          2160,
          172.0253143310547,
          183.55555725097656,
          305,
          344.28570556640625,
          345,
          350,
          371.1111145019531,
          411.1764831542969,
          443,
          465,
          490,
          491.25,
          600,
          618,
          756.6666870117188,
          800,
          816.6666870117188,
          822.5,
          878.3333129882812,
          1576.6666259765625,
          1585,
          2172.5,
          116.66666412353516,
          125,
          286,
          322.8571472167969,
          323.125,
          325,
          333.8461608886719,
          357.1428527832031,
          390,
          478.5714416503906,
          492.5,
          516.6666870117188,
          594.2857055664062,
          632,
          634,
          738,
          1260,
          1462.5
         ],
         "z": [
          7,
          7,
          3,
          7,
          12,
          7,
          7,
          3,
          2,
          5,
          1,
          1,
          6,
          7,
          2,
          6,
          5,
          8,
          3,
          7,
          16,
          9,
          6,
          3,
          1,
          5,
          7,
          3,
          15,
          6,
          10,
          7,
          6,
          4,
          4,
          3,
          1,
          3,
          2,
          2,
          2,
          1,
          6,
          8,
          7,
          7,
          6,
          3,
          6,
          3,
          4,
          4,
          6,
          4,
          5,
          1,
          1,
          1,
          4,
          3,
          6,
          3,
          5,
          5,
          2,
          2,
          3,
          1,
          1,
          2,
          3,
          5,
          5,
          6,
          7,
          6,
          3,
          2,
          3,
          2,
          3,
          2,
          2,
          5,
          9,
          4,
          1,
          4,
          5,
          1,
          1,
          4,
          8,
          6,
          4,
          4,
          3,
          3,
          2,
          1,
          1,
          2,
          1,
          1,
          1,
          7,
          4,
          2,
          3,
          2,
          1,
          2,
          1,
          1,
          2,
          11,
          16,
          5,
          2,
          2,
          2,
          2,
          1,
          4,
          10,
          1,
          1,
          1,
          1,
          1,
          1,
          18,
          50,
          5,
          5,
          6,
          11,
          18,
          4,
          8,
          2,
          3,
          1,
          2,
          3,
          2,
          1,
          14,
          20,
          28,
          13,
          9,
          17,
          8,
          1,
          2,
          6,
          4,
          6,
          4,
          8,
          6,
          7,
          7,
          6,
          5,
          4,
          10,
          8,
          6,
          5,
          2,
          3,
          2,
          3,
          1,
          2,
          15,
          12,
          3,
          10,
          7,
          8,
          5,
          7,
          5,
          7,
          4,
          3,
          7,
          3,
          10,
          3,
          1,
          1,
          99,
          42,
          23,
          36,
          59,
          15,
          37,
          18,
          12,
          22,
          7,
          12,
          5,
          4,
          5,
          1,
          1,
          2,
          8,
          19,
          13,
          12,
          16,
          15,
          23,
          13,
          16,
          35,
          4,
          7,
          10,
          7,
          12,
          7,
          5,
          2,
          1,
          9,
          11,
          26,
          32,
          7,
          7,
          9,
          6,
          115,
          1,
          5,
          12,
          2,
          3,
          1,
          17,
          8,
          8,
          7,
          9,
          7,
          7,
          29,
          8,
          3,
          2,
          2,
          7,
          3,
          12,
          9,
          10,
          14,
          12,
          6,
          7,
          8,
          1,
          4,
          4,
          4,
          1,
          1,
          7,
          4,
          19,
          12,
          5,
          12,
          1,
          16,
          5,
          7,
          6,
          18,
          1,
          5,
          1,
          2,
          6,
          1,
          1,
          61,
          14,
          11,
          10,
          15,
          16,
          13,
          38,
          18,
          5,
          4,
          6,
          2,
          10,
          1,
          1,
          6,
          2,
          24,
          27,
          18,
          14,
          11,
          6,
          14,
          8,
          11,
          12,
          9,
          7,
          13,
          4,
          7,
          12,
          7,
          1,
          3,
          4,
          4,
          16,
          31,
          80,
          163,
          108,
          6,
          38,
          18,
          25,
          18,
          46,
          13,
          28,
          82,
          10,
          15,
          28,
          18,
          4,
          13,
          66,
          31,
          24,
          32,
          32,
          22,
          24,
          36,
          25,
          26,
          46,
          40,
          26,
          35,
          17,
          9,
          10,
          34,
          21,
          6,
          11,
          15,
          5,
          41,
          36,
          19,
          15,
          16,
          9,
          8,
          6,
          8,
          6,
          3,
          10,
          2,
          4,
          1,
          3,
          16,
          11,
          17,
          14,
          15,
          14,
          9,
          16,
          17,
          6,
          6,
          4,
          6,
          22,
          4,
          3,
          7,
          4,
          4,
          15,
          7,
          11,
          10,
          9,
          4,
          39,
          7,
          3,
          3,
          6,
          4,
          5,
          5,
          5,
          12,
          2,
          1,
          2,
          3,
          104,
          54,
          18,
          7,
          10,
          4,
          44,
          7,
          24,
          8,
          17,
          13,
          4,
          6,
          3,
          7,
          5,
          1,
          3,
          1,
          1,
          43,
          42,
          31,
          17,
          343,
          43,
          9,
          7,
          16,
          5,
          6,
          3,
          2,
          8,
          1,
          2,
          7,
          8,
          10,
          9,
          6,
          9,
          6,
          12,
          10,
          7,
          3,
          7,
          5,
          5,
          2,
          8,
          2,
          3,
          1,
          14,
          25,
          7,
          5,
          3,
          11,
          8,
          7,
          6,
          7,
          8,
          3,
          1,
          15,
          8,
          6,
          7,
          7,
          7,
          5,
          4,
          2,
          3,
          4,
          3,
          2,
          2,
          3,
          3,
          2,
          1,
          1,
          2,
          79,
          45,
          8,
          14,
          6,
          8,
          9,
          17,
          10,
          8,
          5,
          8,
          4,
          5,
          3,
          3,
          3,
          4,
          6,
          3,
          2,
          8,
          6,
          8,
          10,
          7,
          16,
          6,
          13,
          7,
          9,
          7,
          4,
          3,
          7,
          5,
          5,
          5,
          1,
          4
         ]
        }
       ],
       "layout": {
        "coloraxis": {
         "colorbar": {
          "title": {
           "text": "item_price"
          }
         },
         "colorscale": [
          [
           0,
           "#0d0887"
          ],
          [
           0.1111111111111111,
           "#46039f"
          ],
          [
           0.2222222222222222,
           "#7201a8"
          ],
          [
           0.3333333333333333,
           "#9c179e"
          ],
          [
           0.4444444444444444,
           "#bd3786"
          ],
          [
           0.5555555555555556,
           "#d8576b"
          ],
          [
           0.6666666666666666,
           "#ed7953"
          ],
          [
           0.7777777777777778,
           "#fb9f3a"
          ],
          [
           0.8888888888888888,
           "#fdca26"
          ],
          [
           1,
           "#f0f921"
          ]
         ]
        },
        "legend": {
         "tracegroupgap": 0
        },
        "margin": {
         "t": 60
        },
        "scene": {
         "domain": {
          "x": [
           0,
           1
          ],
          "y": [
           0,
           1
          ]
         },
         "xaxis": {
          "title": {
           "text": "date_block_num"
          }
         },
         "yaxis": {
          "title": {
           "text": "item_price"
          }
         },
         "zaxis": {
          "title": {
           "text": "item_cnt_month"
          }
         }
        },
        "template": {
         "data": {
          "bar": [
           {
            "error_x": {
             "color": "#2a3f5f"
            },
            "error_y": {
             "color": "#2a3f5f"
            },
            "marker": {
             "line": {
              "color": "#E5ECF6",
              "width": 0.5
             }
            },
            "type": "bar"
           }
          ],
          "barpolar": [
           {
            "marker": {
             "line": {
              "color": "#E5ECF6",
              "width": 0.5
             }
            },
            "type": "barpolar"
           }
          ],
          "carpet": [
           {
            "aaxis": {
             "endlinecolor": "#2a3f5f",
             "gridcolor": "white",
             "linecolor": "white",
             "minorgridcolor": "white",
             "startlinecolor": "#2a3f5f"
            },
            "baxis": {
             "endlinecolor": "#2a3f5f",
             "gridcolor": "white",
             "linecolor": "white",
             "minorgridcolor": "white",
             "startlinecolor": "#2a3f5f"
            },
            "type": "carpet"
           }
          ],
          "choropleth": [
           {
            "colorbar": {
             "outlinewidth": 0,
             "ticks": ""
            },
            "type": "choropleth"
           }
          ],
          "contour": [
           {
            "colorbar": {
             "outlinewidth": 0,
             "ticks": ""
            },
            "colorscale": [
             [
              0,
              "#0d0887"
             ],
             [
              0.1111111111111111,
              "#46039f"
             ],
             [
              0.2222222222222222,
              "#7201a8"
             ],
             [
              0.3333333333333333,
              "#9c179e"
             ],
             [
              0.4444444444444444,
              "#bd3786"
             ],
             [
              0.5555555555555556,
              "#d8576b"
             ],
             [
              0.6666666666666666,
              "#ed7953"
             ],
             [
              0.7777777777777778,
              "#fb9f3a"
             ],
             [
              0.8888888888888888,
              "#fdca26"
             ],
             [
              1,
              "#f0f921"
             ]
            ],
            "type": "contour"
           }
          ],
          "contourcarpet": [
           {
            "colorbar": {
             "outlinewidth": 0,
             "ticks": ""
            },
            "type": "contourcarpet"
           }
          ],
          "heatmap": [
           {
            "colorbar": {
             "outlinewidth": 0,
             "ticks": ""
            },
            "colorscale": [
             [
              0,
              "#0d0887"
             ],
             [
              0.1111111111111111,
              "#46039f"
             ],
             [
              0.2222222222222222,
              "#7201a8"
             ],
             [
              0.3333333333333333,
              "#9c179e"
             ],
             [
              0.4444444444444444,
              "#bd3786"
             ],
             [
              0.5555555555555556,
              "#d8576b"
             ],
             [
              0.6666666666666666,
              "#ed7953"
             ],
             [
              0.7777777777777778,
              "#fb9f3a"
             ],
             [
              0.8888888888888888,
              "#fdca26"
             ],
             [
              1,
              "#f0f921"
             ]
            ],
            "type": "heatmap"
           }
          ],
          "heatmapgl": [
           {
            "colorbar": {
             "outlinewidth": 0,
             "ticks": ""
            },
            "colorscale": [
             [
              0,
              "#0d0887"
             ],
             [
              0.1111111111111111,
              "#46039f"
             ],
             [
              0.2222222222222222,
              "#7201a8"
             ],
             [
              0.3333333333333333,
              "#9c179e"
             ],
             [
              0.4444444444444444,
              "#bd3786"
             ],
             [
              0.5555555555555556,
              "#d8576b"
             ],
             [
              0.6666666666666666,
              "#ed7953"
             ],
             [
              0.7777777777777778,
              "#fb9f3a"
             ],
             [
              0.8888888888888888,
              "#fdca26"
             ],
             [
              1,
              "#f0f921"
             ]
            ],
            "type": "heatmapgl"
           }
          ],
          "histogram": [
           {
            "marker": {
             "colorbar": {
              "outlinewidth": 0,
              "ticks": ""
             }
            },
            "type": "histogram"
           }
          ],
          "histogram2d": [
           {
            "colorbar": {
             "outlinewidth": 0,
             "ticks": ""
            },
            "colorscale": [
             [
              0,
              "#0d0887"
             ],
             [
              0.1111111111111111,
              "#46039f"
             ],
             [
              0.2222222222222222,
              "#7201a8"
             ],
             [
              0.3333333333333333,
              "#9c179e"
             ],
             [
              0.4444444444444444,
              "#bd3786"
             ],
             [
              0.5555555555555556,
              "#d8576b"
             ],
             [
              0.6666666666666666,
              "#ed7953"
             ],
             [
              0.7777777777777778,
              "#fb9f3a"
             ],
             [
              0.8888888888888888,
              "#fdca26"
             ],
             [
              1,
              "#f0f921"
             ]
            ],
            "type": "histogram2d"
           }
          ],
          "histogram2dcontour": [
           {
            "colorbar": {
             "outlinewidth": 0,
             "ticks": ""
            },
            "colorscale": [
             [
              0,
              "#0d0887"
             ],
             [
              0.1111111111111111,
              "#46039f"
             ],
             [
              0.2222222222222222,
              "#7201a8"
             ],
             [
              0.3333333333333333,
              "#9c179e"
             ],
             [
              0.4444444444444444,
              "#bd3786"
             ],
             [
              0.5555555555555556,
              "#d8576b"
             ],
             [
              0.6666666666666666,
              "#ed7953"
             ],
             [
              0.7777777777777778,
              "#fb9f3a"
             ],
             [
              0.8888888888888888,
              "#fdca26"
             ],
             [
              1,
              "#f0f921"
             ]
            ],
            "type": "histogram2dcontour"
           }
          ],
          "mesh3d": [
           {
            "colorbar": {
             "outlinewidth": 0,
             "ticks": ""
            },
            "type": "mesh3d"
           }
          ],
          "parcoords": [
           {
            "line": {
             "colorbar": {
              "outlinewidth": 0,
              "ticks": ""
             }
            },
            "type": "parcoords"
           }
          ],
          "pie": [
           {
            "automargin": true,
            "type": "pie"
           }
          ],
          "scatter": [
           {
            "marker": {
             "colorbar": {
              "outlinewidth": 0,
              "ticks": ""
             }
            },
            "type": "scatter"
           }
          ],
          "scatter3d": [
           {
            "line": {
             "colorbar": {
              "outlinewidth": 0,
              "ticks": ""
             }
            },
            "marker": {
             "colorbar": {
              "outlinewidth": 0,
              "ticks": ""
             }
            },
            "type": "scatter3d"
           }
          ],
          "scattercarpet": [
           {
            "marker": {
             "colorbar": {
              "outlinewidth": 0,
              "ticks": ""
             }
            },
            "type": "scattercarpet"
           }
          ],
          "scattergeo": [
           {
            "marker": {
             "colorbar": {
              "outlinewidth": 0,
              "ticks": ""
             }
            },
            "type": "scattergeo"
           }
          ],
          "scattergl": [
           {
            "marker": {
             "colorbar": {
              "outlinewidth": 0,
              "ticks": ""
             }
            },
            "type": "scattergl"
           }
          ],
          "scattermapbox": [
           {
            "marker": {
             "colorbar": {
              "outlinewidth": 0,
              "ticks": ""
             }
            },
            "type": "scattermapbox"
           }
          ],
          "scatterpolar": [
           {
            "marker": {
             "colorbar": {
              "outlinewidth": 0,
              "ticks": ""
             }
            },
            "type": "scatterpolar"
           }
          ],
          "scatterpolargl": [
           {
            "marker": {
             "colorbar": {
              "outlinewidth": 0,
              "ticks": ""
             }
            },
            "type": "scatterpolargl"
           }
          ],
          "scatterternary": [
           {
            "marker": {
             "colorbar": {
              "outlinewidth": 0,
              "ticks": ""
             }
            },
            "type": "scatterternary"
           }
          ],
          "surface": [
           {
            "colorbar": {
             "outlinewidth": 0,
             "ticks": ""
            },
            "colorscale": [
             [
              0,
              "#0d0887"
             ],
             [
              0.1111111111111111,
              "#46039f"
             ],
             [
              0.2222222222222222,
              "#7201a8"
             ],
             [
              0.3333333333333333,
              "#9c179e"
             ],
             [
              0.4444444444444444,
              "#bd3786"
             ],
             [
              0.5555555555555556,
              "#d8576b"
             ],
             [
              0.6666666666666666,
              "#ed7953"
             ],
             [
              0.7777777777777778,
              "#fb9f3a"
             ],
             [
              0.8888888888888888,
              "#fdca26"
             ],
             [
              1,
              "#f0f921"
             ]
            ],
            "type": "surface"
           }
          ],
          "table": [
           {
            "cells": {
             "fill": {
              "color": "#EBF0F8"
             },
             "line": {
              "color": "white"
             }
            },
            "header": {
             "fill": {
              "color": "#C8D4E3"
             },
             "line": {
              "color": "white"
             }
            },
            "type": "table"
           }
          ]
         },
         "layout": {
          "annotationdefaults": {
           "arrowcolor": "#2a3f5f",
           "arrowhead": 0,
           "arrowwidth": 1
          },
          "coloraxis": {
           "colorbar": {
            "outlinewidth": 0,
            "ticks": ""
           }
          },
          "colorscale": {
           "diverging": [
            [
             0,
             "#8e0152"
            ],
            [
             0.1,
             "#c51b7d"
            ],
            [
             0.2,
             "#de77ae"
            ],
            [
             0.3,
             "#f1b6da"
            ],
            [
             0.4,
             "#fde0ef"
            ],
            [
             0.5,
             "#f7f7f7"
            ],
            [
             0.6,
             "#e6f5d0"
            ],
            [
             0.7,
             "#b8e186"
            ],
            [
             0.8,
             "#7fbc41"
            ],
            [
             0.9,
             "#4d9221"
            ],
            [
             1,
             "#276419"
            ]
           ],
           "sequential": [
            [
             0,
             "#0d0887"
            ],
            [
             0.1111111111111111,
             "#46039f"
            ],
            [
             0.2222222222222222,
             "#7201a8"
            ],
            [
             0.3333333333333333,
             "#9c179e"
            ],
            [
             0.4444444444444444,
             "#bd3786"
            ],
            [
             0.5555555555555556,
             "#d8576b"
            ],
            [
             0.6666666666666666,
             "#ed7953"
            ],
            [
             0.7777777777777778,
             "#fb9f3a"
            ],
            [
             0.8888888888888888,
             "#fdca26"
            ],
            [
             1,
             "#f0f921"
            ]
           ],
           "sequentialminus": [
            [
             0,
             "#0d0887"
            ],
            [
             0.1111111111111111,
             "#46039f"
            ],
            [
             0.2222222222222222,
             "#7201a8"
            ],
            [
             0.3333333333333333,
             "#9c179e"
            ],
            [
             0.4444444444444444,
             "#bd3786"
            ],
            [
             0.5555555555555556,
             "#d8576b"
            ],
            [
             0.6666666666666666,
             "#ed7953"
            ],
            [
             0.7777777777777778,
             "#fb9f3a"
            ],
            [
             0.8888888888888888,
             "#fdca26"
            ],
            [
             1,
             "#f0f921"
            ]
           ]
          },
          "colorway": [
           "#636efa",
           "#EF553B",
           "#00cc96",
           "#ab63fa",
           "#FFA15A",
           "#19d3f3",
           "#FF6692",
           "#B6E880",
           "#FF97FF",
           "#FECB52"
          ],
          "font": {
           "color": "#2a3f5f"
          },
          "geo": {
           "bgcolor": "white",
           "lakecolor": "white",
           "landcolor": "#E5ECF6",
           "showlakes": true,
           "showland": true,
           "subunitcolor": "white"
          },
          "hoverlabel": {
           "align": "left"
          },
          "hovermode": "closest",
          "mapbox": {
           "style": "light"
          },
          "paper_bgcolor": "white",
          "plot_bgcolor": "#E5ECF6",
          "polar": {
           "angularaxis": {
            "gridcolor": "white",
            "linecolor": "white",
            "ticks": ""
           },
           "bgcolor": "#E5ECF6",
           "radialaxis": {
            "gridcolor": "white",
            "linecolor": "white",
            "ticks": ""
           }
          },
          "scene": {
           "xaxis": {
            "backgroundcolor": "#E5ECF6",
            "gridcolor": "white",
            "gridwidth": 2,
            "linecolor": "white",
            "showbackground": true,
            "ticks": "",
            "zerolinecolor": "white"
           },
           "yaxis": {
            "backgroundcolor": "#E5ECF6",
            "gridcolor": "white",
            "gridwidth": 2,
            "linecolor": "white",
            "showbackground": true,
            "ticks": "",
            "zerolinecolor": "white"
           },
           "zaxis": {
            "backgroundcolor": "#E5ECF6",
            "gridcolor": "white",
            "gridwidth": 2,
            "linecolor": "white",
            "showbackground": true,
            "ticks": "",
            "zerolinecolor": "white"
           }
          },
          "shapedefaults": {
           "line": {
            "color": "#2a3f5f"
           }
          },
          "ternary": {
           "aaxis": {
            "gridcolor": "white",
            "linecolor": "white",
            "ticks": ""
           },
           "baxis": {
            "gridcolor": "white",
            "linecolor": "white",
            "ticks": ""
           },
           "bgcolor": "#E5ECF6",
           "caxis": {
            "gridcolor": "white",
            "linecolor": "white",
            "ticks": ""
           }
          },
          "title": {
           "x": 0.05
          },
          "xaxis": {
           "automargin": true,
           "gridcolor": "white",
           "linecolor": "white",
           "ticks": "",
           "title": {
            "standoff": 15
           },
           "zerolinecolor": "white",
           "zerolinewidth": 2
          },
          "yaxis": {
           "automargin": true,
           "gridcolor": "white",
           "linecolor": "white",
           "ticks": "",
           "title": {
            "standoff": 15
           },
           "zerolinecolor": "white",
           "zerolinewidth": 2
          }
         }
        }
       }
      },
      "text/html": [
       "<div>\n",
       "        \n",
       "        \n",
       "            <div id=\"27f44879-edb3-4b25-97c2-a8f2c0037d90\" class=\"plotly-graph-div\" style=\"height:525px; width:100%;\"></div>\n",
       "            <script type=\"text/javascript\">\n",
       "                require([\"plotly\"], function(Plotly) {\n",
       "                    window.PLOTLYENV=window.PLOTLYENV || {};\n",
       "                    \n",
       "                if (document.getElementById(\"27f44879-edb3-4b25-97c2-a8f2c0037d90\")) {\n",
       "                    Plotly.newPlot(\n",
       "                        '27f44879-edb3-4b25-97c2-a8f2c0037d90',\n",
       "                        [{\"hovertemplate\": \"date_block_num=%{x}<br>item_price=%{marker.color}<br>item_cnt_month=%{z}<extra></extra>\", \"legendgroup\": \"\", \"marker\": {\"color\": [214.2857208251953, 285.71429443359375, 333.3333435058594, 357.1428527832031, 375.0, 464.28570556640625, 500.0, 666.6666870117188, 750.0, 1000.0, 1500.0, 2500.0, 333.3333435058594, 392.8571472167969, 500.0, 583.3333129882812, 600.0, 625.0, 666.6666870117188, 678.5714111328125, 750.0, 777.7777709960938, 833.3333129882812, 916.6666870117188, 3250.0, 250.0, 285.71429443359375, 333.3333435058594, 490.0, 541.6666870117188, 550.0, 571.4285888671875, 583.3333129882812, 687.5, 1125.0, 1250.0, 1500.0, 1833.3333740234375, 2125.0, 2250.0, 2750.0, 3750.0, 208.3333282470703, 281.25, 285.71429443359375, 392.8571472167969, 458.3333435058594, 583.3333129882812, 625.0, 750.0, 812.5, 875.0, 916.6666870117188, 937.5, 1000.0, 1750.0, 2000.0, 5750.0, 312.5, 416.6666564941406, 541.6666870117188, 666.6666870117188, 750.0, 1000.0, 1125.0, 1250.0, 2250.0, 2750.0, 3500.0, 250.0, 333.3333435058594, 400.0, 450.0, 500.0, 535.7142944335938, 541.6666870117188, 750.0, 1375.0, 1500.0, 2250.0, 2833.333251953125, 250.0, 375.0, 400.0, 500.0, 562.5, 750.0, 875.0, 1250.0, 1500.0, 1750.0, 250.0, 500.0, 583.3333129882812, 750.0, 812.5, 1000.0, 1583.3333740234375, 1750.0, 2000.0, 2250.0, 2375.0, 2500.0, 4000.0, 500.0, 821.4285888671875, 875.0, 1000.0, 1250.0, 1375.0, 1750.0, 1875.0, 4500.0, 7000.0, 14625.0, 500.0, 750.0, 850.0, 875.0, 1000.0, 1125.0, 1375.0, 1500.0, 1625.0, 1950.0, 2000.0, 2500.0, 3000.0, 4000.0, 4500.0, 5250.0, 236.11111450195312, 240.0, 300.0, 350.0, 375.0, 390.9090881347656, 500.0, 562.5, 687.5, 750.0, 1166.6666259765625, 1500.0, 1625.0, 1750.0, 4000.0, 13750.0, 303.5714416503906, 312.5, 375.0, 384.6153869628906, 416.6666564941406, 426.4705810546875, 450.0, 500.0, 625.0, 666.6666870117188, 812.5, 916.6666870117188, 937.5, 1000.0, 1125.0, 1214.2857666015625, 1250.0, 291.6666564941406, 300.0, 437.5, 475.0, 750.0, 791.6666870117188, 800.0, 875.0, 1083.3333740234375, 1250.0, 1333.3333740234375, 1500.0, 1750.0, 190.0, 287.5, 416.6666564941406, 425.0, 500.0, 543.75, 550.0, 642.8571166992188, 650.0, 678.5714111328125, 812.5, 833.3333129882812, 965.8571166992188, 1083.3333740234375, 1150.0, 1416.6666259765625, 1750.0, 3500.0, 70.20201873779297, 100.0, 106.52173614501953, 116.66666412353516, 161.86441040039062, 173.3333282470703, 189.18919372558594, 191.6666717529297, 208.3333282470703, 413.6363525390625, 571.4285888671875, 708.3333129882812, 800.0, 812.5, 950.0, 2000.0, 2750.0, 3500.0, 125.0, 168.42105102539062, 180.76922607421875, 204.1666717529297, 218.75, 250.0, 265.2173767089844, 276.9230651855469, 296.875, 307.1428527832031, 312.5, 321.4285583496094, 425.0, 464.28570556640625, 500.0, 750.0, 1000.0, 1125.0, 1510.0, 222.22222900390625, 250.0, 269.23077392578125, 276.5625, 285.71429443359375, 357.1428527832031, 361.1111145019531, 375.0, 393.4869689941406, 500.0, 550.0, 666.6666870117188, 750.0, 1666.6666259765625, 1750.0, 211.76470947265625, 281.25, 312.5, 335.71429443359375, 388.8888854980469, 428.5714416503906, 464.28570556640625, 500.0, 531.25, 916.6666870117188, 1125.0, 2500.0, 107.14286041259766, 166.6666717529297, 250.0, 261.1111145019531, 275.0, 285.71429443359375, 312.5, 375.0, 428.5714416503906, 437.5, 500.0, 562.5, 687.5, 875.0, 1000.0, 1500.0, 2464.28564453125, 125.0, 157.8947296142578, 187.5, 200.0, 237.5, 250.0, 271.875, 320.0, 321.4285583496094, 375.0, 388.8888854980469, 500.0, 650.0, 750.0, 1000.0, 1016.6666870117188, 1250.0, 1500.0, 237.70492553710938, 275.0, 295.4545593261719, 300.0, 316.6666564941406, 325.0, 384.6153869628906, 440.7894592285156, 500.0, 550.0, 637.5, 708.3333129882812, 1000.0, 1250.0, 1500.0, 2500.0, 2791.666748046875, 4000.0, 139.5833282470703, 140.74073791503906, 163.88888549804688, 185.7142791748047, 236.36363220214844, 250.0, 275.0, 281.25, 281.81817626953125, 320.8333435058594, 333.3333435058594, 407.1428527832031, 500.0, 562.5, 642.8571166992188, 750.0, 857.1428833007812, 1000.0, 1500.0, 2125.0, 62.5, 150.0, 179.03225708007812, 190.0, 236.19631958007812, 243.05555725097656, 250.0, 272.368408203125, 297.22222900390625, 322.0, 327.77777099609375, 330.4347839355469, 346.1538391113281, 385.71429443359375, 440.8536682128906, 460.0, 470.0, 507.1428527832031, 536.111083984375, 1437.5, 205.38461303710938, 247.8787841796875, 257.741943359375, 270.8333435058594, 271.875, 285.625, 295.4545593261719, 297.9166564941406, 326.3888854980469, 346.0, 367.69232177734375, 403.0434875488281, 412.25, 428.8461608886719, 429.1428527832031, 444.1176452636719, 450.0, 460.0, 460.29412841796875, 502.8571472167969, 518.3333129882812, 531.8181762695312, 720.0, 94.0, 207.31707763671875, 210.8333282470703, 228.94737243652344, 290.0, 303.75, 397.77777099609375, 400.0, 528.3333129882812, 552.5, 586.6666870117188, 600.0, 663.0, 900.0, 1062.5, 1250.0, 1290.0, 194.375, 194.5454559326172, 204.7058868408203, 212.14285278320312, 222.0, 272.1428527832031, 297.77777099609375, 327.5, 372.941162109375, 416.6666564941406, 448.3333435058594, 537.5, 576.6666870117188, 633.6363525390625, 912.5, 916.6666870117188, 1061.4285888671875, 1320.0, 1375.0, 200.0, 274.28570556640625, 291.81817626953125, 332.0, 350.0, 387.5, 390.25640869140625, 450.0, 556.6666870117188, 616.6666870117188, 626.6666870117188, 672.5, 752.0, 826.0, 990.0, 1036.6666259765625, 1110.0, 1310.0, 1350.0, 1356.6666259765625, 125.86538696289062, 139.8148193359375, 184.44444274902344, 228.57142639160156, 233.0, 237.5, 251.59091186523438, 264.28570556640625, 305.8333435058594, 327.5, 357.6470642089844, 380.0, 475.0, 518.3333129882812, 556.6666870117188, 605.7142944335938, 786.0, 1250.0, 1416.6666259765625, 1550.0, 1560.0, 117.90697479248047, 132.61904907226562, 150.64515686035156, 154.7058868408203, 171.66180419921875, 208.8372039794922, 215.55555725097656, 228.57142639160156, 235.625, 334.0, 358.3333435058594, 416.6666564941406, 570.0, 625.0, 1200.0, 1650.0, 248.57142639160156, 261.25, 292.0, 298.8888854980469, 316.6666564941406, 332.22222900390625, 423.3333435058594, 460.8333435058594, 467.0, 487.1428527832031, 500.0, 555.7142944335938, 574.0, 610.0, 625.0, 730.0, 775.0, 936.6666870117188, 1550.0, 143.57142639160156, 164.39999389648438, 185.7142791748047, 200.0, 233.3333282470703, 240.90908813476562, 291.25, 374.28570556640625, 440.0, 441.4285583496094, 527.5, 833.3333129882812, 1260.0, 140.0, 165.0, 208.3333282470703, 235.7142791748047, 271.4285583496094, 444.28570556640625, 490.0, 537.5, 625.0, 633.3333129882812, 670.0, 716.6666870117188, 805.0, 810.0, 873.3333129882812, 896.6666870117188, 1045.0, 1500.0, 1800.0, 2160.0, 172.0253143310547, 183.55555725097656, 305.0, 344.28570556640625, 345.0, 350.0, 371.1111145019531, 411.1764831542969, 443.0, 465.0, 490.0, 491.25, 600.0, 618.0, 756.6666870117188, 800.0, 816.6666870117188, 822.5, 878.3333129882812, 1576.6666259765625, 1585.0, 2172.5, 116.66666412353516, 125.0, 286.0, 322.8571472167969, 323.125, 325.0, 333.8461608886719, 357.1428527832031, 390.0, 478.5714416503906, 492.5, 516.6666870117188, 594.2857055664062, 632.0, 634.0, 738.0, 1260.0, 1462.5], \"coloraxis\": \"coloraxis\", \"symbol\": \"circle\"}, \"mode\": \"markers\", \"name\": \"\", \"scene\": \"scene\", \"showlegend\": false, \"type\": \"scatter3d\", \"x\": [0, 0, 0, 0, 0, 0, 0, 0, 0, 0, 0, 0, 1, 1, 1, 1, 1, 1, 1, 1, 1, 1, 1, 1, 1, 2, 2, 2, 2, 2, 2, 2, 2, 2, 2, 2, 2, 2, 2, 2, 2, 2, 3, 3, 3, 3, 3, 3, 3, 3, 3, 3, 3, 3, 3, 3, 3, 3, 4, 4, 4, 4, 4, 4, 4, 4, 4, 4, 4, 5, 5, 5, 5, 5, 5, 5, 5, 5, 5, 5, 5, 6, 6, 6, 6, 6, 6, 6, 6, 6, 6, 7, 7, 7, 7, 7, 7, 7, 7, 7, 7, 7, 7, 7, 8, 8, 8, 8, 8, 8, 8, 8, 8, 8, 8, 9, 9, 9, 9, 9, 9, 9, 9, 9, 9, 9, 9, 9, 9, 9, 9, 10, 10, 10, 10, 10, 10, 10, 10, 10, 10, 10, 10, 10, 10, 10, 10, 11, 11, 11, 11, 11, 11, 11, 11, 11, 11, 11, 11, 11, 11, 11, 11, 11, 12, 12, 12, 12, 12, 12, 12, 12, 12, 12, 12, 12, 12, 13, 13, 13, 13, 13, 13, 13, 13, 13, 13, 13, 13, 13, 13, 13, 13, 13, 13, 14, 14, 14, 14, 14, 14, 14, 14, 14, 14, 14, 14, 14, 14, 14, 14, 14, 14, 15, 15, 15, 15, 15, 15, 15, 15, 15, 15, 15, 15, 15, 15, 15, 15, 15, 15, 15, 16, 16, 16, 16, 16, 16, 16, 16, 16, 16, 16, 16, 16, 16, 16, 17, 17, 17, 17, 17, 17, 17, 17, 17, 17, 17, 17, 18, 18, 18, 18, 18, 18, 18, 18, 18, 18, 18, 18, 18, 18, 18, 18, 18, 19, 19, 19, 19, 19, 19, 19, 19, 19, 19, 19, 19, 19, 19, 19, 19, 19, 19, 20, 20, 20, 20, 20, 20, 20, 20, 20, 20, 20, 20, 20, 20, 20, 20, 20, 20, 21, 21, 21, 21, 21, 21, 21, 21, 21, 21, 21, 21, 21, 21, 21, 21, 21, 21, 21, 21, 22, 22, 22, 22, 22, 22, 22, 22, 22, 22, 22, 22, 22, 22, 22, 22, 22, 22, 22, 22, 23, 23, 23, 23, 23, 23, 23, 23, 23, 23, 23, 23, 23, 23, 23, 23, 23, 23, 23, 23, 23, 23, 23, 24, 24, 24, 24, 24, 24, 24, 24, 24, 24, 24, 24, 24, 24, 24, 24, 24, 25, 25, 25, 25, 25, 25, 25, 25, 25, 25, 25, 25, 25, 25, 25, 25, 25, 25, 25, 26, 26, 26, 26, 26, 26, 26, 26, 26, 26, 26, 26, 26, 26, 26, 26, 26, 26, 26, 26, 27, 27, 27, 27, 27, 27, 27, 27, 27, 27, 27, 27, 27, 27, 27, 27, 27, 27, 27, 27, 27, 28, 28, 28, 28, 28, 28, 28, 28, 28, 28, 28, 28, 28, 28, 28, 28, 29, 29, 29, 29, 29, 29, 29, 29, 29, 29, 29, 29, 29, 29, 29, 29, 29, 29, 29, 30, 30, 30, 30, 30, 30, 30, 30, 30, 30, 30, 30, 30, 31, 31, 31, 31, 31, 31, 31, 31, 31, 31, 31, 31, 31, 31, 31, 31, 31, 31, 31, 31, 32, 32, 32, 32, 32, 32, 32, 32, 32, 32, 32, 32, 32, 32, 32, 32, 32, 32, 32, 32, 32, 32, 33, 33, 33, 33, 33, 33, 33, 33, 33, 33, 33, 33, 33, 33, 33, 33, 33, 33], \"y\": [214.2857208251953, 285.71429443359375, 333.3333435058594, 357.1428527832031, 375.0, 464.28570556640625, 500.0, 666.6666870117188, 750.0, 1000.0, 1500.0, 2500.0, 333.3333435058594, 392.8571472167969, 500.0, 583.3333129882812, 600.0, 625.0, 666.6666870117188, 678.5714111328125, 750.0, 777.7777709960938, 833.3333129882812, 916.6666870117188, 3250.0, 250.0, 285.71429443359375, 333.3333435058594, 490.0, 541.6666870117188, 550.0, 571.4285888671875, 583.3333129882812, 687.5, 1125.0, 1250.0, 1500.0, 1833.3333740234375, 2125.0, 2250.0, 2750.0, 3750.0, 208.3333282470703, 281.25, 285.71429443359375, 392.8571472167969, 458.3333435058594, 583.3333129882812, 625.0, 750.0, 812.5, 875.0, 916.6666870117188, 937.5, 1000.0, 1750.0, 2000.0, 5750.0, 312.5, 416.6666564941406, 541.6666870117188, 666.6666870117188, 750.0, 1000.0, 1125.0, 1250.0, 2250.0, 2750.0, 3500.0, 250.0, 333.3333435058594, 400.0, 450.0, 500.0, 535.7142944335938, 541.6666870117188, 750.0, 1375.0, 1500.0, 2250.0, 2833.333251953125, 250.0, 375.0, 400.0, 500.0, 562.5, 750.0, 875.0, 1250.0, 1500.0, 1750.0, 250.0, 500.0, 583.3333129882812, 750.0, 812.5, 1000.0, 1583.3333740234375, 1750.0, 2000.0, 2250.0, 2375.0, 2500.0, 4000.0, 500.0, 821.4285888671875, 875.0, 1000.0, 1250.0, 1375.0, 1750.0, 1875.0, 4500.0, 7000.0, 14625.0, 500.0, 750.0, 850.0, 875.0, 1000.0, 1125.0, 1375.0, 1500.0, 1625.0, 1950.0, 2000.0, 2500.0, 3000.0, 4000.0, 4500.0, 5250.0, 236.11111450195312, 240.0, 300.0, 350.0, 375.0, 390.9090881347656, 500.0, 562.5, 687.5, 750.0, 1166.6666259765625, 1500.0, 1625.0, 1750.0, 4000.0, 13750.0, 303.5714416503906, 312.5, 375.0, 384.6153869628906, 416.6666564941406, 426.4705810546875, 450.0, 500.0, 625.0, 666.6666870117188, 812.5, 916.6666870117188, 937.5, 1000.0, 1125.0, 1214.2857666015625, 1250.0, 291.6666564941406, 300.0, 437.5, 475.0, 750.0, 791.6666870117188, 800.0, 875.0, 1083.3333740234375, 1250.0, 1333.3333740234375, 1500.0, 1750.0, 190.0, 287.5, 416.6666564941406, 425.0, 500.0, 543.75, 550.0, 642.8571166992188, 650.0, 678.5714111328125, 812.5, 833.3333129882812, 965.8571166992188, 1083.3333740234375, 1150.0, 1416.6666259765625, 1750.0, 3500.0, 70.20201873779297, 100.0, 106.52173614501953, 116.66666412353516, 161.86441040039062, 173.3333282470703, 189.18919372558594, 191.6666717529297, 208.3333282470703, 413.6363525390625, 571.4285888671875, 708.3333129882812, 800.0, 812.5, 950.0, 2000.0, 2750.0, 3500.0, 125.0, 168.42105102539062, 180.76922607421875, 204.1666717529297, 218.75, 250.0, 265.2173767089844, 276.9230651855469, 296.875, 307.1428527832031, 312.5, 321.4285583496094, 425.0, 464.28570556640625, 500.0, 750.0, 1000.0, 1125.0, 1510.0, 222.22222900390625, 250.0, 269.23077392578125, 276.5625, 285.71429443359375, 357.1428527832031, 361.1111145019531, 375.0, 393.4869689941406, 500.0, 550.0, 666.6666870117188, 750.0, 1666.6666259765625, 1750.0, 211.76470947265625, 281.25, 312.5, 335.71429443359375, 388.8888854980469, 428.5714416503906, 464.28570556640625, 500.0, 531.25, 916.6666870117188, 1125.0, 2500.0, 107.14286041259766, 166.6666717529297, 250.0, 261.1111145019531, 275.0, 285.71429443359375, 312.5, 375.0, 428.5714416503906, 437.5, 500.0, 562.5, 687.5, 875.0, 1000.0, 1500.0, 2464.28564453125, 125.0, 157.8947296142578, 187.5, 200.0, 237.5, 250.0, 271.875, 320.0, 321.4285583496094, 375.0, 388.8888854980469, 500.0, 650.0, 750.0, 1000.0, 1016.6666870117188, 1250.0, 1500.0, 237.70492553710938, 275.0, 295.4545593261719, 300.0, 316.6666564941406, 325.0, 384.6153869628906, 440.7894592285156, 500.0, 550.0, 637.5, 708.3333129882812, 1000.0, 1250.0, 1500.0, 2500.0, 2791.666748046875, 4000.0, 139.5833282470703, 140.74073791503906, 163.88888549804688, 185.7142791748047, 236.36363220214844, 250.0, 275.0, 281.25, 281.81817626953125, 320.8333435058594, 333.3333435058594, 407.1428527832031, 500.0, 562.5, 642.8571166992188, 750.0, 857.1428833007812, 1000.0, 1500.0, 2125.0, 62.5, 150.0, 179.03225708007812, 190.0, 236.19631958007812, 243.05555725097656, 250.0, 272.368408203125, 297.22222900390625, 322.0, 327.77777099609375, 330.4347839355469, 346.1538391113281, 385.71429443359375, 440.8536682128906, 460.0, 470.0, 507.1428527832031, 536.111083984375, 1437.5, 205.38461303710938, 247.8787841796875, 257.741943359375, 270.8333435058594, 271.875, 285.625, 295.4545593261719, 297.9166564941406, 326.3888854980469, 346.0, 367.69232177734375, 403.0434875488281, 412.25, 428.8461608886719, 429.1428527832031, 444.1176452636719, 450.0, 460.0, 460.29412841796875, 502.8571472167969, 518.3333129882812, 531.8181762695312, 720.0, 94.0, 207.31707763671875, 210.8333282470703, 228.94737243652344, 290.0, 303.75, 397.77777099609375, 400.0, 528.3333129882812, 552.5, 586.6666870117188, 600.0, 663.0, 900.0, 1062.5, 1250.0, 1290.0, 194.375, 194.5454559326172, 204.7058868408203, 212.14285278320312, 222.0, 272.1428527832031, 297.77777099609375, 327.5, 372.941162109375, 416.6666564941406, 448.3333435058594, 537.5, 576.6666870117188, 633.6363525390625, 912.5, 916.6666870117188, 1061.4285888671875, 1320.0, 1375.0, 200.0, 274.28570556640625, 291.81817626953125, 332.0, 350.0, 387.5, 390.25640869140625, 450.0, 556.6666870117188, 616.6666870117188, 626.6666870117188, 672.5, 752.0, 826.0, 990.0, 1036.6666259765625, 1110.0, 1310.0, 1350.0, 1356.6666259765625, 125.86538696289062, 139.8148193359375, 184.44444274902344, 228.57142639160156, 233.0, 237.5, 251.59091186523438, 264.28570556640625, 305.8333435058594, 327.5, 357.6470642089844, 380.0, 475.0, 518.3333129882812, 556.6666870117188, 605.7142944335938, 786.0, 1250.0, 1416.6666259765625, 1550.0, 1560.0, 117.90697479248047, 132.61904907226562, 150.64515686035156, 154.7058868408203, 171.66180419921875, 208.8372039794922, 215.55555725097656, 228.57142639160156, 235.625, 334.0, 358.3333435058594, 416.6666564941406, 570.0, 625.0, 1200.0, 1650.0, 248.57142639160156, 261.25, 292.0, 298.8888854980469, 316.6666564941406, 332.22222900390625, 423.3333435058594, 460.8333435058594, 467.0, 487.1428527832031, 500.0, 555.7142944335938, 574.0, 610.0, 625.0, 730.0, 775.0, 936.6666870117188, 1550.0, 143.57142639160156, 164.39999389648438, 185.7142791748047, 200.0, 233.3333282470703, 240.90908813476562, 291.25, 374.28570556640625, 440.0, 441.4285583496094, 527.5, 833.3333129882812, 1260.0, 140.0, 165.0, 208.3333282470703, 235.7142791748047, 271.4285583496094, 444.28570556640625, 490.0, 537.5, 625.0, 633.3333129882812, 670.0, 716.6666870117188, 805.0, 810.0, 873.3333129882812, 896.6666870117188, 1045.0, 1500.0, 1800.0, 2160.0, 172.0253143310547, 183.55555725097656, 305.0, 344.28570556640625, 345.0, 350.0, 371.1111145019531, 411.1764831542969, 443.0, 465.0, 490.0, 491.25, 600.0, 618.0, 756.6666870117188, 800.0, 816.6666870117188, 822.5, 878.3333129882812, 1576.6666259765625, 1585.0, 2172.5, 116.66666412353516, 125.0, 286.0, 322.8571472167969, 323.125, 325.0, 333.8461608886719, 357.1428527832031, 390.0, 478.5714416503906, 492.5, 516.6666870117188, 594.2857055664062, 632.0, 634.0, 738.0, 1260.0, 1462.5], \"z\": [7.0, 7.0, 3.0, 7.0, 12.0, 7.0, 7.0, 3.0, 2.0, 5.0, 1.0, 1.0, 6.0, 7.0, 2.0, 6.0, 5.0, 8.0, 3.0, 7.0, 16.0, 9.0, 6.0, 3.0, 1.0, 5.0, 7.0, 3.0, 15.0, 6.0, 10.0, 7.0, 6.0, 4.0, 4.0, 3.0, 1.0, 3.0, 2.0, 2.0, 2.0, 1.0, 6.0, 8.0, 7.0, 7.0, 6.0, 3.0, 6.0, 3.0, 4.0, 4.0, 6.0, 4.0, 5.0, 1.0, 1.0, 1.0, 4.0, 3.0, 6.0, 3.0, 5.0, 5.0, 2.0, 2.0, 3.0, 1.0, 1.0, 2.0, 3.0, 5.0, 5.0, 6.0, 7.0, 6.0, 3.0, 2.0, 3.0, 2.0, 3.0, 2.0, 2.0, 5.0, 9.0, 4.0, 1.0, 4.0, 5.0, 1.0, 1.0, 4.0, 8.0, 6.0, 4.0, 4.0, 3.0, 3.0, 2.0, 1.0, 1.0, 2.0, 1.0, 1.0, 1.0, 7.0, 4.0, 2.0, 3.0, 2.0, 1.0, 2.0, 1.0, 1.0, 2.0, 11.0, 16.0, 5.0, 2.0, 2.0, 2.0, 2.0, 1.0, 4.0, 10.0, 1.0, 1.0, 1.0, 1.0, 1.0, 1.0, 18.0, 50.0, 5.0, 5.0, 6.0, 11.0, 18.0, 4.0, 8.0, 2.0, 3.0, 1.0, 2.0, 3.0, 2.0, 1.0, 14.0, 20.0, 28.0, 13.0, 9.0, 17.0, 8.0, 1.0, 2.0, 6.0, 4.0, 6.0, 4.0, 8.0, 6.0, 7.0, 7.0, 6.0, 5.0, 4.0, 10.0, 8.0, 6.0, 5.0, 2.0, 3.0, 2.0, 3.0, 1.0, 2.0, 15.0, 12.0, 3.0, 10.0, 7.0, 8.0, 5.0, 7.0, 5.0, 7.0, 4.0, 3.0, 7.0, 3.0, 10.0, 3.0, 1.0, 1.0, 99.0, 42.0, 23.0, 36.0, 59.0, 15.0, 37.0, 18.0, 12.0, 22.0, 7.0, 12.0, 5.0, 4.0, 5.0, 1.0, 1.0, 2.0, 8.0, 19.0, 13.0, 12.0, 16.0, 15.0, 23.0, 13.0, 16.0, 35.0, 4.0, 7.0, 10.0, 7.0, 12.0, 7.0, 5.0, 2.0, 1.0, 9.0, 11.0, 26.0, 32.0, 7.0, 7.0, 9.0, 6.0, 115.0, 1.0, 5.0, 12.0, 2.0, 3.0, 1.0, 17.0, 8.0, 8.0, 7.0, 9.0, 7.0, 7.0, 29.0, 8.0, 3.0, 2.0, 2.0, 7.0, 3.0, 12.0, 9.0, 10.0, 14.0, 12.0, 6.0, 7.0, 8.0, 1.0, 4.0, 4.0, 4.0, 1.0, 1.0, 7.0, 4.0, 19.0, 12.0, 5.0, 12.0, 1.0, 16.0, 5.0, 7.0, 6.0, 18.0, 1.0, 5.0, 1.0, 2.0, 6.0, 1.0, 1.0, 61.0, 14.0, 11.0, 10.0, 15.0, 16.0, 13.0, 38.0, 18.0, 5.0, 4.0, 6.0, 2.0, 10.0, 1.0, 1.0, 6.0, 2.0, 24.0, 27.0, 18.0, 14.0, 11.0, 6.0, 14.0, 8.0, 11.0, 12.0, 9.0, 7.0, 13.0, 4.0, 7.0, 12.0, 7.0, 1.0, 3.0, 4.0, 4.0, 16.0, 31.0, 80.0, 163.0, 108.0, 6.0, 38.0, 18.0, 25.0, 18.0, 46.0, 13.0, 28.0, 82.0, 10.0, 15.0, 28.0, 18.0, 4.0, 13.0, 66.0, 31.0, 24.0, 32.0, 32.0, 22.0, 24.0, 36.0, 25.0, 26.0, 46.0, 40.0, 26.0, 35.0, 17.0, 9.0, 10.0, 34.0, 21.0, 6.0, 11.0, 15.0, 5.0, 41.0, 36.0, 19.0, 15.0, 16.0, 9.0, 8.0, 6.0, 8.0, 6.0, 3.0, 10.0, 2.0, 4.0, 1.0, 3.0, 16.0, 11.0, 17.0, 14.0, 15.0, 14.0, 9.0, 16.0, 17.0, 6.0, 6.0, 4.0, 6.0, 22.0, 4.0, 3.0, 7.0, 4.0, 4.0, 15.0, 7.0, 11.0, 10.0, 9.0, 4.0, 39.0, 7.0, 3.0, 3.0, 6.0, 4.0, 5.0, 5.0, 5.0, 12.0, 2.0, 1.0, 2.0, 3.0, 104.0, 54.0, 18.0, 7.0, 10.0, 4.0, 44.0, 7.0, 24.0, 8.0, 17.0, 13.0, 4.0, 6.0, 3.0, 7.0, 5.0, 1.0, 3.0, 1.0, 1.0, 43.0, 42.0, 31.0, 17.0, 343.0, 43.0, 9.0, 7.0, 16.0, 5.0, 6.0, 3.0, 2.0, 8.0, 1.0, 2.0, 7.0, 8.0, 10.0, 9.0, 6.0, 9.0, 6.0, 12.0, 10.0, 7.0, 3.0, 7.0, 5.0, 5.0, 2.0, 8.0, 2.0, 3.0, 1.0, 14.0, 25.0, 7.0, 5.0, 3.0, 11.0, 8.0, 7.0, 6.0, 7.0, 8.0, 3.0, 1.0, 15.0, 8.0, 6.0, 7.0, 7.0, 7.0, 5.0, 4.0, 2.0, 3.0, 4.0, 3.0, 2.0, 2.0, 3.0, 3.0, 2.0, 1.0, 1.0, 2.0, 79.0, 45.0, 8.0, 14.0, 6.0, 8.0, 9.0, 17.0, 10.0, 8.0, 5.0, 8.0, 4.0, 5.0, 3.0, 3.0, 3.0, 4.0, 6.0, 3.0, 2.0, 8.0, 6.0, 8.0, 10.0, 7.0, 16.0, 6.0, 13.0, 7.0, 9.0, 7.0, 4.0, 3.0, 7.0, 5.0, 5.0, 5.0, 1.0, 4.0]}],\n",
       "                        {\"coloraxis\": {\"colorbar\": {\"title\": {\"text\": \"item_price\"}}, \"colorscale\": [[0.0, \"#0d0887\"], [0.1111111111111111, \"#46039f\"], [0.2222222222222222, \"#7201a8\"], [0.3333333333333333, \"#9c179e\"], [0.4444444444444444, \"#bd3786\"], [0.5555555555555556, \"#d8576b\"], [0.6666666666666666, \"#ed7953\"], [0.7777777777777778, \"#fb9f3a\"], [0.8888888888888888, \"#fdca26\"], [1.0, \"#f0f921\"]]}, \"legend\": {\"tracegroupgap\": 0}, \"margin\": {\"t\": 60}, \"scene\": {\"domain\": {\"x\": [0.0, 1.0], \"y\": [0.0, 1.0]}, \"xaxis\": {\"title\": {\"text\": \"date_block_num\"}}, \"yaxis\": {\"title\": {\"text\": \"item_price\"}}, \"zaxis\": {\"title\": {\"text\": \"item_cnt_month\"}}}, \"template\": {\"data\": {\"bar\": [{\"error_x\": {\"color\": \"#2a3f5f\"}, \"error_y\": {\"color\": \"#2a3f5f\"}, \"marker\": {\"line\": {\"color\": \"#E5ECF6\", \"width\": 0.5}}, \"type\": \"bar\"}], \"barpolar\": [{\"marker\": {\"line\": {\"color\": \"#E5ECF6\", \"width\": 0.5}}, \"type\": \"barpolar\"}], \"carpet\": [{\"aaxis\": {\"endlinecolor\": \"#2a3f5f\", \"gridcolor\": \"white\", \"linecolor\": \"white\", \"minorgridcolor\": \"white\", \"startlinecolor\": \"#2a3f5f\"}, \"baxis\": {\"endlinecolor\": \"#2a3f5f\", \"gridcolor\": \"white\", \"linecolor\": \"white\", \"minorgridcolor\": \"white\", \"startlinecolor\": \"#2a3f5f\"}, \"type\": \"carpet\"}], \"choropleth\": [{\"colorbar\": {\"outlinewidth\": 0, \"ticks\": \"\"}, \"type\": \"choropleth\"}], \"contour\": [{\"colorbar\": {\"outlinewidth\": 0, \"ticks\": \"\"}, \"colorscale\": [[0.0, \"#0d0887\"], [0.1111111111111111, \"#46039f\"], [0.2222222222222222, \"#7201a8\"], [0.3333333333333333, \"#9c179e\"], [0.4444444444444444, \"#bd3786\"], [0.5555555555555556, \"#d8576b\"], [0.6666666666666666, \"#ed7953\"], [0.7777777777777778, \"#fb9f3a\"], [0.8888888888888888, \"#fdca26\"], [1.0, \"#f0f921\"]], \"type\": \"contour\"}], \"contourcarpet\": [{\"colorbar\": {\"outlinewidth\": 0, \"ticks\": \"\"}, \"type\": \"contourcarpet\"}], \"heatmap\": [{\"colorbar\": {\"outlinewidth\": 0, \"ticks\": \"\"}, \"colorscale\": [[0.0, \"#0d0887\"], [0.1111111111111111, \"#46039f\"], [0.2222222222222222, \"#7201a8\"], [0.3333333333333333, \"#9c179e\"], [0.4444444444444444, \"#bd3786\"], [0.5555555555555556, \"#d8576b\"], [0.6666666666666666, \"#ed7953\"], [0.7777777777777778, \"#fb9f3a\"], [0.8888888888888888, \"#fdca26\"], [1.0, \"#f0f921\"]], \"type\": \"heatmap\"}], \"heatmapgl\": [{\"colorbar\": {\"outlinewidth\": 0, \"ticks\": \"\"}, \"colorscale\": [[0.0, \"#0d0887\"], [0.1111111111111111, \"#46039f\"], [0.2222222222222222, \"#7201a8\"], [0.3333333333333333, \"#9c179e\"], [0.4444444444444444, \"#bd3786\"], [0.5555555555555556, \"#d8576b\"], [0.6666666666666666, \"#ed7953\"], [0.7777777777777778, \"#fb9f3a\"], [0.8888888888888888, \"#fdca26\"], [1.0, \"#f0f921\"]], \"type\": \"heatmapgl\"}], \"histogram\": [{\"marker\": {\"colorbar\": {\"outlinewidth\": 0, \"ticks\": \"\"}}, \"type\": \"histogram\"}], \"histogram2d\": [{\"colorbar\": {\"outlinewidth\": 0, \"ticks\": \"\"}, \"colorscale\": [[0.0, \"#0d0887\"], [0.1111111111111111, \"#46039f\"], [0.2222222222222222, \"#7201a8\"], [0.3333333333333333, \"#9c179e\"], [0.4444444444444444, \"#bd3786\"], [0.5555555555555556, \"#d8576b\"], [0.6666666666666666, \"#ed7953\"], [0.7777777777777778, \"#fb9f3a\"], [0.8888888888888888, \"#fdca26\"], [1.0, \"#f0f921\"]], \"type\": \"histogram2d\"}], \"histogram2dcontour\": [{\"colorbar\": {\"outlinewidth\": 0, \"ticks\": \"\"}, \"colorscale\": [[0.0, \"#0d0887\"], [0.1111111111111111, \"#46039f\"], [0.2222222222222222, \"#7201a8\"], [0.3333333333333333, \"#9c179e\"], [0.4444444444444444, \"#bd3786\"], [0.5555555555555556, \"#d8576b\"], [0.6666666666666666, \"#ed7953\"], [0.7777777777777778, \"#fb9f3a\"], [0.8888888888888888, \"#fdca26\"], [1.0, \"#f0f921\"]], \"type\": \"histogram2dcontour\"}], \"mesh3d\": [{\"colorbar\": {\"outlinewidth\": 0, \"ticks\": \"\"}, \"type\": \"mesh3d\"}], \"parcoords\": [{\"line\": {\"colorbar\": {\"outlinewidth\": 0, \"ticks\": \"\"}}, \"type\": \"parcoords\"}], \"pie\": [{\"automargin\": true, \"type\": \"pie\"}], \"scatter\": [{\"marker\": {\"colorbar\": {\"outlinewidth\": 0, \"ticks\": \"\"}}, \"type\": \"scatter\"}], \"scatter3d\": [{\"line\": {\"colorbar\": {\"outlinewidth\": 0, \"ticks\": \"\"}}, \"marker\": {\"colorbar\": {\"outlinewidth\": 0, \"ticks\": \"\"}}, \"type\": \"scatter3d\"}], \"scattercarpet\": [{\"marker\": {\"colorbar\": {\"outlinewidth\": 0, \"ticks\": \"\"}}, \"type\": \"scattercarpet\"}], \"scattergeo\": [{\"marker\": {\"colorbar\": {\"outlinewidth\": 0, \"ticks\": \"\"}}, \"type\": \"scattergeo\"}], \"scattergl\": [{\"marker\": {\"colorbar\": {\"outlinewidth\": 0, \"ticks\": \"\"}}, \"type\": \"scattergl\"}], \"scattermapbox\": [{\"marker\": {\"colorbar\": {\"outlinewidth\": 0, \"ticks\": \"\"}}, \"type\": \"scattermapbox\"}], \"scatterpolar\": [{\"marker\": {\"colorbar\": {\"outlinewidth\": 0, \"ticks\": \"\"}}, \"type\": \"scatterpolar\"}], \"scatterpolargl\": [{\"marker\": {\"colorbar\": {\"outlinewidth\": 0, \"ticks\": \"\"}}, \"type\": \"scatterpolargl\"}], \"scatterternary\": [{\"marker\": {\"colorbar\": {\"outlinewidth\": 0, \"ticks\": \"\"}}, \"type\": \"scatterternary\"}], \"surface\": [{\"colorbar\": {\"outlinewidth\": 0, \"ticks\": \"\"}, \"colorscale\": [[0.0, \"#0d0887\"], [0.1111111111111111, \"#46039f\"], [0.2222222222222222, \"#7201a8\"], [0.3333333333333333, \"#9c179e\"], [0.4444444444444444, \"#bd3786\"], [0.5555555555555556, \"#d8576b\"], [0.6666666666666666, \"#ed7953\"], [0.7777777777777778, \"#fb9f3a\"], [0.8888888888888888, \"#fdca26\"], [1.0, \"#f0f921\"]], \"type\": \"surface\"}], \"table\": [{\"cells\": {\"fill\": {\"color\": \"#EBF0F8\"}, \"line\": {\"color\": \"white\"}}, \"header\": {\"fill\": {\"color\": \"#C8D4E3\"}, \"line\": {\"color\": \"white\"}}, \"type\": \"table\"}]}, \"layout\": {\"annotationdefaults\": {\"arrowcolor\": \"#2a3f5f\", \"arrowhead\": 0, \"arrowwidth\": 1}, \"coloraxis\": {\"colorbar\": {\"outlinewidth\": 0, \"ticks\": \"\"}}, \"colorscale\": {\"diverging\": [[0, \"#8e0152\"], [0.1, \"#c51b7d\"], [0.2, \"#de77ae\"], [0.3, \"#f1b6da\"], [0.4, \"#fde0ef\"], [0.5, \"#f7f7f7\"], [0.6, \"#e6f5d0\"], [0.7, \"#b8e186\"], [0.8, \"#7fbc41\"], [0.9, \"#4d9221\"], [1, \"#276419\"]], \"sequential\": [[0.0, \"#0d0887\"], [0.1111111111111111, \"#46039f\"], [0.2222222222222222, \"#7201a8\"], [0.3333333333333333, \"#9c179e\"], [0.4444444444444444, \"#bd3786\"], [0.5555555555555556, \"#d8576b\"], [0.6666666666666666, \"#ed7953\"], [0.7777777777777778, \"#fb9f3a\"], [0.8888888888888888, \"#fdca26\"], [1.0, \"#f0f921\"]], \"sequentialminus\": [[0.0, \"#0d0887\"], [0.1111111111111111, \"#46039f\"], [0.2222222222222222, \"#7201a8\"], [0.3333333333333333, \"#9c179e\"], [0.4444444444444444, \"#bd3786\"], [0.5555555555555556, \"#d8576b\"], [0.6666666666666666, \"#ed7953\"], [0.7777777777777778, \"#fb9f3a\"], [0.8888888888888888, \"#fdca26\"], [1.0, \"#f0f921\"]]}, \"colorway\": [\"#636efa\", \"#EF553B\", \"#00cc96\", \"#ab63fa\", \"#FFA15A\", \"#19d3f3\", \"#FF6692\", \"#B6E880\", \"#FF97FF\", \"#FECB52\"], \"font\": {\"color\": \"#2a3f5f\"}, \"geo\": {\"bgcolor\": \"white\", \"lakecolor\": \"white\", \"landcolor\": \"#E5ECF6\", \"showlakes\": true, \"showland\": true, \"subunitcolor\": \"white\"}, \"hoverlabel\": {\"align\": \"left\"}, \"hovermode\": \"closest\", \"mapbox\": {\"style\": \"light\"}, \"paper_bgcolor\": \"white\", \"plot_bgcolor\": \"#E5ECF6\", \"polar\": {\"angularaxis\": {\"gridcolor\": \"white\", \"linecolor\": \"white\", \"ticks\": \"\"}, \"bgcolor\": \"#E5ECF6\", \"radialaxis\": {\"gridcolor\": \"white\", \"linecolor\": \"white\", \"ticks\": \"\"}}, \"scene\": {\"xaxis\": {\"backgroundcolor\": \"#E5ECF6\", \"gridcolor\": \"white\", \"gridwidth\": 2, \"linecolor\": \"white\", \"showbackground\": true, \"ticks\": \"\", \"zerolinecolor\": \"white\"}, \"yaxis\": {\"backgroundcolor\": \"#E5ECF6\", \"gridcolor\": \"white\", \"gridwidth\": 2, \"linecolor\": \"white\", \"showbackground\": true, \"ticks\": \"\", \"zerolinecolor\": \"white\"}, \"zaxis\": {\"backgroundcolor\": \"#E5ECF6\", \"gridcolor\": \"white\", \"gridwidth\": 2, \"linecolor\": \"white\", \"showbackground\": true, \"ticks\": \"\", \"zerolinecolor\": \"white\"}}, \"shapedefaults\": {\"line\": {\"color\": \"#2a3f5f\"}}, \"ternary\": {\"aaxis\": {\"gridcolor\": \"white\", \"linecolor\": \"white\", \"ticks\": \"\"}, \"baxis\": {\"gridcolor\": \"white\", \"linecolor\": \"white\", \"ticks\": \"\"}, \"bgcolor\": \"#E5ECF6\", \"caxis\": {\"gridcolor\": \"white\", \"linecolor\": \"white\", \"ticks\": \"\"}}, \"title\": {\"x\": 0.05}, \"xaxis\": {\"automargin\": true, \"gridcolor\": \"white\", \"linecolor\": \"white\", \"ticks\": \"\", \"title\": {\"standoff\": 15}, \"zerolinecolor\": \"white\", \"zerolinewidth\": 2}, \"yaxis\": {\"automargin\": true, \"gridcolor\": \"white\", \"linecolor\": \"white\", \"ticks\": \"\", \"title\": {\"standoff\": 15}, \"zerolinecolor\": \"white\", \"zerolinewidth\": 2}}}},\n",
       "                        {\"responsive\": true}\n",
       "                    ).then(function(){\n",
       "                            \n",
       "var gd = document.getElementById('27f44879-edb3-4b25-97c2-a8f2c0037d90');\n",
       "var x = new MutationObserver(function (mutations, observer) {{\n",
       "        var display = window.getComputedStyle(gd).display;\n",
       "        if (!display || display === 'none') {{\n",
       "            console.log([gd, 'removed!']);\n",
       "            Plotly.purge(gd);\n",
       "            observer.disconnect();\n",
       "        }}\n",
       "}});\n",
       "\n",
       "// Listen for the removal of the full notebook cells\n",
       "var notebookContainer = gd.closest('#notebook-container');\n",
       "if (notebookContainer) {{\n",
       "    x.observe(notebookContainer, {childList: true});\n",
       "}}\n",
       "\n",
       "// Listen for the clearing of the current output cell\n",
       "var outputEl = gd.closest('.output');\n",
       "if (outputEl) {{\n",
       "    x.observe(outputEl, {childList: true});\n",
       "}}\n",
       "\n",
       "                        })\n",
       "                };\n",
       "                });\n",
       "            </script>\n",
       "        </div>"
      ]
     },
     "metadata": {},
     "output_type": "display_data"
    }
   ],
   "source": [
    "fig = px.scatter_3d(one_shop_one_item_df, x='date_block_num', y='item_price', z='item_cnt_month', color='item_price')\n",
    "fig.show()"
   ]
  },
  {
   "cell_type": "code",
   "execution_count": 134,
   "metadata": {},
   "outputs": [
    {
     "data": {
      "application/vnd.plotly.v1+json": {
       "config": {
        "plotlyServerURL": "https://plot.ly"
       },
       "data": [
        {
         "hovertemplate": "date_block_num=%{x}<br>item_cnt_month=%{y}<extra></extra>",
         "legendgroup": "",
         "marker": {
          "color": "#636efa",
          "opacity": 0.65,
          "symbol": "circle"
         },
         "mode": "markers",
         "name": "",
         "showlegend": false,
         "type": "scatter",
         "x": [
          "month month 4",
          "month month 5",
          "month month 5",
          "month month 5",
          "month month 6",
          "month month 7",
          "month month 8",
          "month month 8",
          "month month 8",
          "month month 9",
          "month month 10",
          "month month 10",
          "month month 10",
          "month month 10",
          "month month 10",
          "month month 10",
          "month month 10",
          "month month 11",
          "month month 11",
          "month month 12",
          "month month 13",
          "month month 14",
          "month month 14",
          "month month 14",
          "month month 14",
          "month month 15",
          "month month 16",
          "month month 16",
          "month month 17",
          "month month 17",
          "month month 18",
          "month month 18",
          "month month 19",
          "month month 19",
          "month month 20",
          "month month 20",
          "month month 21",
          "month month 21",
          "month month 22",
          "month month 22",
          "month month 23",
          "month month 24",
          "month month 25",
          "month month 25",
          "month month 26",
          "month month 26",
          "month month 27",
          "month month 27",
          "month month 28",
          "month month 28",
          "month month 28",
          "month month 29",
          "month month 29",
          "month month 29",
          "month month 30",
          "month month 30",
          "month month 30",
          "month month 30",
          "month month 30",
          "month month 31",
          "month month 31",
          "month month 31",
          "month month 31",
          "month month 32",
          "month month 32",
          "month month 33",
          "month month 33",
          "month month 33"
         ],
         "xaxis": "x",
         "y": [
          33,
          19,
          3,
          47,
          60,
          71,
          23,
          4,
          51,
          70,
          38,
          27,
          4,
          5,
          4,
          5,
          45,
          5,
          87,
          123,
          58,
          5,
          27,
          2,
          54,
          68,
          2,
          55,
          23,
          32,
          5,
          45,
          8,
          43,
          12,
          49,
          4,
          77,
          17,
          65,
          79,
          106,
          28,
          53,
          6,
          61,
          22,
          52,
          12,
          4,
          50,
          1,
          5,
          49,
          28,
          4,
          4,
          3,
          44,
          5,
          5,
          10,
          51,
          16,
          66,
          12,
          2,
          68
         ],
         "yaxis": "y"
        }
       ],
       "layout": {
        "legend": {
         "tracegroupgap": 0
        },
        "margin": {
         "t": 60
        },
        "template": {
         "data": {
          "bar": [
           {
            "error_x": {
             "color": "#2a3f5f"
            },
            "error_y": {
             "color": "#2a3f5f"
            },
            "marker": {
             "line": {
              "color": "#E5ECF6",
              "width": 0.5
             }
            },
            "type": "bar"
           }
          ],
          "barpolar": [
           {
            "marker": {
             "line": {
              "color": "#E5ECF6",
              "width": 0.5
             }
            },
            "type": "barpolar"
           }
          ],
          "carpet": [
           {
            "aaxis": {
             "endlinecolor": "#2a3f5f",
             "gridcolor": "white",
             "linecolor": "white",
             "minorgridcolor": "white",
             "startlinecolor": "#2a3f5f"
            },
            "baxis": {
             "endlinecolor": "#2a3f5f",
             "gridcolor": "white",
             "linecolor": "white",
             "minorgridcolor": "white",
             "startlinecolor": "#2a3f5f"
            },
            "type": "carpet"
           }
          ],
          "choropleth": [
           {
            "colorbar": {
             "outlinewidth": 0,
             "ticks": ""
            },
            "type": "choropleth"
           }
          ],
          "contour": [
           {
            "colorbar": {
             "outlinewidth": 0,
             "ticks": ""
            },
            "colorscale": [
             [
              0,
              "#0d0887"
             ],
             [
              0.1111111111111111,
              "#46039f"
             ],
             [
              0.2222222222222222,
              "#7201a8"
             ],
             [
              0.3333333333333333,
              "#9c179e"
             ],
             [
              0.4444444444444444,
              "#bd3786"
             ],
             [
              0.5555555555555556,
              "#d8576b"
             ],
             [
              0.6666666666666666,
              "#ed7953"
             ],
             [
              0.7777777777777778,
              "#fb9f3a"
             ],
             [
              0.8888888888888888,
              "#fdca26"
             ],
             [
              1,
              "#f0f921"
             ]
            ],
            "type": "contour"
           }
          ],
          "contourcarpet": [
           {
            "colorbar": {
             "outlinewidth": 0,
             "ticks": ""
            },
            "type": "contourcarpet"
           }
          ],
          "heatmap": [
           {
            "colorbar": {
             "outlinewidth": 0,
             "ticks": ""
            },
            "colorscale": [
             [
              0,
              "#0d0887"
             ],
             [
              0.1111111111111111,
              "#46039f"
             ],
             [
              0.2222222222222222,
              "#7201a8"
             ],
             [
              0.3333333333333333,
              "#9c179e"
             ],
             [
              0.4444444444444444,
              "#bd3786"
             ],
             [
              0.5555555555555556,
              "#d8576b"
             ],
             [
              0.6666666666666666,
              "#ed7953"
             ],
             [
              0.7777777777777778,
              "#fb9f3a"
             ],
             [
              0.8888888888888888,
              "#fdca26"
             ],
             [
              1,
              "#f0f921"
             ]
            ],
            "type": "heatmap"
           }
          ],
          "heatmapgl": [
           {
            "colorbar": {
             "outlinewidth": 0,
             "ticks": ""
            },
            "colorscale": [
             [
              0,
              "#0d0887"
             ],
             [
              0.1111111111111111,
              "#46039f"
             ],
             [
              0.2222222222222222,
              "#7201a8"
             ],
             [
              0.3333333333333333,
              "#9c179e"
             ],
             [
              0.4444444444444444,
              "#bd3786"
             ],
             [
              0.5555555555555556,
              "#d8576b"
             ],
             [
              0.6666666666666666,
              "#ed7953"
             ],
             [
              0.7777777777777778,
              "#fb9f3a"
             ],
             [
              0.8888888888888888,
              "#fdca26"
             ],
             [
              1,
              "#f0f921"
             ]
            ],
            "type": "heatmapgl"
           }
          ],
          "histogram": [
           {
            "marker": {
             "colorbar": {
              "outlinewidth": 0,
              "ticks": ""
             }
            },
            "type": "histogram"
           }
          ],
          "histogram2d": [
           {
            "colorbar": {
             "outlinewidth": 0,
             "ticks": ""
            },
            "colorscale": [
             [
              0,
              "#0d0887"
             ],
             [
              0.1111111111111111,
              "#46039f"
             ],
             [
              0.2222222222222222,
              "#7201a8"
             ],
             [
              0.3333333333333333,
              "#9c179e"
             ],
             [
              0.4444444444444444,
              "#bd3786"
             ],
             [
              0.5555555555555556,
              "#d8576b"
             ],
             [
              0.6666666666666666,
              "#ed7953"
             ],
             [
              0.7777777777777778,
              "#fb9f3a"
             ],
             [
              0.8888888888888888,
              "#fdca26"
             ],
             [
              1,
              "#f0f921"
             ]
            ],
            "type": "histogram2d"
           }
          ],
          "histogram2dcontour": [
           {
            "colorbar": {
             "outlinewidth": 0,
             "ticks": ""
            },
            "colorscale": [
             [
              0,
              "#0d0887"
             ],
             [
              0.1111111111111111,
              "#46039f"
             ],
             [
              0.2222222222222222,
              "#7201a8"
             ],
             [
              0.3333333333333333,
              "#9c179e"
             ],
             [
              0.4444444444444444,
              "#bd3786"
             ],
             [
              0.5555555555555556,
              "#d8576b"
             ],
             [
              0.6666666666666666,
              "#ed7953"
             ],
             [
              0.7777777777777778,
              "#fb9f3a"
             ],
             [
              0.8888888888888888,
              "#fdca26"
             ],
             [
              1,
              "#f0f921"
             ]
            ],
            "type": "histogram2dcontour"
           }
          ],
          "mesh3d": [
           {
            "colorbar": {
             "outlinewidth": 0,
             "ticks": ""
            },
            "type": "mesh3d"
           }
          ],
          "parcoords": [
           {
            "line": {
             "colorbar": {
              "outlinewidth": 0,
              "ticks": ""
             }
            },
            "type": "parcoords"
           }
          ],
          "pie": [
           {
            "automargin": true,
            "type": "pie"
           }
          ],
          "scatter": [
           {
            "marker": {
             "colorbar": {
              "outlinewidth": 0,
              "ticks": ""
             }
            },
            "type": "scatter"
           }
          ],
          "scatter3d": [
           {
            "line": {
             "colorbar": {
              "outlinewidth": 0,
              "ticks": ""
             }
            },
            "marker": {
             "colorbar": {
              "outlinewidth": 0,
              "ticks": ""
             }
            },
            "type": "scatter3d"
           }
          ],
          "scattercarpet": [
           {
            "marker": {
             "colorbar": {
              "outlinewidth": 0,
              "ticks": ""
             }
            },
            "type": "scattercarpet"
           }
          ],
          "scattergeo": [
           {
            "marker": {
             "colorbar": {
              "outlinewidth": 0,
              "ticks": ""
             }
            },
            "type": "scattergeo"
           }
          ],
          "scattergl": [
           {
            "marker": {
             "colorbar": {
              "outlinewidth": 0,
              "ticks": ""
             }
            },
            "type": "scattergl"
           }
          ],
          "scattermapbox": [
           {
            "marker": {
             "colorbar": {
              "outlinewidth": 0,
              "ticks": ""
             }
            },
            "type": "scattermapbox"
           }
          ],
          "scatterpolar": [
           {
            "marker": {
             "colorbar": {
              "outlinewidth": 0,
              "ticks": ""
             }
            },
            "type": "scatterpolar"
           }
          ],
          "scatterpolargl": [
           {
            "marker": {
             "colorbar": {
              "outlinewidth": 0,
              "ticks": ""
             }
            },
            "type": "scatterpolargl"
           }
          ],
          "scatterternary": [
           {
            "marker": {
             "colorbar": {
              "outlinewidth": 0,
              "ticks": ""
             }
            },
            "type": "scatterternary"
           }
          ],
          "surface": [
           {
            "colorbar": {
             "outlinewidth": 0,
             "ticks": ""
            },
            "colorscale": [
             [
              0,
              "#0d0887"
             ],
             [
              0.1111111111111111,
              "#46039f"
             ],
             [
              0.2222222222222222,
              "#7201a8"
             ],
             [
              0.3333333333333333,
              "#9c179e"
             ],
             [
              0.4444444444444444,
              "#bd3786"
             ],
             [
              0.5555555555555556,
              "#d8576b"
             ],
             [
              0.6666666666666666,
              "#ed7953"
             ],
             [
              0.7777777777777778,
              "#fb9f3a"
             ],
             [
              0.8888888888888888,
              "#fdca26"
             ],
             [
              1,
              "#f0f921"
             ]
            ],
            "type": "surface"
           }
          ],
          "table": [
           {
            "cells": {
             "fill": {
              "color": "#EBF0F8"
             },
             "line": {
              "color": "white"
             }
            },
            "header": {
             "fill": {
              "color": "#C8D4E3"
             },
             "line": {
              "color": "white"
             }
            },
            "type": "table"
           }
          ]
         },
         "layout": {
          "annotationdefaults": {
           "arrowcolor": "#2a3f5f",
           "arrowhead": 0,
           "arrowwidth": 1
          },
          "coloraxis": {
           "colorbar": {
            "outlinewidth": 0,
            "ticks": ""
           }
          },
          "colorscale": {
           "diverging": [
            [
             0,
             "#8e0152"
            ],
            [
             0.1,
             "#c51b7d"
            ],
            [
             0.2,
             "#de77ae"
            ],
            [
             0.3,
             "#f1b6da"
            ],
            [
             0.4,
             "#fde0ef"
            ],
            [
             0.5,
             "#f7f7f7"
            ],
            [
             0.6,
             "#e6f5d0"
            ],
            [
             0.7,
             "#b8e186"
            ],
            [
             0.8,
             "#7fbc41"
            ],
            [
             0.9,
             "#4d9221"
            ],
            [
             1,
             "#276419"
            ]
           ],
           "sequential": [
            [
             0,
             "#0d0887"
            ],
            [
             0.1111111111111111,
             "#46039f"
            ],
            [
             0.2222222222222222,
             "#7201a8"
            ],
            [
             0.3333333333333333,
             "#9c179e"
            ],
            [
             0.4444444444444444,
             "#bd3786"
            ],
            [
             0.5555555555555556,
             "#d8576b"
            ],
            [
             0.6666666666666666,
             "#ed7953"
            ],
            [
             0.7777777777777778,
             "#fb9f3a"
            ],
            [
             0.8888888888888888,
             "#fdca26"
            ],
            [
             1,
             "#f0f921"
            ]
           ],
           "sequentialminus": [
            [
             0,
             "#0d0887"
            ],
            [
             0.1111111111111111,
             "#46039f"
            ],
            [
             0.2222222222222222,
             "#7201a8"
            ],
            [
             0.3333333333333333,
             "#9c179e"
            ],
            [
             0.4444444444444444,
             "#bd3786"
            ],
            [
             0.5555555555555556,
             "#d8576b"
            ],
            [
             0.6666666666666666,
             "#ed7953"
            ],
            [
             0.7777777777777778,
             "#fb9f3a"
            ],
            [
             0.8888888888888888,
             "#fdca26"
            ],
            [
             1,
             "#f0f921"
            ]
           ]
          },
          "colorway": [
           "#636efa",
           "#EF553B",
           "#00cc96",
           "#ab63fa",
           "#FFA15A",
           "#19d3f3",
           "#FF6692",
           "#B6E880",
           "#FF97FF",
           "#FECB52"
          ],
          "font": {
           "color": "#2a3f5f"
          },
          "geo": {
           "bgcolor": "white",
           "lakecolor": "white",
           "landcolor": "#E5ECF6",
           "showlakes": true,
           "showland": true,
           "subunitcolor": "white"
          },
          "hoverlabel": {
           "align": "left"
          },
          "hovermode": "closest",
          "mapbox": {
           "style": "light"
          },
          "paper_bgcolor": "white",
          "plot_bgcolor": "#E5ECF6",
          "polar": {
           "angularaxis": {
            "gridcolor": "white",
            "linecolor": "white",
            "ticks": ""
           },
           "bgcolor": "#E5ECF6",
           "radialaxis": {
            "gridcolor": "white",
            "linecolor": "white",
            "ticks": ""
           }
          },
          "scene": {
           "xaxis": {
            "backgroundcolor": "#E5ECF6",
            "gridcolor": "white",
            "gridwidth": 2,
            "linecolor": "white",
            "showbackground": true,
            "ticks": "",
            "zerolinecolor": "white"
           },
           "yaxis": {
            "backgroundcolor": "#E5ECF6",
            "gridcolor": "white",
            "gridwidth": 2,
            "linecolor": "white",
            "showbackground": true,
            "ticks": "",
            "zerolinecolor": "white"
           },
           "zaxis": {
            "backgroundcolor": "#E5ECF6",
            "gridcolor": "white",
            "gridwidth": 2,
            "linecolor": "white",
            "showbackground": true,
            "ticks": "",
            "zerolinecolor": "white"
           }
          },
          "shapedefaults": {
           "line": {
            "color": "#2a3f5f"
           }
          },
          "ternary": {
           "aaxis": {
            "gridcolor": "white",
            "linecolor": "white",
            "ticks": ""
           },
           "baxis": {
            "gridcolor": "white",
            "linecolor": "white",
            "ticks": ""
           },
           "bgcolor": "#E5ECF6",
           "caxis": {
            "gridcolor": "white",
            "linecolor": "white",
            "ticks": ""
           }
          },
          "title": {
           "x": 0.05
          },
          "xaxis": {
           "automargin": true,
           "gridcolor": "white",
           "linecolor": "white",
           "ticks": "",
           "title": {
            "standoff": 15
           },
           "zerolinecolor": "white",
           "zerolinewidth": 2
          },
          "yaxis": {
           "automargin": true,
           "gridcolor": "white",
           "linecolor": "white",
           "ticks": "",
           "title": {
            "standoff": 15
           },
           "zerolinecolor": "white",
           "zerolinewidth": 2
          }
         }
        },
        "xaxis": {
         "anchor": "y",
         "domain": [
          0,
          1
         ],
         "title": {
          "text": "date_block_num"
         }
        },
        "yaxis": {
         "anchor": "x",
         "domain": [
          0,
          1
         ],
         "title": {
          "text": "item_cnt_month"
         }
        }
       }
      },
      "text/html": [
       "<div>\n",
       "        \n",
       "        \n",
       "            <div id=\"d35b71e0-0d37-4b1d-ad61-da5b768e57d0\" class=\"plotly-graph-div\" style=\"height:525px; width:100%;\"></div>\n",
       "            <script type=\"text/javascript\">\n",
       "                require([\"plotly\"], function(Plotly) {\n",
       "                    window.PLOTLYENV=window.PLOTLYENV || {};\n",
       "                    \n",
       "                if (document.getElementById(\"d35b71e0-0d37-4b1d-ad61-da5b768e57d0\")) {\n",
       "                    Plotly.newPlot(\n",
       "                        'd35b71e0-0d37-4b1d-ad61-da5b768e57d0',\n",
       "                        [{\"hovertemplate\": \"date_block_num=%{x}<br>item_cnt_month=%{y}<extra></extra>\", \"legendgroup\": \"\", \"marker\": {\"color\": \"#636efa\", \"opacity\": 0.65, \"symbol\": \"circle\"}, \"mode\": \"markers\", \"name\": \"\", \"showlegend\": false, \"type\": \"scatter\", \"x\": [\"month month 4\", \"month month 5\", \"month month 5\", \"month month 5\", \"month month 6\", \"month month 7\", \"month month 8\", \"month month 8\", \"month month 8\", \"month month 9\", \"month month 10\", \"month month 10\", \"month month 10\", \"month month 10\", \"month month 10\", \"month month 10\", \"month month 10\", \"month month 11\", \"month month 11\", \"month month 12\", \"month month 13\", \"month month 14\", \"month month 14\", \"month month 14\", \"month month 14\", \"month month 15\", \"month month 16\", \"month month 16\", \"month month 17\", \"month month 17\", \"month month 18\", \"month month 18\", \"month month 19\", \"month month 19\", \"month month 20\", \"month month 20\", \"month month 21\", \"month month 21\", \"month month 22\", \"month month 22\", \"month month 23\", \"month month 24\", \"month month 25\", \"month month 25\", \"month month 26\", \"month month 26\", \"month month 27\", \"month month 27\", \"month month 28\", \"month month 28\", \"month month 28\", \"month month 29\", \"month month 29\", \"month month 29\", \"month month 30\", \"month month 30\", \"month month 30\", \"month month 30\", \"month month 30\", \"month month 31\", \"month month 31\", \"month month 31\", \"month month 31\", \"month month 32\", \"month month 32\", \"month month 33\", \"month month 33\", \"month month 33\"], \"xaxis\": \"x\", \"y\": [33.0, 19.0, 3.0, 47.0, 60.0, 71.0, 23.0, 4.0, 51.0, 70.0, 38.0, 27.0, 4.0, 5.0, 4.0, 5.0, 45.0, 5.0, 87.0, 123.0, 58.0, 5.0, 27.0, 2.0, 54.0, 68.0, 2.0, 55.0, 23.0, 32.0, 5.0, 45.0, 8.0, 43.0, 12.0, 49.0, 4.0, 77.0, 17.0, 65.0, 79.0, 106.0, 28.0, 53.0, 6.0, 61.0, 22.0, 52.0, 12.0, 4.0, 50.0, 1.0, 5.0, 49.0, 28.0, 4.0, 4.0, 3.0, 44.0, 5.0, 5.0, 10.0, 51.0, 16.0, 66.0, 12.0, 2.0, 68.0], \"yaxis\": \"y\"}],\n",
       "                        {\"legend\": {\"tracegroupgap\": 0}, \"margin\": {\"t\": 60}, \"template\": {\"data\": {\"bar\": [{\"error_x\": {\"color\": \"#2a3f5f\"}, \"error_y\": {\"color\": \"#2a3f5f\"}, \"marker\": {\"line\": {\"color\": \"#E5ECF6\", \"width\": 0.5}}, \"type\": \"bar\"}], \"barpolar\": [{\"marker\": {\"line\": {\"color\": \"#E5ECF6\", \"width\": 0.5}}, \"type\": \"barpolar\"}], \"carpet\": [{\"aaxis\": {\"endlinecolor\": \"#2a3f5f\", \"gridcolor\": \"white\", \"linecolor\": \"white\", \"minorgridcolor\": \"white\", \"startlinecolor\": \"#2a3f5f\"}, \"baxis\": {\"endlinecolor\": \"#2a3f5f\", \"gridcolor\": \"white\", \"linecolor\": \"white\", \"minorgridcolor\": \"white\", \"startlinecolor\": \"#2a3f5f\"}, \"type\": \"carpet\"}], \"choropleth\": [{\"colorbar\": {\"outlinewidth\": 0, \"ticks\": \"\"}, \"type\": \"choropleth\"}], \"contour\": [{\"colorbar\": {\"outlinewidth\": 0, \"ticks\": \"\"}, \"colorscale\": [[0.0, \"#0d0887\"], [0.1111111111111111, \"#46039f\"], [0.2222222222222222, \"#7201a8\"], [0.3333333333333333, \"#9c179e\"], [0.4444444444444444, \"#bd3786\"], [0.5555555555555556, \"#d8576b\"], [0.6666666666666666, \"#ed7953\"], [0.7777777777777778, \"#fb9f3a\"], [0.8888888888888888, \"#fdca26\"], [1.0, \"#f0f921\"]], \"type\": \"contour\"}], \"contourcarpet\": [{\"colorbar\": {\"outlinewidth\": 0, \"ticks\": \"\"}, \"type\": \"contourcarpet\"}], \"heatmap\": [{\"colorbar\": {\"outlinewidth\": 0, \"ticks\": \"\"}, \"colorscale\": [[0.0, \"#0d0887\"], [0.1111111111111111, \"#46039f\"], [0.2222222222222222, \"#7201a8\"], [0.3333333333333333, \"#9c179e\"], [0.4444444444444444, \"#bd3786\"], [0.5555555555555556, \"#d8576b\"], [0.6666666666666666, \"#ed7953\"], [0.7777777777777778, \"#fb9f3a\"], [0.8888888888888888, \"#fdca26\"], [1.0, \"#f0f921\"]], \"type\": \"heatmap\"}], \"heatmapgl\": [{\"colorbar\": {\"outlinewidth\": 0, \"ticks\": \"\"}, \"colorscale\": [[0.0, \"#0d0887\"], [0.1111111111111111, \"#46039f\"], [0.2222222222222222, \"#7201a8\"], [0.3333333333333333, \"#9c179e\"], [0.4444444444444444, \"#bd3786\"], [0.5555555555555556, \"#d8576b\"], [0.6666666666666666, \"#ed7953\"], [0.7777777777777778, \"#fb9f3a\"], [0.8888888888888888, \"#fdca26\"], [1.0, \"#f0f921\"]], \"type\": \"heatmapgl\"}], \"histogram\": [{\"marker\": {\"colorbar\": {\"outlinewidth\": 0, \"ticks\": \"\"}}, \"type\": \"histogram\"}], \"histogram2d\": [{\"colorbar\": {\"outlinewidth\": 0, \"ticks\": \"\"}, \"colorscale\": [[0.0, \"#0d0887\"], [0.1111111111111111, \"#46039f\"], [0.2222222222222222, \"#7201a8\"], [0.3333333333333333, \"#9c179e\"], [0.4444444444444444, \"#bd3786\"], [0.5555555555555556, \"#d8576b\"], [0.6666666666666666, \"#ed7953\"], [0.7777777777777778, \"#fb9f3a\"], [0.8888888888888888, \"#fdca26\"], [1.0, \"#f0f921\"]], \"type\": \"histogram2d\"}], \"histogram2dcontour\": [{\"colorbar\": {\"outlinewidth\": 0, \"ticks\": \"\"}, \"colorscale\": [[0.0, \"#0d0887\"], [0.1111111111111111, \"#46039f\"], [0.2222222222222222, \"#7201a8\"], [0.3333333333333333, \"#9c179e\"], [0.4444444444444444, \"#bd3786\"], [0.5555555555555556, \"#d8576b\"], [0.6666666666666666, \"#ed7953\"], [0.7777777777777778, \"#fb9f3a\"], [0.8888888888888888, \"#fdca26\"], [1.0, \"#f0f921\"]], \"type\": \"histogram2dcontour\"}], \"mesh3d\": [{\"colorbar\": {\"outlinewidth\": 0, \"ticks\": \"\"}, \"type\": \"mesh3d\"}], \"parcoords\": [{\"line\": {\"colorbar\": {\"outlinewidth\": 0, \"ticks\": \"\"}}, \"type\": \"parcoords\"}], \"pie\": [{\"automargin\": true, \"type\": \"pie\"}], \"scatter\": [{\"marker\": {\"colorbar\": {\"outlinewidth\": 0, \"ticks\": \"\"}}, \"type\": \"scatter\"}], \"scatter3d\": [{\"line\": {\"colorbar\": {\"outlinewidth\": 0, \"ticks\": \"\"}}, \"marker\": {\"colorbar\": {\"outlinewidth\": 0, \"ticks\": \"\"}}, \"type\": \"scatter3d\"}], \"scattercarpet\": [{\"marker\": {\"colorbar\": {\"outlinewidth\": 0, \"ticks\": \"\"}}, \"type\": \"scattercarpet\"}], \"scattergeo\": [{\"marker\": {\"colorbar\": {\"outlinewidth\": 0, \"ticks\": \"\"}}, \"type\": \"scattergeo\"}], \"scattergl\": [{\"marker\": {\"colorbar\": {\"outlinewidth\": 0, \"ticks\": \"\"}}, \"type\": \"scattergl\"}], \"scattermapbox\": [{\"marker\": {\"colorbar\": {\"outlinewidth\": 0, \"ticks\": \"\"}}, \"type\": \"scattermapbox\"}], \"scatterpolar\": [{\"marker\": {\"colorbar\": {\"outlinewidth\": 0, \"ticks\": \"\"}}, \"type\": \"scatterpolar\"}], \"scatterpolargl\": [{\"marker\": {\"colorbar\": {\"outlinewidth\": 0, \"ticks\": \"\"}}, \"type\": \"scatterpolargl\"}], \"scatterternary\": [{\"marker\": {\"colorbar\": {\"outlinewidth\": 0, \"ticks\": \"\"}}, \"type\": \"scatterternary\"}], \"surface\": [{\"colorbar\": {\"outlinewidth\": 0, \"ticks\": \"\"}, \"colorscale\": [[0.0, \"#0d0887\"], [0.1111111111111111, \"#46039f\"], [0.2222222222222222, \"#7201a8\"], [0.3333333333333333, \"#9c179e\"], [0.4444444444444444, \"#bd3786\"], [0.5555555555555556, \"#d8576b\"], [0.6666666666666666, \"#ed7953\"], [0.7777777777777778, \"#fb9f3a\"], [0.8888888888888888, \"#fdca26\"], [1.0, \"#f0f921\"]], \"type\": \"surface\"}], \"table\": [{\"cells\": {\"fill\": {\"color\": \"#EBF0F8\"}, \"line\": {\"color\": \"white\"}}, \"header\": {\"fill\": {\"color\": \"#C8D4E3\"}, \"line\": {\"color\": \"white\"}}, \"type\": \"table\"}]}, \"layout\": {\"annotationdefaults\": {\"arrowcolor\": \"#2a3f5f\", \"arrowhead\": 0, \"arrowwidth\": 1}, \"coloraxis\": {\"colorbar\": {\"outlinewidth\": 0, \"ticks\": \"\"}}, \"colorscale\": {\"diverging\": [[0, \"#8e0152\"], [0.1, \"#c51b7d\"], [0.2, \"#de77ae\"], [0.3, \"#f1b6da\"], [0.4, \"#fde0ef\"], [0.5, \"#f7f7f7\"], [0.6, \"#e6f5d0\"], [0.7, \"#b8e186\"], [0.8, \"#7fbc41\"], [0.9, \"#4d9221\"], [1, \"#276419\"]], \"sequential\": [[0.0, \"#0d0887\"], [0.1111111111111111, \"#46039f\"], [0.2222222222222222, \"#7201a8\"], [0.3333333333333333, \"#9c179e\"], [0.4444444444444444, \"#bd3786\"], [0.5555555555555556, \"#d8576b\"], [0.6666666666666666, \"#ed7953\"], [0.7777777777777778, \"#fb9f3a\"], [0.8888888888888888, \"#fdca26\"], [1.0, \"#f0f921\"]], \"sequentialminus\": [[0.0, \"#0d0887\"], [0.1111111111111111, \"#46039f\"], [0.2222222222222222, \"#7201a8\"], [0.3333333333333333, \"#9c179e\"], [0.4444444444444444, \"#bd3786\"], [0.5555555555555556, \"#d8576b\"], [0.6666666666666666, \"#ed7953\"], [0.7777777777777778, \"#fb9f3a\"], [0.8888888888888888, \"#fdca26\"], [1.0, \"#f0f921\"]]}, \"colorway\": [\"#636efa\", \"#EF553B\", \"#00cc96\", \"#ab63fa\", \"#FFA15A\", \"#19d3f3\", \"#FF6692\", \"#B6E880\", \"#FF97FF\", \"#FECB52\"], \"font\": {\"color\": \"#2a3f5f\"}, \"geo\": {\"bgcolor\": \"white\", \"lakecolor\": \"white\", \"landcolor\": \"#E5ECF6\", \"showlakes\": true, \"showland\": true, \"subunitcolor\": \"white\"}, \"hoverlabel\": {\"align\": \"left\"}, \"hovermode\": \"closest\", \"mapbox\": {\"style\": \"light\"}, \"paper_bgcolor\": \"white\", \"plot_bgcolor\": \"#E5ECF6\", \"polar\": {\"angularaxis\": {\"gridcolor\": \"white\", \"linecolor\": \"white\", \"ticks\": \"\"}, \"bgcolor\": \"#E5ECF6\", \"radialaxis\": {\"gridcolor\": \"white\", \"linecolor\": \"white\", \"ticks\": \"\"}}, \"scene\": {\"xaxis\": {\"backgroundcolor\": \"#E5ECF6\", \"gridcolor\": \"white\", \"gridwidth\": 2, \"linecolor\": \"white\", \"showbackground\": true, \"ticks\": \"\", \"zerolinecolor\": \"white\"}, \"yaxis\": {\"backgroundcolor\": \"#E5ECF6\", \"gridcolor\": \"white\", \"gridwidth\": 2, \"linecolor\": \"white\", \"showbackground\": true, \"ticks\": \"\", \"zerolinecolor\": \"white\"}, \"zaxis\": {\"backgroundcolor\": \"#E5ECF6\", \"gridcolor\": \"white\", \"gridwidth\": 2, \"linecolor\": \"white\", \"showbackground\": true, \"ticks\": \"\", \"zerolinecolor\": \"white\"}}, \"shapedefaults\": {\"line\": {\"color\": \"#2a3f5f\"}}, \"ternary\": {\"aaxis\": {\"gridcolor\": \"white\", \"linecolor\": \"white\", \"ticks\": \"\"}, \"baxis\": {\"gridcolor\": \"white\", \"linecolor\": \"white\", \"ticks\": \"\"}, \"bgcolor\": \"#E5ECF6\", \"caxis\": {\"gridcolor\": \"white\", \"linecolor\": \"white\", \"ticks\": \"\"}}, \"title\": {\"x\": 0.05}, \"xaxis\": {\"automargin\": true, \"gridcolor\": \"white\", \"linecolor\": \"white\", \"ticks\": \"\", \"title\": {\"standoff\": 15}, \"zerolinecolor\": \"white\", \"zerolinewidth\": 2}, \"yaxis\": {\"automargin\": true, \"gridcolor\": \"white\", \"linecolor\": \"white\", \"ticks\": \"\", \"title\": {\"standoff\": 15}, \"zerolinecolor\": \"white\", \"zerolinewidth\": 2}}}, \"xaxis\": {\"anchor\": \"y\", \"domain\": [0.0, 1.0], \"title\": {\"text\": \"date_block_num\"}}, \"yaxis\": {\"anchor\": \"x\", \"domain\": [0.0, 1.0], \"title\": {\"text\": \"item_cnt_month\"}}},\n",
       "                        {\"responsive\": true}\n",
       "                    ).then(function(){\n",
       "                            \n",
       "var gd = document.getElementById('d35b71e0-0d37-4b1d-ad61-da5b768e57d0');\n",
       "var x = new MutationObserver(function (mutations, observer) {{\n",
       "        var display = window.getComputedStyle(gd).display;\n",
       "        if (!display || display === 'none') {{\n",
       "            console.log([gd, 'removed!']);\n",
       "            Plotly.purge(gd);\n",
       "            observer.disconnect();\n",
       "        }}\n",
       "}});\n",
       "\n",
       "// Listen for the removal of the full notebook cells\n",
       "var notebookContainer = gd.closest('#notebook-container');\n",
       "if (notebookContainer) {{\n",
       "    x.observe(notebookContainer, {childList: true});\n",
       "}}\n",
       "\n",
       "// Listen for the clearing of the current output cell\n",
       "var outputEl = gd.closest('.output');\n",
       "if (outputEl) {{\n",
       "    x.observe(outputEl, {childList: true});\n",
       "}}\n",
       "\n",
       "                        })\n",
       "                };\n",
       "                });\n",
       "            </script>\n",
       "        </div>"
      ]
     },
     "metadata": {},
     "output_type": "display_data"
    }
   ],
   "source": [
    "fig = px.scatter(one_shop_one_item_df, x='date_block_num', y='item_cnt_month', opacity=0.65)\n",
    "fig.show()"
   ]
  },
  {
   "cell_type": "code",
   "execution_count": 153,
   "metadata": {},
   "outputs": [
    {
     "data": {
      "application/vnd.plotly.v1+json": {
       "config": {
        "plotlyServerURL": "https://plot.ly"
       },
       "data": [
        {
         "hovertemplate": "date_block_num=%{x}<br>item_price=%{marker.color}<br>item_cnt_month=%{z}<extra></extra>",
         "legendgroup": "",
         "marker": {
          "color": [
           600,
           300,
           400,
           600,
           600,
           600,
           300,
           450,
           600,
           600,
           300,
           311.1111145019531,
           375,
           480,
           525,
           540,
           600,
           540,
           600,
           600,
           600,
           384,
           420,
           510,
           600,
           600,
           510,
           600,
           420,
           600,
           420,
           600,
           420,
           600,
           420,
           600,
           420,
           600,
           420,
           600,
           600,
           600,
           420,
           600,
           420,
           600,
           420,
           600,
           420,
           555,
           600,
           350,
           420,
           600,
           421.4285583496094,
           577.5,
           585,
           590,
           600,
           415.79998779296875,
           420,
           594,
           600,
           420,
           600,
           420,
           510,
           600
          ],
          "coloraxis": "coloraxis",
          "symbol": "circle"
         },
         "mode": "markers",
         "name": "",
         "scene": "scene",
         "showlegend": false,
         "type": "scatter3d",
         "x": [
          4,
          5,
          5,
          5,
          6,
          7,
          8,
          8,
          8,
          9,
          10,
          10,
          10,
          10,
          10,
          10,
          10,
          11,
          11,
          12,
          13,
          14,
          14,
          14,
          14,
          15,
          16,
          16,
          17,
          17,
          18,
          18,
          19,
          19,
          20,
          20,
          21,
          21,
          22,
          22,
          23,
          24,
          25,
          25,
          26,
          26,
          27,
          27,
          28,
          28,
          28,
          29,
          29,
          29,
          30,
          30,
          30,
          30,
          30,
          31,
          31,
          31,
          31,
          32,
          32,
          33,
          33,
          33
         ],
         "y": [
          600,
          300,
          400,
          600,
          600,
          600,
          300,
          450,
          600,
          600,
          300,
          311.1111145019531,
          375,
          480,
          525,
          540,
          600,
          540,
          600,
          600,
          600,
          384,
          420,
          510,
          600,
          600,
          510,
          600,
          420,
          600,
          420,
          600,
          420,
          600,
          420,
          600,
          420,
          600,
          420,
          600,
          600,
          600,
          420,
          600,
          420,
          600,
          420,
          600,
          420,
          555,
          600,
          350,
          420,
          600,
          421.4285583496094,
          577.5,
          585,
          590,
          600,
          415.79998779296875,
          420,
          594,
          600,
          420,
          600,
          420,
          510,
          600
         ],
         "z": [
          33,
          19,
          3,
          47,
          60,
          71,
          23,
          4,
          51,
          70,
          38,
          27,
          4,
          5,
          4,
          5,
          45,
          5,
          87,
          123,
          58,
          5,
          27,
          2,
          54,
          68,
          2,
          55,
          23,
          32,
          5,
          45,
          8,
          43,
          12,
          49,
          4,
          77,
          17,
          65,
          79,
          106,
          28,
          53,
          6,
          61,
          22,
          52,
          12,
          4,
          50,
          1,
          5,
          49,
          28,
          4,
          4,
          3,
          44,
          5,
          5,
          10,
          51,
          16,
          66,
          12,
          2,
          68
         ]
        }
       ],
       "layout": {
        "coloraxis": {
         "colorbar": {
          "title": {
           "text": "item_price"
          }
         },
         "colorscale": [
          [
           0,
           "#0d0887"
          ],
          [
           0.1111111111111111,
           "#46039f"
          ],
          [
           0.2222222222222222,
           "#7201a8"
          ],
          [
           0.3333333333333333,
           "#9c179e"
          ],
          [
           0.4444444444444444,
           "#bd3786"
          ],
          [
           0.5555555555555556,
           "#d8576b"
          ],
          [
           0.6666666666666666,
           "#ed7953"
          ],
          [
           0.7777777777777778,
           "#fb9f3a"
          ],
          [
           0.8888888888888888,
           "#fdca26"
          ],
          [
           1,
           "#f0f921"
          ]
         ]
        },
        "legend": {
         "tracegroupgap": 0
        },
        "margin": {
         "t": 60
        },
        "scene": {
         "domain": {
          "x": [
           0,
           1
          ],
          "y": [
           0,
           1
          ]
         },
         "xaxis": {
          "title": {
           "text": "date_block_num"
          }
         },
         "yaxis": {
          "title": {
           "text": "item_price"
          }
         },
         "zaxis": {
          "title": {
           "text": "item_cnt_month"
          }
         }
        },
        "template": {
         "data": {
          "bar": [
           {
            "error_x": {
             "color": "#2a3f5f"
            },
            "error_y": {
             "color": "#2a3f5f"
            },
            "marker": {
             "line": {
              "color": "#E5ECF6",
              "width": 0.5
             }
            },
            "type": "bar"
           }
          ],
          "barpolar": [
           {
            "marker": {
             "line": {
              "color": "#E5ECF6",
              "width": 0.5
             }
            },
            "type": "barpolar"
           }
          ],
          "carpet": [
           {
            "aaxis": {
             "endlinecolor": "#2a3f5f",
             "gridcolor": "white",
             "linecolor": "white",
             "minorgridcolor": "white",
             "startlinecolor": "#2a3f5f"
            },
            "baxis": {
             "endlinecolor": "#2a3f5f",
             "gridcolor": "white",
             "linecolor": "white",
             "minorgridcolor": "white",
             "startlinecolor": "#2a3f5f"
            },
            "type": "carpet"
           }
          ],
          "choropleth": [
           {
            "colorbar": {
             "outlinewidth": 0,
             "ticks": ""
            },
            "type": "choropleth"
           }
          ],
          "contour": [
           {
            "colorbar": {
             "outlinewidth": 0,
             "ticks": ""
            },
            "colorscale": [
             [
              0,
              "#0d0887"
             ],
             [
              0.1111111111111111,
              "#46039f"
             ],
             [
              0.2222222222222222,
              "#7201a8"
             ],
             [
              0.3333333333333333,
              "#9c179e"
             ],
             [
              0.4444444444444444,
              "#bd3786"
             ],
             [
              0.5555555555555556,
              "#d8576b"
             ],
             [
              0.6666666666666666,
              "#ed7953"
             ],
             [
              0.7777777777777778,
              "#fb9f3a"
             ],
             [
              0.8888888888888888,
              "#fdca26"
             ],
             [
              1,
              "#f0f921"
             ]
            ],
            "type": "contour"
           }
          ],
          "contourcarpet": [
           {
            "colorbar": {
             "outlinewidth": 0,
             "ticks": ""
            },
            "type": "contourcarpet"
           }
          ],
          "heatmap": [
           {
            "colorbar": {
             "outlinewidth": 0,
             "ticks": ""
            },
            "colorscale": [
             [
              0,
              "#0d0887"
             ],
             [
              0.1111111111111111,
              "#46039f"
             ],
             [
              0.2222222222222222,
              "#7201a8"
             ],
             [
              0.3333333333333333,
              "#9c179e"
             ],
             [
              0.4444444444444444,
              "#bd3786"
             ],
             [
              0.5555555555555556,
              "#d8576b"
             ],
             [
              0.6666666666666666,
              "#ed7953"
             ],
             [
              0.7777777777777778,
              "#fb9f3a"
             ],
             [
              0.8888888888888888,
              "#fdca26"
             ],
             [
              1,
              "#f0f921"
             ]
            ],
            "type": "heatmap"
           }
          ],
          "heatmapgl": [
           {
            "colorbar": {
             "outlinewidth": 0,
             "ticks": ""
            },
            "colorscale": [
             [
              0,
              "#0d0887"
             ],
             [
              0.1111111111111111,
              "#46039f"
             ],
             [
              0.2222222222222222,
              "#7201a8"
             ],
             [
              0.3333333333333333,
              "#9c179e"
             ],
             [
              0.4444444444444444,
              "#bd3786"
             ],
             [
              0.5555555555555556,
              "#d8576b"
             ],
             [
              0.6666666666666666,
              "#ed7953"
             ],
             [
              0.7777777777777778,
              "#fb9f3a"
             ],
             [
              0.8888888888888888,
              "#fdca26"
             ],
             [
              1,
              "#f0f921"
             ]
            ],
            "type": "heatmapgl"
           }
          ],
          "histogram": [
           {
            "marker": {
             "colorbar": {
              "outlinewidth": 0,
              "ticks": ""
             }
            },
            "type": "histogram"
           }
          ],
          "histogram2d": [
           {
            "colorbar": {
             "outlinewidth": 0,
             "ticks": ""
            },
            "colorscale": [
             [
              0,
              "#0d0887"
             ],
             [
              0.1111111111111111,
              "#46039f"
             ],
             [
              0.2222222222222222,
              "#7201a8"
             ],
             [
              0.3333333333333333,
              "#9c179e"
             ],
             [
              0.4444444444444444,
              "#bd3786"
             ],
             [
              0.5555555555555556,
              "#d8576b"
             ],
             [
              0.6666666666666666,
              "#ed7953"
             ],
             [
              0.7777777777777778,
              "#fb9f3a"
             ],
             [
              0.8888888888888888,
              "#fdca26"
             ],
             [
              1,
              "#f0f921"
             ]
            ],
            "type": "histogram2d"
           }
          ],
          "histogram2dcontour": [
           {
            "colorbar": {
             "outlinewidth": 0,
             "ticks": ""
            },
            "colorscale": [
             [
              0,
              "#0d0887"
             ],
             [
              0.1111111111111111,
              "#46039f"
             ],
             [
              0.2222222222222222,
              "#7201a8"
             ],
             [
              0.3333333333333333,
              "#9c179e"
             ],
             [
              0.4444444444444444,
              "#bd3786"
             ],
             [
              0.5555555555555556,
              "#d8576b"
             ],
             [
              0.6666666666666666,
              "#ed7953"
             ],
             [
              0.7777777777777778,
              "#fb9f3a"
             ],
             [
              0.8888888888888888,
              "#fdca26"
             ],
             [
              1,
              "#f0f921"
             ]
            ],
            "type": "histogram2dcontour"
           }
          ],
          "mesh3d": [
           {
            "colorbar": {
             "outlinewidth": 0,
             "ticks": ""
            },
            "type": "mesh3d"
           }
          ],
          "parcoords": [
           {
            "line": {
             "colorbar": {
              "outlinewidth": 0,
              "ticks": ""
             }
            },
            "type": "parcoords"
           }
          ],
          "pie": [
           {
            "automargin": true,
            "type": "pie"
           }
          ],
          "scatter": [
           {
            "marker": {
             "colorbar": {
              "outlinewidth": 0,
              "ticks": ""
             }
            },
            "type": "scatter"
           }
          ],
          "scatter3d": [
           {
            "line": {
             "colorbar": {
              "outlinewidth": 0,
              "ticks": ""
             }
            },
            "marker": {
             "colorbar": {
              "outlinewidth": 0,
              "ticks": ""
             }
            },
            "type": "scatter3d"
           }
          ],
          "scattercarpet": [
           {
            "marker": {
             "colorbar": {
              "outlinewidth": 0,
              "ticks": ""
             }
            },
            "type": "scattercarpet"
           }
          ],
          "scattergeo": [
           {
            "marker": {
             "colorbar": {
              "outlinewidth": 0,
              "ticks": ""
             }
            },
            "type": "scattergeo"
           }
          ],
          "scattergl": [
           {
            "marker": {
             "colorbar": {
              "outlinewidth": 0,
              "ticks": ""
             }
            },
            "type": "scattergl"
           }
          ],
          "scattermapbox": [
           {
            "marker": {
             "colorbar": {
              "outlinewidth": 0,
              "ticks": ""
             }
            },
            "type": "scattermapbox"
           }
          ],
          "scatterpolar": [
           {
            "marker": {
             "colorbar": {
              "outlinewidth": 0,
              "ticks": ""
             }
            },
            "type": "scatterpolar"
           }
          ],
          "scatterpolargl": [
           {
            "marker": {
             "colorbar": {
              "outlinewidth": 0,
              "ticks": ""
             }
            },
            "type": "scatterpolargl"
           }
          ],
          "scatterternary": [
           {
            "marker": {
             "colorbar": {
              "outlinewidth": 0,
              "ticks": ""
             }
            },
            "type": "scatterternary"
           }
          ],
          "surface": [
           {
            "colorbar": {
             "outlinewidth": 0,
             "ticks": ""
            },
            "colorscale": [
             [
              0,
              "#0d0887"
             ],
             [
              0.1111111111111111,
              "#46039f"
             ],
             [
              0.2222222222222222,
              "#7201a8"
             ],
             [
              0.3333333333333333,
              "#9c179e"
             ],
             [
              0.4444444444444444,
              "#bd3786"
             ],
             [
              0.5555555555555556,
              "#d8576b"
             ],
             [
              0.6666666666666666,
              "#ed7953"
             ],
             [
              0.7777777777777778,
              "#fb9f3a"
             ],
             [
              0.8888888888888888,
              "#fdca26"
             ],
             [
              1,
              "#f0f921"
             ]
            ],
            "type": "surface"
           }
          ],
          "table": [
           {
            "cells": {
             "fill": {
              "color": "#EBF0F8"
             },
             "line": {
              "color": "white"
             }
            },
            "header": {
             "fill": {
              "color": "#C8D4E3"
             },
             "line": {
              "color": "white"
             }
            },
            "type": "table"
           }
          ]
         },
         "layout": {
          "annotationdefaults": {
           "arrowcolor": "#2a3f5f",
           "arrowhead": 0,
           "arrowwidth": 1
          },
          "coloraxis": {
           "colorbar": {
            "outlinewidth": 0,
            "ticks": ""
           }
          },
          "colorscale": {
           "diverging": [
            [
             0,
             "#8e0152"
            ],
            [
             0.1,
             "#c51b7d"
            ],
            [
             0.2,
             "#de77ae"
            ],
            [
             0.3,
             "#f1b6da"
            ],
            [
             0.4,
             "#fde0ef"
            ],
            [
             0.5,
             "#f7f7f7"
            ],
            [
             0.6,
             "#e6f5d0"
            ],
            [
             0.7,
             "#b8e186"
            ],
            [
             0.8,
             "#7fbc41"
            ],
            [
             0.9,
             "#4d9221"
            ],
            [
             1,
             "#276419"
            ]
           ],
           "sequential": [
            [
             0,
             "#0d0887"
            ],
            [
             0.1111111111111111,
             "#46039f"
            ],
            [
             0.2222222222222222,
             "#7201a8"
            ],
            [
             0.3333333333333333,
             "#9c179e"
            ],
            [
             0.4444444444444444,
             "#bd3786"
            ],
            [
             0.5555555555555556,
             "#d8576b"
            ],
            [
             0.6666666666666666,
             "#ed7953"
            ],
            [
             0.7777777777777778,
             "#fb9f3a"
            ],
            [
             0.8888888888888888,
             "#fdca26"
            ],
            [
             1,
             "#f0f921"
            ]
           ],
           "sequentialminus": [
            [
             0,
             "#0d0887"
            ],
            [
             0.1111111111111111,
             "#46039f"
            ],
            [
             0.2222222222222222,
             "#7201a8"
            ],
            [
             0.3333333333333333,
             "#9c179e"
            ],
            [
             0.4444444444444444,
             "#bd3786"
            ],
            [
             0.5555555555555556,
             "#d8576b"
            ],
            [
             0.6666666666666666,
             "#ed7953"
            ],
            [
             0.7777777777777778,
             "#fb9f3a"
            ],
            [
             0.8888888888888888,
             "#fdca26"
            ],
            [
             1,
             "#f0f921"
            ]
           ]
          },
          "colorway": [
           "#636efa",
           "#EF553B",
           "#00cc96",
           "#ab63fa",
           "#FFA15A",
           "#19d3f3",
           "#FF6692",
           "#B6E880",
           "#FF97FF",
           "#FECB52"
          ],
          "font": {
           "color": "#2a3f5f"
          },
          "geo": {
           "bgcolor": "white",
           "lakecolor": "white",
           "landcolor": "#E5ECF6",
           "showlakes": true,
           "showland": true,
           "subunitcolor": "white"
          },
          "hoverlabel": {
           "align": "left"
          },
          "hovermode": "closest",
          "mapbox": {
           "style": "light"
          },
          "paper_bgcolor": "white",
          "plot_bgcolor": "#E5ECF6",
          "polar": {
           "angularaxis": {
            "gridcolor": "white",
            "linecolor": "white",
            "ticks": ""
           },
           "bgcolor": "#E5ECF6",
           "radialaxis": {
            "gridcolor": "white",
            "linecolor": "white",
            "ticks": ""
           }
          },
          "scene": {
           "xaxis": {
            "backgroundcolor": "#E5ECF6",
            "gridcolor": "white",
            "gridwidth": 2,
            "linecolor": "white",
            "showbackground": true,
            "ticks": "",
            "zerolinecolor": "white"
           },
           "yaxis": {
            "backgroundcolor": "#E5ECF6",
            "gridcolor": "white",
            "gridwidth": 2,
            "linecolor": "white",
            "showbackground": true,
            "ticks": "",
            "zerolinecolor": "white"
           },
           "zaxis": {
            "backgroundcolor": "#E5ECF6",
            "gridcolor": "white",
            "gridwidth": 2,
            "linecolor": "white",
            "showbackground": true,
            "ticks": "",
            "zerolinecolor": "white"
           }
          },
          "shapedefaults": {
           "line": {
            "color": "#2a3f5f"
           }
          },
          "ternary": {
           "aaxis": {
            "gridcolor": "white",
            "linecolor": "white",
            "ticks": ""
           },
           "baxis": {
            "gridcolor": "white",
            "linecolor": "white",
            "ticks": ""
           },
           "bgcolor": "#E5ECF6",
           "caxis": {
            "gridcolor": "white",
            "linecolor": "white",
            "ticks": ""
           }
          },
          "title": {
           "x": 0.05
          },
          "xaxis": {
           "automargin": true,
           "gridcolor": "white",
           "linecolor": "white",
           "ticks": "",
           "title": {
            "standoff": 15
           },
           "zerolinecolor": "white",
           "zerolinewidth": 2
          },
          "yaxis": {
           "automargin": true,
           "gridcolor": "white",
           "linecolor": "white",
           "ticks": "",
           "title": {
            "standoff": 15
           },
           "zerolinecolor": "white",
           "zerolinewidth": 2
          }
         }
        }
       }
      },
      "text/html": [
       "<div>\n",
       "        \n",
       "        \n",
       "            <div id=\"5d25af0a-b81f-4a0f-902c-1975a98b4da7\" class=\"plotly-graph-div\" style=\"height:525px; width:100%;\"></div>\n",
       "            <script type=\"text/javascript\">\n",
       "                require([\"plotly\"], function(Plotly) {\n",
       "                    window.PLOTLYENV=window.PLOTLYENV || {};\n",
       "                    \n",
       "                if (document.getElementById(\"5d25af0a-b81f-4a0f-902c-1975a98b4da7\")) {\n",
       "                    Plotly.newPlot(\n",
       "                        '5d25af0a-b81f-4a0f-902c-1975a98b4da7',\n",
       "                        [{\"hovertemplate\": \"date_block_num=%{x}<br>item_price=%{marker.color}<br>item_cnt_month=%{z}<extra></extra>\", \"legendgroup\": \"\", \"marker\": {\"color\": [600.0, 300.0, 400.0, 600.0, 600.0, 600.0, 300.0, 450.0, 600.0, 600.0, 300.0, 311.1111145019531, 375.0, 480.0, 525.0, 540.0, 600.0, 540.0, 600.0, 600.0, 600.0, 384.0, 420.0, 510.0, 600.0, 600.0, 510.0, 600.0, 420.0, 600.0, 420.0, 600.0, 420.0, 600.0, 420.0, 600.0, 420.0, 600.0, 420.0, 600.0, 600.0, 600.0, 420.0, 600.0, 420.0, 600.0, 420.0, 600.0, 420.0, 555.0, 600.0, 350.0, 420.0, 600.0, 421.4285583496094, 577.5, 585.0, 590.0, 600.0, 415.79998779296875, 420.0, 594.0, 600.0, 420.0, 600.0, 420.0, 510.0, 600.0], \"coloraxis\": \"coloraxis\", \"symbol\": \"circle\"}, \"mode\": \"markers\", \"name\": \"\", \"scene\": \"scene\", \"showlegend\": false, \"type\": \"scatter3d\", \"x\": [4, 5, 5, 5, 6, 7, 8, 8, 8, 9, 10, 10, 10, 10, 10, 10, 10, 11, 11, 12, 13, 14, 14, 14, 14, 15, 16, 16, 17, 17, 18, 18, 19, 19, 20, 20, 21, 21, 22, 22, 23, 24, 25, 25, 26, 26, 27, 27, 28, 28, 28, 29, 29, 29, 30, 30, 30, 30, 30, 31, 31, 31, 31, 32, 32, 33, 33, 33], \"y\": [600.0, 300.0, 400.0, 600.0, 600.0, 600.0, 300.0, 450.0, 600.0, 600.0, 300.0, 311.1111145019531, 375.0, 480.0, 525.0, 540.0, 600.0, 540.0, 600.0, 600.0, 600.0, 384.0, 420.0, 510.0, 600.0, 600.0, 510.0, 600.0, 420.0, 600.0, 420.0, 600.0, 420.0, 600.0, 420.0, 600.0, 420.0, 600.0, 420.0, 600.0, 600.0, 600.0, 420.0, 600.0, 420.0, 600.0, 420.0, 600.0, 420.0, 555.0, 600.0, 350.0, 420.0, 600.0, 421.4285583496094, 577.5, 585.0, 590.0, 600.0, 415.79998779296875, 420.0, 594.0, 600.0, 420.0, 600.0, 420.0, 510.0, 600.0], \"z\": [33.0, 19.0, 3.0, 47.0, 60.0, 71.0, 23.0, 4.0, 51.0, 70.0, 38.0, 27.0, 4.0, 5.0, 4.0, 5.0, 45.0, 5.0, 87.0, 123.0, 58.0, 5.0, 27.0, 2.0, 54.0, 68.0, 2.0, 55.0, 23.0, 32.0, 5.0, 45.0, 8.0, 43.0, 12.0, 49.0, 4.0, 77.0, 17.0, 65.0, 79.0, 106.0, 28.0, 53.0, 6.0, 61.0, 22.0, 52.0, 12.0, 4.0, 50.0, 1.0, 5.0, 49.0, 28.0, 4.0, 4.0, 3.0, 44.0, 5.0, 5.0, 10.0, 51.0, 16.0, 66.0, 12.0, 2.0, 68.0]}],\n",
       "                        {\"coloraxis\": {\"colorbar\": {\"title\": {\"text\": \"item_price\"}}, \"colorscale\": [[0.0, \"#0d0887\"], [0.1111111111111111, \"#46039f\"], [0.2222222222222222, \"#7201a8\"], [0.3333333333333333, \"#9c179e\"], [0.4444444444444444, \"#bd3786\"], [0.5555555555555556, \"#d8576b\"], [0.6666666666666666, \"#ed7953\"], [0.7777777777777778, \"#fb9f3a\"], [0.8888888888888888, \"#fdca26\"], [1.0, \"#f0f921\"]]}, \"legend\": {\"tracegroupgap\": 0}, \"margin\": {\"t\": 60}, \"scene\": {\"domain\": {\"x\": [0.0, 1.0], \"y\": [0.0, 1.0]}, \"xaxis\": {\"title\": {\"text\": \"date_block_num\"}}, \"yaxis\": {\"title\": {\"text\": \"item_price\"}}, \"zaxis\": {\"title\": {\"text\": \"item_cnt_month\"}}}, \"template\": {\"data\": {\"bar\": [{\"error_x\": {\"color\": \"#2a3f5f\"}, \"error_y\": {\"color\": \"#2a3f5f\"}, \"marker\": {\"line\": {\"color\": \"#E5ECF6\", \"width\": 0.5}}, \"type\": \"bar\"}], \"barpolar\": [{\"marker\": {\"line\": {\"color\": \"#E5ECF6\", \"width\": 0.5}}, \"type\": \"barpolar\"}], \"carpet\": [{\"aaxis\": {\"endlinecolor\": \"#2a3f5f\", \"gridcolor\": \"white\", \"linecolor\": \"white\", \"minorgridcolor\": \"white\", \"startlinecolor\": \"#2a3f5f\"}, \"baxis\": {\"endlinecolor\": \"#2a3f5f\", \"gridcolor\": \"white\", \"linecolor\": \"white\", \"minorgridcolor\": \"white\", \"startlinecolor\": \"#2a3f5f\"}, \"type\": \"carpet\"}], \"choropleth\": [{\"colorbar\": {\"outlinewidth\": 0, \"ticks\": \"\"}, \"type\": \"choropleth\"}], \"contour\": [{\"colorbar\": {\"outlinewidth\": 0, \"ticks\": \"\"}, \"colorscale\": [[0.0, \"#0d0887\"], [0.1111111111111111, \"#46039f\"], [0.2222222222222222, \"#7201a8\"], [0.3333333333333333, \"#9c179e\"], [0.4444444444444444, \"#bd3786\"], [0.5555555555555556, \"#d8576b\"], [0.6666666666666666, \"#ed7953\"], [0.7777777777777778, \"#fb9f3a\"], [0.8888888888888888, \"#fdca26\"], [1.0, \"#f0f921\"]], \"type\": \"contour\"}], \"contourcarpet\": [{\"colorbar\": {\"outlinewidth\": 0, \"ticks\": \"\"}, \"type\": \"contourcarpet\"}], \"heatmap\": [{\"colorbar\": {\"outlinewidth\": 0, \"ticks\": \"\"}, \"colorscale\": [[0.0, \"#0d0887\"], [0.1111111111111111, \"#46039f\"], [0.2222222222222222, \"#7201a8\"], [0.3333333333333333, \"#9c179e\"], [0.4444444444444444, \"#bd3786\"], [0.5555555555555556, \"#d8576b\"], [0.6666666666666666, \"#ed7953\"], [0.7777777777777778, \"#fb9f3a\"], [0.8888888888888888, \"#fdca26\"], [1.0, \"#f0f921\"]], \"type\": \"heatmap\"}], \"heatmapgl\": [{\"colorbar\": {\"outlinewidth\": 0, \"ticks\": \"\"}, \"colorscale\": [[0.0, \"#0d0887\"], [0.1111111111111111, \"#46039f\"], [0.2222222222222222, \"#7201a8\"], [0.3333333333333333, \"#9c179e\"], [0.4444444444444444, \"#bd3786\"], [0.5555555555555556, \"#d8576b\"], [0.6666666666666666, \"#ed7953\"], [0.7777777777777778, \"#fb9f3a\"], [0.8888888888888888, \"#fdca26\"], [1.0, \"#f0f921\"]], \"type\": \"heatmapgl\"}], \"histogram\": [{\"marker\": {\"colorbar\": {\"outlinewidth\": 0, \"ticks\": \"\"}}, \"type\": \"histogram\"}], \"histogram2d\": [{\"colorbar\": {\"outlinewidth\": 0, \"ticks\": \"\"}, \"colorscale\": [[0.0, \"#0d0887\"], [0.1111111111111111, \"#46039f\"], [0.2222222222222222, \"#7201a8\"], [0.3333333333333333, \"#9c179e\"], [0.4444444444444444, \"#bd3786\"], [0.5555555555555556, \"#d8576b\"], [0.6666666666666666, \"#ed7953\"], [0.7777777777777778, \"#fb9f3a\"], [0.8888888888888888, \"#fdca26\"], [1.0, \"#f0f921\"]], \"type\": \"histogram2d\"}], \"histogram2dcontour\": [{\"colorbar\": {\"outlinewidth\": 0, \"ticks\": \"\"}, \"colorscale\": [[0.0, \"#0d0887\"], [0.1111111111111111, \"#46039f\"], [0.2222222222222222, \"#7201a8\"], [0.3333333333333333, \"#9c179e\"], [0.4444444444444444, \"#bd3786\"], [0.5555555555555556, \"#d8576b\"], [0.6666666666666666, \"#ed7953\"], [0.7777777777777778, \"#fb9f3a\"], [0.8888888888888888, \"#fdca26\"], [1.0, \"#f0f921\"]], \"type\": \"histogram2dcontour\"}], \"mesh3d\": [{\"colorbar\": {\"outlinewidth\": 0, \"ticks\": \"\"}, \"type\": \"mesh3d\"}], \"parcoords\": [{\"line\": {\"colorbar\": {\"outlinewidth\": 0, \"ticks\": \"\"}}, \"type\": \"parcoords\"}], \"pie\": [{\"automargin\": true, \"type\": \"pie\"}], \"scatter\": [{\"marker\": {\"colorbar\": {\"outlinewidth\": 0, \"ticks\": \"\"}}, \"type\": \"scatter\"}], \"scatter3d\": [{\"line\": {\"colorbar\": {\"outlinewidth\": 0, \"ticks\": \"\"}}, \"marker\": {\"colorbar\": {\"outlinewidth\": 0, \"ticks\": \"\"}}, \"type\": \"scatter3d\"}], \"scattercarpet\": [{\"marker\": {\"colorbar\": {\"outlinewidth\": 0, \"ticks\": \"\"}}, \"type\": \"scattercarpet\"}], \"scattergeo\": [{\"marker\": {\"colorbar\": {\"outlinewidth\": 0, \"ticks\": \"\"}}, \"type\": \"scattergeo\"}], \"scattergl\": [{\"marker\": {\"colorbar\": {\"outlinewidth\": 0, \"ticks\": \"\"}}, \"type\": \"scattergl\"}], \"scattermapbox\": [{\"marker\": {\"colorbar\": {\"outlinewidth\": 0, \"ticks\": \"\"}}, \"type\": \"scattermapbox\"}], \"scatterpolar\": [{\"marker\": {\"colorbar\": {\"outlinewidth\": 0, \"ticks\": \"\"}}, \"type\": \"scatterpolar\"}], \"scatterpolargl\": [{\"marker\": {\"colorbar\": {\"outlinewidth\": 0, \"ticks\": \"\"}}, \"type\": \"scatterpolargl\"}], \"scatterternary\": [{\"marker\": {\"colorbar\": {\"outlinewidth\": 0, \"ticks\": \"\"}}, \"type\": \"scatterternary\"}], \"surface\": [{\"colorbar\": {\"outlinewidth\": 0, \"ticks\": \"\"}, \"colorscale\": [[0.0, \"#0d0887\"], [0.1111111111111111, \"#46039f\"], [0.2222222222222222, \"#7201a8\"], [0.3333333333333333, \"#9c179e\"], [0.4444444444444444, \"#bd3786\"], [0.5555555555555556, \"#d8576b\"], [0.6666666666666666, \"#ed7953\"], [0.7777777777777778, \"#fb9f3a\"], [0.8888888888888888, \"#fdca26\"], [1.0, \"#f0f921\"]], \"type\": \"surface\"}], \"table\": [{\"cells\": {\"fill\": {\"color\": \"#EBF0F8\"}, \"line\": {\"color\": \"white\"}}, \"header\": {\"fill\": {\"color\": \"#C8D4E3\"}, \"line\": {\"color\": \"white\"}}, \"type\": \"table\"}]}, \"layout\": {\"annotationdefaults\": {\"arrowcolor\": \"#2a3f5f\", \"arrowhead\": 0, \"arrowwidth\": 1}, \"coloraxis\": {\"colorbar\": {\"outlinewidth\": 0, \"ticks\": \"\"}}, \"colorscale\": {\"diverging\": [[0, \"#8e0152\"], [0.1, \"#c51b7d\"], [0.2, \"#de77ae\"], [0.3, \"#f1b6da\"], [0.4, \"#fde0ef\"], [0.5, \"#f7f7f7\"], [0.6, \"#e6f5d0\"], [0.7, \"#b8e186\"], [0.8, \"#7fbc41\"], [0.9, \"#4d9221\"], [1, \"#276419\"]], \"sequential\": [[0.0, \"#0d0887\"], [0.1111111111111111, \"#46039f\"], [0.2222222222222222, \"#7201a8\"], [0.3333333333333333, \"#9c179e\"], [0.4444444444444444, \"#bd3786\"], [0.5555555555555556, \"#d8576b\"], [0.6666666666666666, \"#ed7953\"], [0.7777777777777778, \"#fb9f3a\"], [0.8888888888888888, \"#fdca26\"], [1.0, \"#f0f921\"]], \"sequentialminus\": [[0.0, \"#0d0887\"], [0.1111111111111111, \"#46039f\"], [0.2222222222222222, \"#7201a8\"], [0.3333333333333333, \"#9c179e\"], [0.4444444444444444, \"#bd3786\"], [0.5555555555555556, \"#d8576b\"], [0.6666666666666666, \"#ed7953\"], [0.7777777777777778, \"#fb9f3a\"], [0.8888888888888888, \"#fdca26\"], [1.0, \"#f0f921\"]]}, \"colorway\": [\"#636efa\", \"#EF553B\", \"#00cc96\", \"#ab63fa\", \"#FFA15A\", \"#19d3f3\", \"#FF6692\", \"#B6E880\", \"#FF97FF\", \"#FECB52\"], \"font\": {\"color\": \"#2a3f5f\"}, \"geo\": {\"bgcolor\": \"white\", \"lakecolor\": \"white\", \"landcolor\": \"#E5ECF6\", \"showlakes\": true, \"showland\": true, \"subunitcolor\": \"white\"}, \"hoverlabel\": {\"align\": \"left\"}, \"hovermode\": \"closest\", \"mapbox\": {\"style\": \"light\"}, \"paper_bgcolor\": \"white\", \"plot_bgcolor\": \"#E5ECF6\", \"polar\": {\"angularaxis\": {\"gridcolor\": \"white\", \"linecolor\": \"white\", \"ticks\": \"\"}, \"bgcolor\": \"#E5ECF6\", \"radialaxis\": {\"gridcolor\": \"white\", \"linecolor\": \"white\", \"ticks\": \"\"}}, \"scene\": {\"xaxis\": {\"backgroundcolor\": \"#E5ECF6\", \"gridcolor\": \"white\", \"gridwidth\": 2, \"linecolor\": \"white\", \"showbackground\": true, \"ticks\": \"\", \"zerolinecolor\": \"white\"}, \"yaxis\": {\"backgroundcolor\": \"#E5ECF6\", \"gridcolor\": \"white\", \"gridwidth\": 2, \"linecolor\": \"white\", \"showbackground\": true, \"ticks\": \"\", \"zerolinecolor\": \"white\"}, \"zaxis\": {\"backgroundcolor\": \"#E5ECF6\", \"gridcolor\": \"white\", \"gridwidth\": 2, \"linecolor\": \"white\", \"showbackground\": true, \"ticks\": \"\", \"zerolinecolor\": \"white\"}}, \"shapedefaults\": {\"line\": {\"color\": \"#2a3f5f\"}}, \"ternary\": {\"aaxis\": {\"gridcolor\": \"white\", \"linecolor\": \"white\", \"ticks\": \"\"}, \"baxis\": {\"gridcolor\": \"white\", \"linecolor\": \"white\", \"ticks\": \"\"}, \"bgcolor\": \"#E5ECF6\", \"caxis\": {\"gridcolor\": \"white\", \"linecolor\": \"white\", \"ticks\": \"\"}}, \"title\": {\"x\": 0.05}, \"xaxis\": {\"automargin\": true, \"gridcolor\": \"white\", \"linecolor\": \"white\", \"ticks\": \"\", \"title\": {\"standoff\": 15}, \"zerolinecolor\": \"white\", \"zerolinewidth\": 2}, \"yaxis\": {\"automargin\": true, \"gridcolor\": \"white\", \"linecolor\": \"white\", \"ticks\": \"\", \"title\": {\"standoff\": 15}, \"zerolinecolor\": \"white\", \"zerolinewidth\": 2}}}},\n",
       "                        {\"responsive\": true}\n",
       "                    ).then(function(){\n",
       "                            \n",
       "var gd = document.getElementById('5d25af0a-b81f-4a0f-902c-1975a98b4da7');\n",
       "var x = new MutationObserver(function (mutations, observer) {{\n",
       "        var display = window.getComputedStyle(gd).display;\n",
       "        if (!display || display === 'none') {{\n",
       "            console.log([gd, 'removed!']);\n",
       "            Plotly.purge(gd);\n",
       "            observer.disconnect();\n",
       "        }}\n",
       "}});\n",
       "\n",
       "// Listen for the removal of the full notebook cells\n",
       "var notebookContainer = gd.closest('#notebook-container');\n",
       "if (notebookContainer) {{\n",
       "    x.observe(notebookContainer, {childList: true});\n",
       "}}\n",
       "\n",
       "// Listen for the clearing of the current output cell\n",
       "var outputEl = gd.closest('.output');\n",
       "if (outputEl) {{\n",
       "    x.observe(outputEl, {childList: true});\n",
       "}}\n",
       "\n",
       "                        })\n",
       "                };\n",
       "                });\n",
       "            </script>\n",
       "        </div>"
      ]
     },
     "metadata": {},
     "output_type": "display_data"
    }
   ],
   "source": [
    "fig = px.scatter_3d(one_shop_one_item_df,  x='date_block_num', y='item_price', z='item_cnt_month', color='item_price')\n",
    "fig.show()"
   ]
  },
  {
   "cell_type": "code",
   "execution_count": 83,
   "metadata": {},
   "outputs": [
    {
     "data": {
      "application/vnd.plotly.v1+json": {
       "config": {
        "plotlyServerURL": "https://plot.ly"
       },
       "data": [
        {
         "hovertemplate": "date_block_num=%{x}<br>item_price=%{y}<extra></extra>",
         "legendgroup": "",
         "marker": {
          "color": "#636efa",
          "symbol": "circle"
         },
         "mode": "markers",
         "name": "",
         "showlegend": false,
         "type": "scatter",
         "x": [
          0,
          0,
          1,
          1,
          2,
          3,
          4,
          5,
          6,
          6,
          6,
          7,
          8,
          9,
          10,
          11,
          12,
          13,
          14,
          15,
          16,
          16,
          17,
          18,
          19,
          20,
          21,
          22,
          23,
          24
         ],
         "xaxis": "x",
         "y": [
          998.5,
          999,
          999,
          1049,
          1049,
          1049,
          1049,
          1049,
          949,
          1041.0833740234375,
          1049,
          1049,
          1049,
          1049,
          1049,
          1049,
          1049,
          1049,
          1049,
          1049,
          944,
          1049,
          1049,
          1049,
          1049,
          1049,
          1049,
          1049,
          1049,
          1049
         ],
         "yaxis": "y"
        }
       ],
       "layout": {
        "legend": {
         "tracegroupgap": 0
        },
        "margin": {
         "t": 60
        },
        "template": {
         "data": {
          "bar": [
           {
            "error_x": {
             "color": "#2a3f5f"
            },
            "error_y": {
             "color": "#2a3f5f"
            },
            "marker": {
             "line": {
              "color": "#E5ECF6",
              "width": 0.5
             }
            },
            "type": "bar"
           }
          ],
          "barpolar": [
           {
            "marker": {
             "line": {
              "color": "#E5ECF6",
              "width": 0.5
             }
            },
            "type": "barpolar"
           }
          ],
          "carpet": [
           {
            "aaxis": {
             "endlinecolor": "#2a3f5f",
             "gridcolor": "white",
             "linecolor": "white",
             "minorgridcolor": "white",
             "startlinecolor": "#2a3f5f"
            },
            "baxis": {
             "endlinecolor": "#2a3f5f",
             "gridcolor": "white",
             "linecolor": "white",
             "minorgridcolor": "white",
             "startlinecolor": "#2a3f5f"
            },
            "type": "carpet"
           }
          ],
          "choropleth": [
           {
            "colorbar": {
             "outlinewidth": 0,
             "ticks": ""
            },
            "type": "choropleth"
           }
          ],
          "contour": [
           {
            "colorbar": {
             "outlinewidth": 0,
             "ticks": ""
            },
            "colorscale": [
             [
              0,
              "#0d0887"
             ],
             [
              0.1111111111111111,
              "#46039f"
             ],
             [
              0.2222222222222222,
              "#7201a8"
             ],
             [
              0.3333333333333333,
              "#9c179e"
             ],
             [
              0.4444444444444444,
              "#bd3786"
             ],
             [
              0.5555555555555556,
              "#d8576b"
             ],
             [
              0.6666666666666666,
              "#ed7953"
             ],
             [
              0.7777777777777778,
              "#fb9f3a"
             ],
             [
              0.8888888888888888,
              "#fdca26"
             ],
             [
              1,
              "#f0f921"
             ]
            ],
            "type": "contour"
           }
          ],
          "contourcarpet": [
           {
            "colorbar": {
             "outlinewidth": 0,
             "ticks": ""
            },
            "type": "contourcarpet"
           }
          ],
          "heatmap": [
           {
            "colorbar": {
             "outlinewidth": 0,
             "ticks": ""
            },
            "colorscale": [
             [
              0,
              "#0d0887"
             ],
             [
              0.1111111111111111,
              "#46039f"
             ],
             [
              0.2222222222222222,
              "#7201a8"
             ],
             [
              0.3333333333333333,
              "#9c179e"
             ],
             [
              0.4444444444444444,
              "#bd3786"
             ],
             [
              0.5555555555555556,
              "#d8576b"
             ],
             [
              0.6666666666666666,
              "#ed7953"
             ],
             [
              0.7777777777777778,
              "#fb9f3a"
             ],
             [
              0.8888888888888888,
              "#fdca26"
             ],
             [
              1,
              "#f0f921"
             ]
            ],
            "type": "heatmap"
           }
          ],
          "heatmapgl": [
           {
            "colorbar": {
             "outlinewidth": 0,
             "ticks": ""
            },
            "colorscale": [
             [
              0,
              "#0d0887"
             ],
             [
              0.1111111111111111,
              "#46039f"
             ],
             [
              0.2222222222222222,
              "#7201a8"
             ],
             [
              0.3333333333333333,
              "#9c179e"
             ],
             [
              0.4444444444444444,
              "#bd3786"
             ],
             [
              0.5555555555555556,
              "#d8576b"
             ],
             [
              0.6666666666666666,
              "#ed7953"
             ],
             [
              0.7777777777777778,
              "#fb9f3a"
             ],
             [
              0.8888888888888888,
              "#fdca26"
             ],
             [
              1,
              "#f0f921"
             ]
            ],
            "type": "heatmapgl"
           }
          ],
          "histogram": [
           {
            "marker": {
             "colorbar": {
              "outlinewidth": 0,
              "ticks": ""
             }
            },
            "type": "histogram"
           }
          ],
          "histogram2d": [
           {
            "colorbar": {
             "outlinewidth": 0,
             "ticks": ""
            },
            "colorscale": [
             [
              0,
              "#0d0887"
             ],
             [
              0.1111111111111111,
              "#46039f"
             ],
             [
              0.2222222222222222,
              "#7201a8"
             ],
             [
              0.3333333333333333,
              "#9c179e"
             ],
             [
              0.4444444444444444,
              "#bd3786"
             ],
             [
              0.5555555555555556,
              "#d8576b"
             ],
             [
              0.6666666666666666,
              "#ed7953"
             ],
             [
              0.7777777777777778,
              "#fb9f3a"
             ],
             [
              0.8888888888888888,
              "#fdca26"
             ],
             [
              1,
              "#f0f921"
             ]
            ],
            "type": "histogram2d"
           }
          ],
          "histogram2dcontour": [
           {
            "colorbar": {
             "outlinewidth": 0,
             "ticks": ""
            },
            "colorscale": [
             [
              0,
              "#0d0887"
             ],
             [
              0.1111111111111111,
              "#46039f"
             ],
             [
              0.2222222222222222,
              "#7201a8"
             ],
             [
              0.3333333333333333,
              "#9c179e"
             ],
             [
              0.4444444444444444,
              "#bd3786"
             ],
             [
              0.5555555555555556,
              "#d8576b"
             ],
             [
              0.6666666666666666,
              "#ed7953"
             ],
             [
              0.7777777777777778,
              "#fb9f3a"
             ],
             [
              0.8888888888888888,
              "#fdca26"
             ],
             [
              1,
              "#f0f921"
             ]
            ],
            "type": "histogram2dcontour"
           }
          ],
          "mesh3d": [
           {
            "colorbar": {
             "outlinewidth": 0,
             "ticks": ""
            },
            "type": "mesh3d"
           }
          ],
          "parcoords": [
           {
            "line": {
             "colorbar": {
              "outlinewidth": 0,
              "ticks": ""
             }
            },
            "type": "parcoords"
           }
          ],
          "pie": [
           {
            "automargin": true,
            "type": "pie"
           }
          ],
          "scatter": [
           {
            "marker": {
             "colorbar": {
              "outlinewidth": 0,
              "ticks": ""
             }
            },
            "type": "scatter"
           }
          ],
          "scatter3d": [
           {
            "line": {
             "colorbar": {
              "outlinewidth": 0,
              "ticks": ""
             }
            },
            "marker": {
             "colorbar": {
              "outlinewidth": 0,
              "ticks": ""
             }
            },
            "type": "scatter3d"
           }
          ],
          "scattercarpet": [
           {
            "marker": {
             "colorbar": {
              "outlinewidth": 0,
              "ticks": ""
             }
            },
            "type": "scattercarpet"
           }
          ],
          "scattergeo": [
           {
            "marker": {
             "colorbar": {
              "outlinewidth": 0,
              "ticks": ""
             }
            },
            "type": "scattergeo"
           }
          ],
          "scattergl": [
           {
            "marker": {
             "colorbar": {
              "outlinewidth": 0,
              "ticks": ""
             }
            },
            "type": "scattergl"
           }
          ],
          "scattermapbox": [
           {
            "marker": {
             "colorbar": {
              "outlinewidth": 0,
              "ticks": ""
             }
            },
            "type": "scattermapbox"
           }
          ],
          "scatterpolar": [
           {
            "marker": {
             "colorbar": {
              "outlinewidth": 0,
              "ticks": ""
             }
            },
            "type": "scatterpolar"
           }
          ],
          "scatterpolargl": [
           {
            "marker": {
             "colorbar": {
              "outlinewidth": 0,
              "ticks": ""
             }
            },
            "type": "scatterpolargl"
           }
          ],
          "scatterternary": [
           {
            "marker": {
             "colorbar": {
              "outlinewidth": 0,
              "ticks": ""
             }
            },
            "type": "scatterternary"
           }
          ],
          "surface": [
           {
            "colorbar": {
             "outlinewidth": 0,
             "ticks": ""
            },
            "colorscale": [
             [
              0,
              "#0d0887"
             ],
             [
              0.1111111111111111,
              "#46039f"
             ],
             [
              0.2222222222222222,
              "#7201a8"
             ],
             [
              0.3333333333333333,
              "#9c179e"
             ],
             [
              0.4444444444444444,
              "#bd3786"
             ],
             [
              0.5555555555555556,
              "#d8576b"
             ],
             [
              0.6666666666666666,
              "#ed7953"
             ],
             [
              0.7777777777777778,
              "#fb9f3a"
             ],
             [
              0.8888888888888888,
              "#fdca26"
             ],
             [
              1,
              "#f0f921"
             ]
            ],
            "type": "surface"
           }
          ],
          "table": [
           {
            "cells": {
             "fill": {
              "color": "#EBF0F8"
             },
             "line": {
              "color": "white"
             }
            },
            "header": {
             "fill": {
              "color": "#C8D4E3"
             },
             "line": {
              "color": "white"
             }
            },
            "type": "table"
           }
          ]
         },
         "layout": {
          "annotationdefaults": {
           "arrowcolor": "#2a3f5f",
           "arrowhead": 0,
           "arrowwidth": 1
          },
          "coloraxis": {
           "colorbar": {
            "outlinewidth": 0,
            "ticks": ""
           }
          },
          "colorscale": {
           "diverging": [
            [
             0,
             "#8e0152"
            ],
            [
             0.1,
             "#c51b7d"
            ],
            [
             0.2,
             "#de77ae"
            ],
            [
             0.3,
             "#f1b6da"
            ],
            [
             0.4,
             "#fde0ef"
            ],
            [
             0.5,
             "#f7f7f7"
            ],
            [
             0.6,
             "#e6f5d0"
            ],
            [
             0.7,
             "#b8e186"
            ],
            [
             0.8,
             "#7fbc41"
            ],
            [
             0.9,
             "#4d9221"
            ],
            [
             1,
             "#276419"
            ]
           ],
           "sequential": [
            [
             0,
             "#0d0887"
            ],
            [
             0.1111111111111111,
             "#46039f"
            ],
            [
             0.2222222222222222,
             "#7201a8"
            ],
            [
             0.3333333333333333,
             "#9c179e"
            ],
            [
             0.4444444444444444,
             "#bd3786"
            ],
            [
             0.5555555555555556,
             "#d8576b"
            ],
            [
             0.6666666666666666,
             "#ed7953"
            ],
            [
             0.7777777777777778,
             "#fb9f3a"
            ],
            [
             0.8888888888888888,
             "#fdca26"
            ],
            [
             1,
             "#f0f921"
            ]
           ],
           "sequentialminus": [
            [
             0,
             "#0d0887"
            ],
            [
             0.1111111111111111,
             "#46039f"
            ],
            [
             0.2222222222222222,
             "#7201a8"
            ],
            [
             0.3333333333333333,
             "#9c179e"
            ],
            [
             0.4444444444444444,
             "#bd3786"
            ],
            [
             0.5555555555555556,
             "#d8576b"
            ],
            [
             0.6666666666666666,
             "#ed7953"
            ],
            [
             0.7777777777777778,
             "#fb9f3a"
            ],
            [
             0.8888888888888888,
             "#fdca26"
            ],
            [
             1,
             "#f0f921"
            ]
           ]
          },
          "colorway": [
           "#636efa",
           "#EF553B",
           "#00cc96",
           "#ab63fa",
           "#FFA15A",
           "#19d3f3",
           "#FF6692",
           "#B6E880",
           "#FF97FF",
           "#FECB52"
          ],
          "font": {
           "color": "#2a3f5f"
          },
          "geo": {
           "bgcolor": "white",
           "lakecolor": "white",
           "landcolor": "#E5ECF6",
           "showlakes": true,
           "showland": true,
           "subunitcolor": "white"
          },
          "hoverlabel": {
           "align": "left"
          },
          "hovermode": "closest",
          "mapbox": {
           "style": "light"
          },
          "paper_bgcolor": "white",
          "plot_bgcolor": "#E5ECF6",
          "polar": {
           "angularaxis": {
            "gridcolor": "white",
            "linecolor": "white",
            "ticks": ""
           },
           "bgcolor": "#E5ECF6",
           "radialaxis": {
            "gridcolor": "white",
            "linecolor": "white",
            "ticks": ""
           }
          },
          "scene": {
           "xaxis": {
            "backgroundcolor": "#E5ECF6",
            "gridcolor": "white",
            "gridwidth": 2,
            "linecolor": "white",
            "showbackground": true,
            "ticks": "",
            "zerolinecolor": "white"
           },
           "yaxis": {
            "backgroundcolor": "#E5ECF6",
            "gridcolor": "white",
            "gridwidth": 2,
            "linecolor": "white",
            "showbackground": true,
            "ticks": "",
            "zerolinecolor": "white"
           },
           "zaxis": {
            "backgroundcolor": "#E5ECF6",
            "gridcolor": "white",
            "gridwidth": 2,
            "linecolor": "white",
            "showbackground": true,
            "ticks": "",
            "zerolinecolor": "white"
           }
          },
          "shapedefaults": {
           "line": {
            "color": "#2a3f5f"
           }
          },
          "ternary": {
           "aaxis": {
            "gridcolor": "white",
            "linecolor": "white",
            "ticks": ""
           },
           "baxis": {
            "gridcolor": "white",
            "linecolor": "white",
            "ticks": ""
           },
           "bgcolor": "#E5ECF6",
           "caxis": {
            "gridcolor": "white",
            "linecolor": "white",
            "ticks": ""
           }
          },
          "title": {
           "x": 0.05
          },
          "xaxis": {
           "automargin": true,
           "gridcolor": "white",
           "linecolor": "white",
           "ticks": "",
           "title": {
            "standoff": 15
           },
           "zerolinecolor": "white",
           "zerolinewidth": 2
          },
          "yaxis": {
           "automargin": true,
           "gridcolor": "white",
           "linecolor": "white",
           "ticks": "",
           "title": {
            "standoff": 15
           },
           "zerolinecolor": "white",
           "zerolinewidth": 2
          }
         }
        },
        "xaxis": {
         "anchor": "y",
         "domain": [
          0,
          1
         ],
         "title": {
          "text": "date_block_num"
         }
        },
        "yaxis": {
         "anchor": "x",
         "domain": [
          0,
          1
         ],
         "title": {
          "text": "item_price"
         }
        }
       }
      },
      "text/html": [
       "<div>\n",
       "        \n",
       "        \n",
       "            <div id=\"4bce93df-eb56-4b0c-81ec-f4f944165e48\" class=\"plotly-graph-div\" style=\"height:525px; width:100%;\"></div>\n",
       "            <script type=\"text/javascript\">\n",
       "                require([\"plotly\"], function(Plotly) {\n",
       "                    window.PLOTLYENV=window.PLOTLYENV || {};\n",
       "                    \n",
       "                if (document.getElementById(\"4bce93df-eb56-4b0c-81ec-f4f944165e48\")) {\n",
       "                    Plotly.newPlot(\n",
       "                        '4bce93df-eb56-4b0c-81ec-f4f944165e48',\n",
       "                        [{\"hovertemplate\": \"date_block_num=%{x}<br>item_price=%{y}<extra></extra>\", \"legendgroup\": \"\", \"marker\": {\"color\": \"#636efa\", \"symbol\": \"circle\"}, \"mode\": \"markers\", \"name\": \"\", \"showlegend\": false, \"type\": \"scatter\", \"x\": [0, 0, 1, 1, 2, 3, 4, 5, 6, 6, 6, 7, 8, 9, 10, 11, 12, 13, 14, 15, 16, 16, 17, 18, 19, 20, 21, 22, 23, 24], \"xaxis\": \"x\", \"y\": [998.5, 999.0, 999.0, 1049.0, 1049.0, 1049.0, 1049.0, 1049.0, 949.0, 1041.0833740234375, 1049.0, 1049.0, 1049.0, 1049.0, 1049.0, 1049.0, 1049.0, 1049.0, 1049.0, 1049.0, 944.0, 1049.0, 1049.0, 1049.0, 1049.0, 1049.0, 1049.0, 1049.0, 1049.0, 1049.0], \"yaxis\": \"y\"}],\n",
       "                        {\"legend\": {\"tracegroupgap\": 0}, \"margin\": {\"t\": 60}, \"template\": {\"data\": {\"bar\": [{\"error_x\": {\"color\": \"#2a3f5f\"}, \"error_y\": {\"color\": \"#2a3f5f\"}, \"marker\": {\"line\": {\"color\": \"#E5ECF6\", \"width\": 0.5}}, \"type\": \"bar\"}], \"barpolar\": [{\"marker\": {\"line\": {\"color\": \"#E5ECF6\", \"width\": 0.5}}, \"type\": \"barpolar\"}], \"carpet\": [{\"aaxis\": {\"endlinecolor\": \"#2a3f5f\", \"gridcolor\": \"white\", \"linecolor\": \"white\", \"minorgridcolor\": \"white\", \"startlinecolor\": \"#2a3f5f\"}, \"baxis\": {\"endlinecolor\": \"#2a3f5f\", \"gridcolor\": \"white\", \"linecolor\": \"white\", \"minorgridcolor\": \"white\", \"startlinecolor\": \"#2a3f5f\"}, \"type\": \"carpet\"}], \"choropleth\": [{\"colorbar\": {\"outlinewidth\": 0, \"ticks\": \"\"}, \"type\": \"choropleth\"}], \"contour\": [{\"colorbar\": {\"outlinewidth\": 0, \"ticks\": \"\"}, \"colorscale\": [[0.0, \"#0d0887\"], [0.1111111111111111, \"#46039f\"], [0.2222222222222222, \"#7201a8\"], [0.3333333333333333, \"#9c179e\"], [0.4444444444444444, \"#bd3786\"], [0.5555555555555556, \"#d8576b\"], [0.6666666666666666, \"#ed7953\"], [0.7777777777777778, \"#fb9f3a\"], [0.8888888888888888, \"#fdca26\"], [1.0, \"#f0f921\"]], \"type\": \"contour\"}], \"contourcarpet\": [{\"colorbar\": {\"outlinewidth\": 0, \"ticks\": \"\"}, \"type\": \"contourcarpet\"}], \"heatmap\": [{\"colorbar\": {\"outlinewidth\": 0, \"ticks\": \"\"}, \"colorscale\": [[0.0, \"#0d0887\"], [0.1111111111111111, \"#46039f\"], [0.2222222222222222, \"#7201a8\"], [0.3333333333333333, \"#9c179e\"], [0.4444444444444444, \"#bd3786\"], [0.5555555555555556, \"#d8576b\"], [0.6666666666666666, \"#ed7953\"], [0.7777777777777778, \"#fb9f3a\"], [0.8888888888888888, \"#fdca26\"], [1.0, \"#f0f921\"]], \"type\": \"heatmap\"}], \"heatmapgl\": [{\"colorbar\": {\"outlinewidth\": 0, \"ticks\": \"\"}, \"colorscale\": [[0.0, \"#0d0887\"], [0.1111111111111111, \"#46039f\"], [0.2222222222222222, \"#7201a8\"], [0.3333333333333333, \"#9c179e\"], [0.4444444444444444, \"#bd3786\"], [0.5555555555555556, \"#d8576b\"], [0.6666666666666666, \"#ed7953\"], [0.7777777777777778, \"#fb9f3a\"], [0.8888888888888888, \"#fdca26\"], [1.0, \"#f0f921\"]], \"type\": \"heatmapgl\"}], \"histogram\": [{\"marker\": {\"colorbar\": {\"outlinewidth\": 0, \"ticks\": \"\"}}, \"type\": \"histogram\"}], \"histogram2d\": [{\"colorbar\": {\"outlinewidth\": 0, \"ticks\": \"\"}, \"colorscale\": [[0.0, \"#0d0887\"], [0.1111111111111111, \"#46039f\"], [0.2222222222222222, \"#7201a8\"], [0.3333333333333333, \"#9c179e\"], [0.4444444444444444, \"#bd3786\"], [0.5555555555555556, \"#d8576b\"], [0.6666666666666666, \"#ed7953\"], [0.7777777777777778, \"#fb9f3a\"], [0.8888888888888888, \"#fdca26\"], [1.0, \"#f0f921\"]], \"type\": \"histogram2d\"}], \"histogram2dcontour\": [{\"colorbar\": {\"outlinewidth\": 0, \"ticks\": \"\"}, \"colorscale\": [[0.0, \"#0d0887\"], [0.1111111111111111, \"#46039f\"], [0.2222222222222222, \"#7201a8\"], [0.3333333333333333, \"#9c179e\"], [0.4444444444444444, \"#bd3786\"], [0.5555555555555556, \"#d8576b\"], [0.6666666666666666, \"#ed7953\"], [0.7777777777777778, \"#fb9f3a\"], [0.8888888888888888, \"#fdca26\"], [1.0, \"#f0f921\"]], \"type\": \"histogram2dcontour\"}], \"mesh3d\": [{\"colorbar\": {\"outlinewidth\": 0, \"ticks\": \"\"}, \"type\": \"mesh3d\"}], \"parcoords\": [{\"line\": {\"colorbar\": {\"outlinewidth\": 0, \"ticks\": \"\"}}, \"type\": \"parcoords\"}], \"pie\": [{\"automargin\": true, \"type\": \"pie\"}], \"scatter\": [{\"marker\": {\"colorbar\": {\"outlinewidth\": 0, \"ticks\": \"\"}}, \"type\": \"scatter\"}], \"scatter3d\": [{\"line\": {\"colorbar\": {\"outlinewidth\": 0, \"ticks\": \"\"}}, \"marker\": {\"colorbar\": {\"outlinewidth\": 0, \"ticks\": \"\"}}, \"type\": \"scatter3d\"}], \"scattercarpet\": [{\"marker\": {\"colorbar\": {\"outlinewidth\": 0, \"ticks\": \"\"}}, \"type\": \"scattercarpet\"}], \"scattergeo\": [{\"marker\": {\"colorbar\": {\"outlinewidth\": 0, \"ticks\": \"\"}}, \"type\": \"scattergeo\"}], \"scattergl\": [{\"marker\": {\"colorbar\": {\"outlinewidth\": 0, \"ticks\": \"\"}}, \"type\": \"scattergl\"}], \"scattermapbox\": [{\"marker\": {\"colorbar\": {\"outlinewidth\": 0, \"ticks\": \"\"}}, \"type\": \"scattermapbox\"}], \"scatterpolar\": [{\"marker\": {\"colorbar\": {\"outlinewidth\": 0, \"ticks\": \"\"}}, \"type\": \"scatterpolar\"}], \"scatterpolargl\": [{\"marker\": {\"colorbar\": {\"outlinewidth\": 0, \"ticks\": \"\"}}, \"type\": \"scatterpolargl\"}], \"scatterternary\": [{\"marker\": {\"colorbar\": {\"outlinewidth\": 0, \"ticks\": \"\"}}, \"type\": \"scatterternary\"}], \"surface\": [{\"colorbar\": {\"outlinewidth\": 0, \"ticks\": \"\"}, \"colorscale\": [[0.0, \"#0d0887\"], [0.1111111111111111, \"#46039f\"], [0.2222222222222222, \"#7201a8\"], [0.3333333333333333, \"#9c179e\"], [0.4444444444444444, \"#bd3786\"], [0.5555555555555556, \"#d8576b\"], [0.6666666666666666, \"#ed7953\"], [0.7777777777777778, \"#fb9f3a\"], [0.8888888888888888, \"#fdca26\"], [1.0, \"#f0f921\"]], \"type\": \"surface\"}], \"table\": [{\"cells\": {\"fill\": {\"color\": \"#EBF0F8\"}, \"line\": {\"color\": \"white\"}}, \"header\": {\"fill\": {\"color\": \"#C8D4E3\"}, \"line\": {\"color\": \"white\"}}, \"type\": \"table\"}]}, \"layout\": {\"annotationdefaults\": {\"arrowcolor\": \"#2a3f5f\", \"arrowhead\": 0, \"arrowwidth\": 1}, \"coloraxis\": {\"colorbar\": {\"outlinewidth\": 0, \"ticks\": \"\"}}, \"colorscale\": {\"diverging\": [[0, \"#8e0152\"], [0.1, \"#c51b7d\"], [0.2, \"#de77ae\"], [0.3, \"#f1b6da\"], [0.4, \"#fde0ef\"], [0.5, \"#f7f7f7\"], [0.6, \"#e6f5d0\"], [0.7, \"#b8e186\"], [0.8, \"#7fbc41\"], [0.9, \"#4d9221\"], [1, \"#276419\"]], \"sequential\": [[0.0, \"#0d0887\"], [0.1111111111111111, \"#46039f\"], [0.2222222222222222, \"#7201a8\"], [0.3333333333333333, \"#9c179e\"], [0.4444444444444444, \"#bd3786\"], [0.5555555555555556, \"#d8576b\"], [0.6666666666666666, \"#ed7953\"], [0.7777777777777778, \"#fb9f3a\"], [0.8888888888888888, \"#fdca26\"], [1.0, \"#f0f921\"]], \"sequentialminus\": [[0.0, \"#0d0887\"], [0.1111111111111111, \"#46039f\"], [0.2222222222222222, \"#7201a8\"], [0.3333333333333333, \"#9c179e\"], [0.4444444444444444, \"#bd3786\"], [0.5555555555555556, \"#d8576b\"], [0.6666666666666666, \"#ed7953\"], [0.7777777777777778, \"#fb9f3a\"], [0.8888888888888888, \"#fdca26\"], [1.0, \"#f0f921\"]]}, \"colorway\": [\"#636efa\", \"#EF553B\", \"#00cc96\", \"#ab63fa\", \"#FFA15A\", \"#19d3f3\", \"#FF6692\", \"#B6E880\", \"#FF97FF\", \"#FECB52\"], \"font\": {\"color\": \"#2a3f5f\"}, \"geo\": {\"bgcolor\": \"white\", \"lakecolor\": \"white\", \"landcolor\": \"#E5ECF6\", \"showlakes\": true, \"showland\": true, \"subunitcolor\": \"white\"}, \"hoverlabel\": {\"align\": \"left\"}, \"hovermode\": \"closest\", \"mapbox\": {\"style\": \"light\"}, \"paper_bgcolor\": \"white\", \"plot_bgcolor\": \"#E5ECF6\", \"polar\": {\"angularaxis\": {\"gridcolor\": \"white\", \"linecolor\": \"white\", \"ticks\": \"\"}, \"bgcolor\": \"#E5ECF6\", \"radialaxis\": {\"gridcolor\": \"white\", \"linecolor\": \"white\", \"ticks\": \"\"}}, \"scene\": {\"xaxis\": {\"backgroundcolor\": \"#E5ECF6\", \"gridcolor\": \"white\", \"gridwidth\": 2, \"linecolor\": \"white\", \"showbackground\": true, \"ticks\": \"\", \"zerolinecolor\": \"white\"}, \"yaxis\": {\"backgroundcolor\": \"#E5ECF6\", \"gridcolor\": \"white\", \"gridwidth\": 2, \"linecolor\": \"white\", \"showbackground\": true, \"ticks\": \"\", \"zerolinecolor\": \"white\"}, \"zaxis\": {\"backgroundcolor\": \"#E5ECF6\", \"gridcolor\": \"white\", \"gridwidth\": 2, \"linecolor\": \"white\", \"showbackground\": true, \"ticks\": \"\", \"zerolinecolor\": \"white\"}}, \"shapedefaults\": {\"line\": {\"color\": \"#2a3f5f\"}}, \"ternary\": {\"aaxis\": {\"gridcolor\": \"white\", \"linecolor\": \"white\", \"ticks\": \"\"}, \"baxis\": {\"gridcolor\": \"white\", \"linecolor\": \"white\", \"ticks\": \"\"}, \"bgcolor\": \"#E5ECF6\", \"caxis\": {\"gridcolor\": \"white\", \"linecolor\": \"white\", \"ticks\": \"\"}}, \"title\": {\"x\": 0.05}, \"xaxis\": {\"automargin\": true, \"gridcolor\": \"white\", \"linecolor\": \"white\", \"ticks\": \"\", \"title\": {\"standoff\": 15}, \"zerolinecolor\": \"white\", \"zerolinewidth\": 2}, \"yaxis\": {\"automargin\": true, \"gridcolor\": \"white\", \"linecolor\": \"white\", \"ticks\": \"\", \"title\": {\"standoff\": 15}, \"zerolinecolor\": \"white\", \"zerolinewidth\": 2}}}, \"xaxis\": {\"anchor\": \"y\", \"domain\": [0.0, 1.0], \"title\": {\"text\": \"date_block_num\"}}, \"yaxis\": {\"anchor\": \"x\", \"domain\": [0.0, 1.0], \"title\": {\"text\": \"item_price\"}}},\n",
       "                        {\"responsive\": true}\n",
       "                    ).then(function(){\n",
       "                            \n",
       "var gd = document.getElementById('4bce93df-eb56-4b0c-81ec-f4f944165e48');\n",
       "var x = new MutationObserver(function (mutations, observer) {{\n",
       "        var display = window.getComputedStyle(gd).display;\n",
       "        if (!display || display === 'none') {{\n",
       "            console.log([gd, 'removed!']);\n",
       "            Plotly.purge(gd);\n",
       "            observer.disconnect();\n",
       "        }}\n",
       "}});\n",
       "\n",
       "// Listen for the removal of the full notebook cells\n",
       "var notebookContainer = gd.closest('#notebook-container');\n",
       "if (notebookContainer) {{\n",
       "    x.observe(notebookContainer, {childList: true});\n",
       "}}\n",
       "\n",
       "// Listen for the clearing of the current output cell\n",
       "var outputEl = gd.closest('.output');\n",
       "if (outputEl) {{\n",
       "    x.observe(outputEl, {childList: true});\n",
       "}}\n",
       "\n",
       "                        })\n",
       "                };\n",
       "                });\n",
       "            </script>\n",
       "        </div>"
      ]
     },
     "metadata": {},
     "output_type": "display_data"
    }
   ],
   "source": [
    "fig1 = px.scatter(one_shop_one_item_df, x='date_block_num', y='item_price')\n",
    "fig1.show()"
   ]
  },
  {
   "cell_type": "code",
   "execution_count": null,
   "metadata": {},
   "outputs": [],
   "source": []
  },
  {
   "cell_type": "code",
   "execution_count": null,
   "metadata": {},
   "outputs": [],
   "source": []
  }
 ],
 "metadata": {
  "kernelspec": {
   "display_name": "Python 3",
   "language": "python",
   "name": "python3"
  },
  "language_info": {
   "codemirror_mode": {
    "name": "ipython",
    "version": 3
   },
   "file_extension": ".py",
   "mimetype": "text/x-python",
   "name": "python",
   "nbconvert_exporter": "python",
   "pygments_lexer": "ipython3",
   "version": "3.7.6"
  }
 },
 "nbformat": 4,
 "nbformat_minor": 4
}
