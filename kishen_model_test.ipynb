{
  "nbformat": 4,
  "nbformat_minor": 0,
  "metadata": {
    "colab": {
      "name": "kishen-model_test.ipynb",
      "provenance": [],
      "collapsed_sections": [],
      "mount_file_id": "1ggzhNCyrHgK5EoUdR0IeaKdrbj-6ri3L",
      "authorship_tag": "ABX9TyONnJ2rJsWxsppNg/G+ixGr",
      "include_colab_link": true
    },
    "kernelspec": {
      "name": "python3",
      "display_name": "Python 3"
    }
  },
  "cells": [
    {
      "cell_type": "markdown",
      "metadata": {
        "id": "view-in-github",
        "colab_type": "text"
      },
      "source": [
        "<a href=\"https://colab.research.google.com/github/RCSnyder/Sales_Forecasting/blob/kishen-model/kishen_model_test.ipynb\" target=\"_parent\"><img src=\"https://colab.research.google.com/assets/colab-badge.svg\" alt=\"Open In Colab\"/></a>"
      ]
    },
    {
      "cell_type": "code",
      "metadata": {
        "id": "yCinKco1Cx42",
        "colab_type": "code",
        "colab": {}
      },
      "source": [
        "#impoting libraries\n",
        "import numpy as np\n",
        "import matplotlib.pyplot as plt\n",
        "import pandas as pd\n",
        "from sklearn.model_selection import cross_val_score as cvs"
      ],
      "execution_count": null,
      "outputs": []
    },
    {
      "cell_type": "code",
      "metadata": {
        "id": "ku1x7DLnDUKe",
        "colab_type": "code",
        "colab": {}
      },
      "source": [
        "#import dataset\n",
        "train       = pd.read_csv('/content/drive/My Drive/CSCE 5214 Group #1 /sales_train.csv')\n",
        "#test        = pd.read_csv('test.csv')\n",
        "#submission  = pd.read_csv('sample_submission.csv')\n",
        "items       = pd.read_csv('/content/drive/My Drive/CSCE 5214 Group #1 /items.csv')\n",
        "#item_cats   = pd.read_csv('item_categories.csv')\n",
        "#shops       = pd.read_csv('shops.csv')"
      ],
      "execution_count": null,
      "outputs": []
    },
    {
      "cell_type": "code",
      "metadata": {
        "id": "QbR2JHYEFMbm",
        "colab_type": "code",
        "colab": {}
      },
      "source": [
        "#Down casts the data entries from int64 to int32 and float64 to float32\n",
        "#This reduces the size of the records by almost half. (From 134mb to 61mb)\n",
        "def downcast_dtypes(df):\n",
        "    float_cols = [c for c in df if df[c].dtype == \"float64\"]\n",
        "    int_cols = [c for c in df if df[c].dtype in [\"int64\", \"int32\"]]\n",
        "    df[float_cols] = df[float_cols].astype(np.float32)\n",
        "    df[int_cols] = df[int_cols].astype(np.int16)\n",
        "    return df\n",
        "\n",
        "#%%\n",
        "#Calls the downcasting function\n",
        "train = downcast_dtypes(train)\n",
        "items = downcast_dtypes(items)"
      ],
      "execution_count": null,
      "outputs": []
    },
    {
      "cell_type": "code",
      "metadata": {
        "id": "eqS_3QUiFQD8",
        "colab_type": "code",
        "colab": {}
      },
      "source": [
        "# grouping for training model\n",
        "\n",
        "# added the item_category into sales_train\n",
        "merged2 = pd.merge(train, items[['item_id', 'item_category_id']], on = 'item_id')\n",
        "\n",
        "# group data by month and shop_id, return sum of items sold per shop per month\n",
        "# grouped by price as specials could result in higher sales\n",
        "month_group2 = pd.DataFrame(merged2.groupby(['date_block_num', 'shop_id', 'item_category_id', 'item_id', 'item_price'])['item_cnt_day'].sum().reset_index())\n"
      ],
      "execution_count": null,
      "outputs": []
    },
    {
      "cell_type": "code",
      "metadata": {
        "id": "t9Jx0jDhD6cN",
        "colab_type": "code",
        "colab": {}
      },
      "source": [
        "month_group2['mon_lag_1'] = 0\n",
        "month_group2['mon_lag_2'] = 0\n",
        "month_group2['mon_lag_3'] = 0\n",
        "month_group2['mon_lag_4'] = 0\n",
        "month_group2['mon_lag_5'] = 0"
      ],
      "execution_count": null,
      "outputs": []
    },
    {
      "cell_type": "code",
      "metadata": {
        "id": "GvDtn-085urH",
        "colab_type": "code",
        "colab": {
          "base_uri": "https://localhost:8080/",
          "height": 424
        },
        "outputId": "b11b0398-8bd1-427d-c7c9-7bedc2bbbbee"
      },
      "source": [
        "month_group2"
      ],
      "execution_count": null,
      "outputs": [
        {
          "output_type": "execute_result",
          "data": {
            "text/html": [
              "<div>\n",
              "<style scoped>\n",
              "    .dataframe tbody tr th:only-of-type {\n",
              "        vertical-align: middle;\n",
              "    }\n",
              "\n",
              "    .dataframe tbody tr th {\n",
              "        vertical-align: top;\n",
              "    }\n",
              "\n",
              "    .dataframe thead th {\n",
              "        text-align: right;\n",
              "    }\n",
              "</style>\n",
              "<table border=\"1\" class=\"dataframe\">\n",
              "  <thead>\n",
              "    <tr style=\"text-align: right;\">\n",
              "      <th></th>\n",
              "      <th>date_block_num</th>\n",
              "      <th>shop_id</th>\n",
              "      <th>item_category_id</th>\n",
              "      <th>item_id</th>\n",
              "      <th>item_price</th>\n",
              "      <th>item_cnt_day</th>\n",
              "      <th>mon_lag_1</th>\n",
              "      <th>mon_lag_2</th>\n",
              "      <th>mon_lag_3</th>\n",
              "      <th>mon_lag_4</th>\n",
              "      <th>mon_lag_5</th>\n",
              "    </tr>\n",
              "  </thead>\n",
              "  <tbody>\n",
              "    <tr>\n",
              "      <th>0</th>\n",
              "      <td>0</td>\n",
              "      <td>0</td>\n",
              "      <td>2</td>\n",
              "      <td>5572</td>\n",
              "      <td>1322.0</td>\n",
              "      <td>10.0</td>\n",
              "      <td>0</td>\n",
              "      <td>0</td>\n",
              "      <td>0</td>\n",
              "      <td>0</td>\n",
              "      <td>0</td>\n",
              "    </tr>\n",
              "    <tr>\n",
              "      <th>1</th>\n",
              "      <td>0</td>\n",
              "      <td>0</td>\n",
              "      <td>2</td>\n",
              "      <td>5573</td>\n",
              "      <td>560.0</td>\n",
              "      <td>1.0</td>\n",
              "      <td>0</td>\n",
              "      <td>0</td>\n",
              "      <td>0</td>\n",
              "      <td>0</td>\n",
              "      <td>0</td>\n",
              "    </tr>\n",
              "    <tr>\n",
              "      <th>2</th>\n",
              "      <td>0</td>\n",
              "      <td>0</td>\n",
              "      <td>2</td>\n",
              "      <td>5575</td>\n",
              "      <td>806.0</td>\n",
              "      <td>4.0</td>\n",
              "      <td>0</td>\n",
              "      <td>0</td>\n",
              "      <td>0</td>\n",
              "      <td>0</td>\n",
              "      <td>0</td>\n",
              "    </tr>\n",
              "    <tr>\n",
              "      <th>3</th>\n",
              "      <td>0</td>\n",
              "      <td>0</td>\n",
              "      <td>2</td>\n",
              "      <td>5576</td>\n",
              "      <td>2231.0</td>\n",
              "      <td>5.0</td>\n",
              "      <td>0</td>\n",
              "      <td>0</td>\n",
              "      <td>0</td>\n",
              "      <td>0</td>\n",
              "      <td>0</td>\n",
              "    </tr>\n",
              "    <tr>\n",
              "      <th>4</th>\n",
              "      <td>0</td>\n",
              "      <td>0</td>\n",
              "      <td>2</td>\n",
              "      <td>5609</td>\n",
              "      <td>2381.0</td>\n",
              "      <td>1.0</td>\n",
              "      <td>0</td>\n",
              "      <td>0</td>\n",
              "      <td>0</td>\n",
              "      <td>0</td>\n",
              "      <td>0</td>\n",
              "    </tr>\n",
              "    <tr>\n",
              "      <th>...</th>\n",
              "      <td>...</td>\n",
              "      <td>...</td>\n",
              "      <td>...</td>\n",
              "      <td>...</td>\n",
              "      <td>...</td>\n",
              "      <td>...</td>\n",
              "      <td>...</td>\n",
              "      <td>...</td>\n",
              "      <td>...</td>\n",
              "      <td>...</td>\n",
              "      <td>...</td>\n",
              "    </tr>\n",
              "    <tr>\n",
              "      <th>1739017</th>\n",
              "      <td>33</td>\n",
              "      <td>59</td>\n",
              "      <td>79</td>\n",
              "      <td>17717</td>\n",
              "      <td>1250.0</td>\n",
              "      <td>4.0</td>\n",
              "      <td>0</td>\n",
              "      <td>0</td>\n",
              "      <td>0</td>\n",
              "      <td>0</td>\n",
              "      <td>0</td>\n",
              "    </tr>\n",
              "    <tr>\n",
              "      <th>1739018</th>\n",
              "      <td>33</td>\n",
              "      <td>59</td>\n",
              "      <td>79</td>\n",
              "      <td>17717</td>\n",
              "      <td>1999.0</td>\n",
              "      <td>1.0</td>\n",
              "      <td>0</td>\n",
              "      <td>0</td>\n",
              "      <td>0</td>\n",
              "      <td>0</td>\n",
              "      <td>0</td>\n",
              "    </tr>\n",
              "    <tr>\n",
              "      <th>1739019</th>\n",
              "      <td>33</td>\n",
              "      <td>59</td>\n",
              "      <td>83</td>\n",
              "      <td>22087</td>\n",
              "      <td>119.0</td>\n",
              "      <td>6.0</td>\n",
              "      <td>0</td>\n",
              "      <td>0</td>\n",
              "      <td>0</td>\n",
              "      <td>0</td>\n",
              "      <td>0</td>\n",
              "    </tr>\n",
              "    <tr>\n",
              "      <th>1739020</th>\n",
              "      <td>33</td>\n",
              "      <td>59</td>\n",
              "      <td>83</td>\n",
              "      <td>22088</td>\n",
              "      <td>119.0</td>\n",
              "      <td>2.0</td>\n",
              "      <td>0</td>\n",
              "      <td>0</td>\n",
              "      <td>0</td>\n",
              "      <td>0</td>\n",
              "      <td>0</td>\n",
              "    </tr>\n",
              "    <tr>\n",
              "      <th>1739021</th>\n",
              "      <td>33</td>\n",
              "      <td>59</td>\n",
              "      <td>83</td>\n",
              "      <td>22091</td>\n",
              "      <td>179.0</td>\n",
              "      <td>1.0</td>\n",
              "      <td>0</td>\n",
              "      <td>0</td>\n",
              "      <td>0</td>\n",
              "      <td>0</td>\n",
              "      <td>0</td>\n",
              "    </tr>\n",
              "  </tbody>\n",
              "</table>\n",
              "<p>1739022 rows × 11 columns</p>\n",
              "</div>"
            ],
            "text/plain": [
              "         date_block_num  shop_id  ...  mon_lag_4  mon_lag_5\n",
              "0                     0        0  ...          0          0\n",
              "1                     0        0  ...          0          0\n",
              "2                     0        0  ...          0          0\n",
              "3                     0        0  ...          0          0\n",
              "4                     0        0  ...          0          0\n",
              "...                 ...      ...  ...        ...        ...\n",
              "1739017              33       59  ...          0          0\n",
              "1739018              33       59  ...          0          0\n",
              "1739019              33       59  ...          0          0\n",
              "1739020              33       59  ...          0          0\n",
              "1739021              33       59  ...          0          0\n",
              "\n",
              "[1739022 rows x 11 columns]"
            ]
          },
          "metadata": {
            "tags": []
          },
          "execution_count": 6
        }
      ]
    },
    {
      "cell_type": "code",
      "metadata": {
        "id": "gqu2v0Jh6kVJ",
        "colab_type": "code",
        "colab": {}
      },
      "source": [
        "# create leg data showing previous 5 months sale of that product at that store\n",
        "import time\n",
        "\n",
        "#df1 = month_group2.set_index(['date_block_num', 'shop_id', 'item_id'])\n",
        "start = time.time()\n",
        "#for i in range(67100, len(month_group2['shop_id'])):\n",
        "for i in range(67100, 69100):\n",
        "  new_pd = month_group2.loc[month_group2['date_block_num'] == month_group2['date_block_num'][i]-1].loc[month_group2['shop_id'] == month_group2['shop_id'][i]].loc[month_group2['item_id'] == month_group2['item_id'][i]]\n",
        "  #new_pd2 = df1.loc[month_group2['date_block_num'][i]-2], month_group2['shop_id'][i]], month_group2['item_id'][i]]\n",
        "  #new_pd3 = df1.loc[month_group2['date_block_num'][i]-3], month_group2['shop_id'][i]], month_group2['item_id'][i]]\n",
        "  #new_pd4 = df1.loc[month_group2['date_block_num'][i]-4], month_group2['shop_id'][i]], month_group2['item_id'][i]]\n",
        "  #new_pd5 = df1.loc[month_group2['date_block_num'][i]-5], month_group2['shop_id'][i]], month_group2['item_id'][i]]\n",
        "  #print(len(new_pd['date_block_num']))\n",
        "  if len(new_pd['shop_id']) > 0:\n",
        "    month_group2['mon_lag_1'][i] = month_group2['item_cnt_day'][new_pd.index[0]]\n",
        "    print(i)\n",
        "\n",
        "  #if len(new_pd2['shop_id']) > 0:\n",
        "  #  month_group2['mon_lag_2'][i] = month_group2['item_cnt_day'][new_pd2.index[0]]\n",
        "\n",
        "  #if len(new_pd3['shop_id']) > 0:\n",
        "  #  month_group2['mon_lag_3'][i] = month_group2['item_cnt_day'][new_pd3.index[0]]\n",
        "\n",
        "  #if len(new_pd4['shop_id']) > 0:\n",
        "  #  month_group2['mon_lag_4'][i] = month_group2['item_cnt_day'][new_pd4.index[0]]\n",
        "\n",
        "  #if len(new_pd5['shop_id']) > 0:\n",
        "  #  month_group2['mon_lag_5'][i] = month_group2['item_cnt_day'][new_pd5.index[0]]\n",
        "\n",
        "print(time.time() - start)\n",
        "#0"
      ],
      "execution_count": null,
      "outputs": []
    },
    {
      "cell_type": "code",
      "metadata": {
        "id": "90__mQEBFUFF",
        "colab_type": "code",
        "colab": {}
      },
      "source": [
        "# nominal intergers can not be converted to binary encoding, convert to string\n",
        "month_group2['date_block_num'] = [('month ' + str(i)) for i in month_group2['date_block_num']]\n",
        "month_group2['shop_id'] = [('shop ' + str(i)) for i in month_group2['shop_id']]\n",
        "month_group2['item_category_id'] = [('item_category ' + str(i)) for i in month_group2['item_category_id']]\n",
        "month_group2['item_id'] = [('item ' + str(i)) for i in month_group2['item_id']]"
      ],
      "execution_count": null,
      "outputs": []
    },
    {
      "cell_type": "code",
      "metadata": {
        "id": "21oAqBEQFZ1U",
        "colab_type": "code",
        "colab": {}
      },
      "source": [
        "# break into X and Y, where X is the inputs and Y is our output\n",
        "X = month_group2.iloc[:, :-1].values\n",
        "Y = month_group2.iloc[:,-1].values"
      ],
      "execution_count": null,
      "outputs": []
    },
    {
      "cell_type": "code",
      "metadata": {
        "id": "jW5sxuUhFjDU",
        "colab_type": "code",
        "colab": {}
      },
      "source": [
        "# Encoding categorical data\n",
        "# used to provide a value to data that can be then used in equations, eg. Friday = 1 etc.\n",
        "from sklearn.preprocessing import LabelEncoder, OneHotEncoder\n",
        "from sklearn.compose import ColumnTransformer\n",
        "\n",
        "# the only variable which is not categorical is item_price, hence all other variable will be converted\n",
        "ct = ColumnTransformer([('encoder', OneHotEncoder(), [0, 1, 2, 3])], remainder = 'passthrough')\n",
        "#X = np.array(ct.fit_transform(X), dtype=object)\n",
        "X = ct.fit_transform(X)\n",
        "# convert back to 2-D representation of the matrix from sparse matrix representation \n",
        "#X = X.todense()"
      ],
      "execution_count": null,
      "outputs": []
    },
    {
      "cell_type": "code",
      "metadata": {
        "id": "jLIQBGCCFl06",
        "colab_type": "code",
        "colab": {}
      },
      "source": [
        "# split data set into training set and testing set\n",
        "from sklearn.model_selection import train_test_split\n",
        "X_train, X_test, Y_train, Y_test = train_test_split(X, Y,test_size = 0.2, random_state = 0)"
      ],
      "execution_count": null,
      "outputs": []
    },
    {
      "cell_type": "code",
      "metadata": {
        "id": "yjvjZ8n4Jpvn",
        "colab_type": "code",
        "colab": {}
      },
      "source": [
        "from sklearn.ensemble import ExtraTreesRegressor\n",
        "tree_reg = ExtraTreesRegressor(n_estimators=10, random_state=0).fit(X_train, Y_train)\n",
        "tree_reg.score(X_test, Y_test)"
      ],
      "execution_count": null,
      "outputs": []
    },
    {
      "cell_type": "code",
      "metadata": {
        "id": "FnVORJobFnhQ",
        "colab_type": "code",
        "colab": {}
      },
      "source": [
        "# fitting multiple linear regression to the training set\n",
        "from sklearn.linear_model import LinearRegression\n",
        "regressor = LinearRegression() \n",
        "regressor.fit(X_train, Y_train)"
      ],
      "execution_count": null,
      "outputs": []
    },
    {
      "cell_type": "code",
      "metadata": {
        "id": "ajYH5HSWFr9s",
        "colab_type": "code",
        "colab": {}
      },
      "source": [
        "# Cross validation\n",
        "from sklearn.model_selection import cross_val_score as cvs\n",
        "reg_score = cvs(regressor, X_train, Y_train, scoring = \"neg_mean_squared_error\", cv = 10)\n",
        "reg_score = np.sqrt(-reg_score)"
      ],
      "execution_count": null,
      "outputs": []
    },
    {
      "cell_type": "code",
      "metadata": {
        "id": "Cf85TVHdFtml",
        "colab_type": "code",
        "colab": {}
      },
      "source": [
        "def display_scores(scores):\n",
        "    print(\"rmse Scores:\", scores)\n",
        "    print(\"Mean:\", scores.mean())\n",
        "    print(\"Standard deviation:\", scores.std())"
      ],
      "execution_count": null,
      "outputs": []
    },
    {
      "cell_type": "code",
      "metadata": {
        "id": "fNOCiorHFxzP",
        "colab_type": "code",
        "colab": {
          "base_uri": "https://localhost:8080/",
          "height": 54
        },
        "outputId": "70f3fc7b-579a-4a73-9f27-0d79a2823464"
      },
      "source": [
        "from sklearn.linear_model import Ridge\n",
        "ridge_reg = Ridge(alpha=1e-2, fit_intercept=False, solver=\"cholesky\")\n",
        "#ridge_reg = Ridge(alpha)\n",
        "ridge_reg.fit(X_train, Y_train)"
      ],
      "execution_count": null,
      "outputs": [
        {
          "output_type": "execute_result",
          "data": {
            "text/plain": [
              "Ridge(alpha=0.01, copy_X=True, fit_intercept=False, max_iter=None,\n",
              "      normalize=False, random_state=None, solver='cholesky', tol=0.001)"
            ]
          },
          "metadata": {
            "tags": []
          },
          "execution_count": 15
        }
      ]
    },
    {
      "cell_type": "code",
      "metadata": {
        "id": "pHgoCAgDF04T",
        "colab_type": "code",
        "colab": {
          "base_uri": "https://localhost:8080/",
          "height": 72
        },
        "outputId": "e0a24627-9f6c-4ffa-df98-f1c402fd9425"
      },
      "source": [
        "ridge_score = cvs(ridge_reg, X_train, Y_train, scoring = \"neg_mean_squared_error\", cv = 5)\n",
        "ridge_score = np.sqrt(-ridge_score)\n",
        "#display_scores(reg_score)\n",
        "display_scores(ridge_score)"
      ],
      "execution_count": null,
      "outputs": [
        {
          "output_type": "stream",
          "text": [
            "rmse Scores: [5.84978032 5.80009775 6.67136631 6.69919088 7.91456632]\n",
            "Mean: 6.587000316114688\n",
            "Standard deviation: 0.7674431344051948\n"
          ],
          "name": "stdout"
        }
      ]
    },
    {
      "cell_type": "code",
      "metadata": {
        "id": "mMHQhONhF1kU",
        "colab_type": "code",
        "colab": {}
      },
      "source": [
        "# Grid search to find good hyperparameters\n",
        "from sklearn.model_selection import GridSearchCV\n",
        "\n",
        "# get parameters for hyperparameter tuning\n",
        "#print(regressor.get_params().keys())\n",
        "print(ridge_reg.get_params().keys())\n",
        "\n",
        "\n",
        "#param_grid_reg = [{'fit_intercept': [True, False], 'normalize': [True, False]}]\n",
        "\n",
        "param_grid_ridge = [{'alpha': [1e-1, 1]\n",
        "                     , 'fit_intercept': [False]\n",
        "                     , 'normalize': [True, False]\n",
        "                     , 'solver': ['cholesky', 'lsqr']}]\n",
        "\n",
        "#grid_search_reg = GridSearchCV(regressor, param_grid_reg, cv=5, scoring='neg_mean_squared_error', return_train_score=True)\n",
        "grid_search_ridge = GridSearchCV(ridge_reg, param_grid_ridge, cv=5, scoring='neg_mean_squared_error', return_train_score=True)\n",
        "\n",
        "#grid_search_reg.fit(X_test, Y_test)\n",
        "grid_search_ridge.fit(X_test, Y_test)"
      ],
      "execution_count": null,
      "outputs": []
    },
    {
      "cell_type": "code",
      "metadata": {
        "id": "QvKZpvMnF-7V",
        "colab_type": "code",
        "colab": {}
      },
      "source": [
        "cvres = grid_search_ridge.cv_results_\n",
        "for mean_score, params in zip(cvres[\"mean_test_score\"], cvres[\"params\"]):\n",
        "    print(np.sqrt(-mean_score), params)"
      ],
      "execution_count": null,
      "outputs": []
    }
  ]
}